{
 "cells": [
  {
   "cell_type": "markdown",
   "metadata": {},
   "source": [
    "## Portfolio Exercise: Starbucks\n",
    "<br>\n",
    "\n",
    "<img src=\"https://opj.ca/wp-content/uploads/2018/02/New-Starbucks-Logo-1200x969.jpg\" width=\"200\" height=\"200\">\n",
    "<br>\n",
    "<br>\n",
    " \n",
    "#### Background Information\n",
    "\n",
    "The dataset you will be provided in this portfolio exercise was originally used as a take-home assignment provided by Starbucks for their job candidates. The data for this exercise consists of about 120,000 data points split in a 2:1 ratio among training and test files. In the experiment simulated by the data, an advertising promotion was tested to see if it would bring more customers to purchase a specific product priced at $10. Since it costs the company 0.15 to send out each promotion, it would be best to limit that promotion only to those that are most receptive to the promotion. Each data point includes one column indicating whether or not an individual was sent a promotion for the product, and one column indicating whether or not that individual eventually purchased that product. Each individual also has seven additional features associated with them, which are provided abstractly as V1-V7.\n",
    "\n",
    "#### Optimization Strategy\n",
    "\n",
    "Your task is to use the training data to understand what patterns in V1-V7 to indicate that a promotion should be provided to a user. Specifically, your goal is to maximize the following metrics:\n",
    "\n",
    "* **Incremental Response Rate (IRR)** \n",
    "\n",
    "IRR depicts how many more customers purchased the product with the promotion, as compared to if they didn't receive the promotion. Mathematically, it's the ratio of the number of purchasers in the promotion group to the total number of customers in the purchasers group (_treatment_) minus the ratio of the number of purchasers in the non-promotional group to the total number of customers in the non-promotional group (_control_).\n",
    "\n",
    "$$ IRR = \\frac{purch_{treat}}{cust_{treat}} - \\frac{purch_{ctrl}}{cust_{ctrl}} $$\n",
    "\n",
    "\n",
    "* **Net Incremental Revenue (NIR)**\n",
    "\n",
    "NIR depicts how much is made (or lost) by sending out the promotion. Mathematically, this is 10 times the total number of purchasers that received the promotion minus 0.15 times the number of promotions sent out, minus 10 times the number of purchasers who were not given the promotion.\n",
    "\n",
    "$$ NIR = (10\\cdot purch_{treat} - 0.15 \\cdot cust_{treat}) - 10 \\cdot purch_{ctrl}$$\n",
    "\n",
    "For a full description of what Starbucks provides to candidates see the [instructions available here](https://drive.google.com/open?id=18klca9Sef1Rs6q8DW4l7o349r8B70qXM).\n",
    "\n",
    "Below you can find the training data provided.  Explore the data and different optimization strategies.\n",
    "\n",
    "#### How To Test Your Strategy?\n",
    "\n",
    "When you feel like you have an optimization strategy, complete the `promotion_strategy` function to pass to the `test_results` function.  \n",
    "From past data, we know there are four possible outomes:\n",
    "\n",
    "Table of actual promotion vs. predicted promotion customers:  \n",
    "\n",
    "<table>\n",
    "<tr><th></th><th colspan = '2'>Actual</th></tr>\n",
    "<tr><th>Predicted</th><th>Yes</th><th>No</th></tr>\n",
    "<tr><th>Yes</th><td>I</td><td>II</td></tr>\n",
    "<tr><th>No</th><td>III</td><td>IV</td></tr>\n",
    "</table>\n",
    "\n",
    "The metrics are only being compared for the individuals we predict should obtain the promotion – that is, quadrants I and II.  Since the first set of individuals that receive the promotion (in the training set) receive it randomly, we can expect that quadrants I and II will have approximately equivalent participants.  \n",
    "\n",
    "Comparing quadrant I to II then gives an idea of how well your promotion strategy will work in the future. \n",
    "\n",
    "Get started by reading in the data below.  See how each variable or combination of variables along with a promotion influences the chance of purchasing.  When you feel like you have a strategy for who should receive a promotion, test your strategy against the test dataset used in the final `test_results` function."
   ]
  },
  {
   "cell_type": "code",
   "execution_count": 2,
   "metadata": {},
   "outputs": [
    {
     "name": "stdout",
     "output_type": "stream",
     "text": [
      "Requirement already satisfied: pip in c:\\users\\ejmason\\appdata\\local\\continuum\\anaconda3\\lib\\site-packages (20.2.4)\n",
      "Requirement already satisfied: setuptools in c:\\users\\ejmason\\appdata\\local\\continuum\\anaconda3\\lib\\site-packages (50.3.1.post20201107)\n"
     ]
    }
   ],
   "source": [
    "!pip install --trusted-host pypi.org --trusted-host files.pythonhosted.org pip setuptools"
   ]
  },
  {
   "cell_type": "code",
   "execution_count": 4,
   "metadata": {
    "scrolled": true
   },
   "outputs": [
    {
     "name": "stdout",
     "output_type": "stream",
     "text": [
      "Collecting imblearn\n",
      "  Downloading imblearn-0.0-py2.py3-none-any.whl (1.9 kB)\n",
      "Requirement already satisfied: imbalanced-learn in c:\\users\\ejmason\\appdata\\local\\continuum\\anaconda3\\lib\\site-packages (from imblearn) (0.7.0)\n",
      "Requirement already satisfied: scikit-learn>=0.23 in c:\\users\\ejmason\\appdata\\local\\continuum\\anaconda3\\lib\\site-packages (from imbalanced-learn->imblearn) (0.23.1)\n",
      "Requirement already satisfied: joblib>=0.11 in c:\\users\\ejmason\\appdata\\local\\continuum\\anaconda3\\lib\\site-packages (from imbalanced-learn->imblearn) (0.17.0)\n",
      "Requirement already satisfied: scipy>=0.19.1 in c:\\users\\ejmason\\appdata\\local\\continuum\\anaconda3\\lib\\site-packages (from imbalanced-learn->imblearn) (1.5.2)\n",
      "Requirement already satisfied: numpy>=1.13.3 in c:\\users\\ejmason\\appdata\\local\\continuum\\anaconda3\\lib\\site-packages (from imbalanced-learn->imblearn) (1.19.2)\n",
      "Requirement already satisfied: threadpoolctl>=2.0.0 in c:\\users\\ejmason\\appdata\\local\\continuum\\anaconda3\\lib\\site-packages (from scikit-learn>=0.23->imbalanced-learn->imblearn) (2.1.0)\n",
      "Installing collected packages: imblearn\n",
      "Successfully installed imblearn-0.0\n"
     ]
    }
   ],
   "source": [
    "!pip3 install --trusted-host pypi.org --trusted-host files.pythonhosted.org imblearn"
   ]
  },
  {
   "cell_type": "code",
   "execution_count": 68,
   "metadata": {
    "scrolled": true
   },
   "outputs": [
    {
     "name": "stdout",
     "output_type": "stream",
     "text": [
      "altair==1.2.1\n",
      "asn1crypto==0.22.0\n",
      "atari-py==0.1.7\n",
      "atomicwrites==1.3.0\n",
      "attrs==19.1.0\n",
      "audioread==2.1.6\n",
      "av==0.3.3\n",
      "awscli==1.16.17\n",
      "backcall==0.1.0\n",
      "backports.functools-lru-cache==1.4\n",
      "backports.weakref==1.0rc1\n",
      "beautifulsoup4==4.6.0\n",
      "bleach==1.5.0\n",
      "blinker==1.4\n",
      "bokeh==0.12.13\n",
      "boto==2.48.0\n",
      "boto3==1.9.7\n",
      "botocore==1.12.7\n",
      "Box2D==2.3.2\n",
      "Box2D-kengz==2.3.3\n",
      "bresenham==0.2\n",
      "bz2file==0.98\n",
      "cassandra-driver==3.11.0\n",
      "certifi==2019.11.28\n",
      "cffi==1.11.2\n",
      "chardet==3.0.4\n",
      "click==6.7\n",
      "cloudpickle==0.2.2\n",
      "colorama==0.3.9\n",
      "colour==0.1.5\n",
      "conda==4.6.14\n",
      "cryptography==2.1.4\n",
      "cycler==0.10.0\n",
      "Cython==0.29.7\n",
      "cytoolz==0.9.0.1\n",
      "dask==0.16.1\n",
      "decorator==4.0.11\n",
      "defusedxml==0.5.0\n",
      "dill==0.2.7.1\n",
      "docutils==0.14\n",
      "dronekit==2.9.2\n",
      "entrypoints==0.2.3\n",
      "et-xmlfile==1.0.1\n",
      "eventlet==0.22.0\n",
      "fastcache==1.0.2\n",
      "Flask==0.12.2\n",
      "Flask-SocketIO==2.9.2\n",
      "future==0.16.0\n",
      "gensim==3.4.0\n",
      "glfw==1.8.0\n",
      "greenlet==0.4.12\n",
      "gym==0.9.6\n",
      "h5py==2.7.1\n",
      "heapdict==1.0.0\n",
      "html2text==2018.1.9\n",
      "html5lib==0.9999999\n",
      "idna==2.6\n",
      "imageio==2.1.2\n",
      "imbalanced-learn==0.7.0\n",
      "ipykernel==4.9.0\n",
      "ipython==6.5.0\n",
      "ipython-genutils==0.2.0\n",
      "ipython-sql==0.3.9\n",
      "ipywidgets==7.0.5\n",
      "itsdangerous==0.24\n",
      "jdc==0.0.8\n",
      "jdcal==1.3\n",
      "jedi==0.10.2\n",
      "jieba==0.39\n",
      "Jinja2==2.10\n",
      "jmespath==0.9.3\n",
      "joblib==0.11\n",
      "json5==0.8.5\n",
      "jsonschema==2.6.0\n",
      "jupyter-client==5.2.4\n",
      "jupyter-core==4.4.0\n",
      "jupyterlab==1.0.9\n",
      "jupyterlab-server==1.0.0\n",
      "Keras==2.0.9\n",
      "librosa==0.5.1\n",
      "llvmlite==0.20.0\n",
      "locket==0.2.0\n",
      "lockfile==0.12.2\n",
      "lxml==4.1.1\n",
      "Mako==1.0.7\n",
      "Markdown==2.6.9\n",
      "MarkupSafe==1.0\n",
      "matplotlib==2.1.0\n",
      "mistune==0.8.3\n",
      "mock==2.0.0\n",
      "monotonic==1.3\n",
      "more-itertools==7.0.0\n",
      "moviepy==0.2.3.2\n",
      "msgpack==0.5.6\n",
      "msgpack-python==0.4.8\n",
      "mujoco-py==1.50.1.59\n",
      "nbconvert==5.4.0\n",
      "nbformat==4.4.0\n",
      "nbzip==0.1.0\n",
      "networkx==1.11\n",
      "nltk==3.2.5\n",
      "notebook==5.7.0\n",
      "numba==0.35.0\n",
      "numexpr==2.6.4\n",
      "numpy==1.19.4\n",
      "oauthlib==2.0.6\n",
      "olefile==0.44\n",
      "openpyxl==2.5.0b1\n",
      "packaging==16.8\n",
      "pandas==0.23.3\n",
      "pandocfilters==1.4.1\n",
      "parso==0.4.0\n",
      "partd==0.3.8\n",
      "patsy==0.4.1\n",
      "pbr==3.1.1\n",
      "pexpect==4.3.1\n",
      "pickleshare==0.7.4\n",
      "Pillow==5.2.0\n",
      "pinyin==0.4.0\n",
      "plotly==2.0.15\n",
      "pluggy==0.11.0\n",
      "pomegranate==0.9.0\n",
      "prettytable==0.7.2\n",
      "prometheus-client==0.3.1\n",
      "prompt-toolkit==1.0.15\n",
      "protobuf==3.5.1\n",
      "psutil==5.4.0\n",
      "psycopg2==2.7.4\n",
      "ptyprocess==0.5.2\n",
      "py==1.8.0\n",
      "py4j==0.10.7\n",
      "pyasn1==0.4.4\n",
      "pycosat==0.6.3\n",
      "pycparser==2.18\n",
      "pycurl==7.43.0\n",
      "pydot==1.2.4\n",
      "pydotplus==2.0.2\n",
      "pyglet==1.3.0\n",
      "Pygments==2.2.0\n",
      "pygpu==0.7.5\n",
      "PyJWT==1.5.3\n",
      "pymavlink==2.2.20\n",
      "pymc3==3.2\n",
      "PyOpenGL==3.1.0\n",
      "pyOpenSSL==17.4.0\n",
      "pyparsing==2.2.0\n",
      "pyrsistent==0.15.2\n",
      "PySocks==1.6.8\n",
      "pyspark==2.4.3\n",
      "pytest==4.5.0\n",
      "python-crfsuite==0.9.2\n",
      "python-dateutil==2.6.1\n",
      "python-engineio==2.0.2\n",
      "python-socketio==1.8.4\n",
      "python-speech-features==0.6\n",
      "pytz==2017.3\n",
      "PyWavelets==0.5.2\n",
      "PyYAML==3.12\n",
      "pyzmq==17.1.2\n",
      "requests==2.18.4\n",
      "requests-oauthlib==0.8.0\n",
      "requests-toolbelt==0.9.1\n",
      "resampy==0.2.0\n",
      "rsa==3.4.2\n",
      "ruamel-yaml==0.11.14\n",
      "s3transfer==0.1.13\n",
      "scikit-image==0.14.2\n",
      "scikit-learn==0.23.2\n",
      "scipy==1.2.1\n",
      "seaborn==0.8.1\n",
      "SeekWell==0.1\n",
      "Send2Trash==1.5.0\n",
      "Shapely==1.6.4.post1\n",
      "simplegeneric==0.8.1\n",
      "SimpleWebSocketServer==0.1.1\n",
      "six==1.11.0\n",
      "smart-open==1.5.6\n",
      "snownlp==0.12.3\n",
      "SoundFile==0.9.0.post1\n",
      "SQLAlchemy==1.1.13\n",
      "sqlparse==0.3.0\n",
      "statsmodels==0.8.0\n",
      "sympy==1.0\n",
      "tensorflow==1.3.0\n",
      "terminado==0.8.1\n",
      "testpath==0.3.1\n",
      "Theano==1.0.1\n",
      "threadpoolctl==2.1.0\n",
      "toolz==0.8.2\n",
      "torch==0.4.0\n",
      "torchvision==0.2.1\n",
      "tornado==4.5.3\n",
      "tqdm==4.11.2\n",
      "traitlets==4.3.2\n",
      "tweepy==3.5.0\n",
      "twython==3.6.0\n",
      "udacity-pa==0.2.9\n",
      "urllib3==1.22\n",
      "utm==0.4.2\n",
      "uvloop==0.8.1\n",
      "vega==0.4.4\n",
      "vincent==0.4.4\n",
      "wcwidth==0.1.7\n",
      "webencodings==0.5\n",
      "websockets==4.0.1\n",
      "Werkzeug==0.14.1\n",
      "widgetsnbextension==3.1.0\n",
      "wordcloud==1.4.1\n",
      "wptools==0.4.7\n",
      "xlrd==1.1.0\n"
     ]
    }
   ],
   "source": [
    "!pip freeze"
   ]
  },
  {
   "cell_type": "code",
   "execution_count": 6,
   "metadata": {},
   "outputs": [
    {
     "name": "stdout",
     "output_type": "stream",
     "text": [
      "Requirement already up-to-date: numpy in /opt/conda/lib/python3.6/site-packages (1.19.4)\r\n"
     ]
    }
   ],
   "source": [
    "!pip install -U numpy"
   ]
  },
  {
   "cell_type": "markdown",
   "metadata": {},
   "source": [
    "!pip install -U imbalanced-learn"
   ]
  },
  {
   "cell_type": "code",
   "execution_count": 44,
   "metadata": {},
   "outputs": [],
   "source": [
    "!pip freeze > requirements.txt"
   ]
  },
  {
   "cell_type": "markdown",
   "metadata": {},
   "source": [
    "## Load packages"
   ]
  },
  {
   "cell_type": "markdown",
   "metadata": {},
   "source": [
    "### standard packages"
   ]
  },
  {
   "cell_type": "code",
   "execution_count": 5,
   "metadata": {},
   "outputs": [],
   "source": [
    "# load in packages\n",
    "from itertools import combinations\n",
    "\n",
    "from test_results import test_results, score\n",
    "import numpy as np\n",
    "import pandas as pd\n",
    "import scipy as sp\n",
    "import sklearn as sk\n",
    "\n",
    "import matplotlib.pyplot as plt\n",
    "import seaborn as sns\n",
    "%matplotlib inline"
   ]
  },
  {
   "cell_type": "markdown",
   "metadata": {},
   "source": [
    "### ML packages"
   ]
  },
  {
   "cell_type": "code",
   "execution_count": 6,
   "metadata": {},
   "outputs": [],
   "source": [
    "import scipy as sp\n",
    "import sklearn as sk\n",
    "\n",
    "from sklearn.model_selection import train_test_split\n",
    "from sklearn.model_selection import GridSearchCV\n",
    "from sklearn.model_selection import RandomizedSearchCV\n",
    "\n",
    "from sklearn.svm import LinearSVC\n",
    "from sklearn.linear_model import LogisticRegression\n",
    "\n",
    "from sklearn.multioutput import MultiOutputClassifier\n",
    "from sklearn.multiclass import OneVsRestClassifier\n",
    "from sklearn.ensemble import AdaBoostClassifier\n",
    "from sklearn.ensemble import RandomForestClassifier\n",
    "from sklearn.ensemble import GradientBoostingClassifier\n",
    "\n",
    "from sklearn.pipeline import Pipeline, FeatureUnion\n",
    "from sklearn.datasets import make_multilabel_classification\n",
    "from sklearn.metrics import confusion_matrix, precision_score, recall_score, accuracy_score, f1_score"
   ]
  },
  {
   "cell_type": "markdown",
   "metadata": {},
   "source": [
    "### Misc. Packages"
   ]
  },
  {
   "cell_type": "code",
   "execution_count": 7,
   "metadata": {
    "scrolled": true
   },
   "outputs": [],
   "source": [
    "# imbalance\n",
    "# from imblearn.over_sampling import SVMSMOTE\n",
    "from imblearn.over_sampling import SMOTE\n",
    "\n",
    "from imblearn.over_sampling import SVMSMOTE\n"
   ]
  },
  {
   "cell_type": "markdown",
   "metadata": {},
   "source": [
    "## Load Data"
   ]
  },
  {
   "cell_type": "code",
   "execution_count": 8,
   "metadata": {},
   "outputs": [
    {
     "data": {
      "text/html": [
       "<div>\n",
       "<style scoped>\n",
       "    .dataframe tbody tr th:only-of-type {\n",
       "        vertical-align: middle;\n",
       "    }\n",
       "\n",
       "    .dataframe tbody tr th {\n",
       "        vertical-align: top;\n",
       "    }\n",
       "\n",
       "    .dataframe thead th {\n",
       "        text-align: right;\n",
       "    }\n",
       "</style>\n",
       "<table border=\"1\" class=\"dataframe\">\n",
       "  <thead>\n",
       "    <tr style=\"text-align: right;\">\n",
       "      <th></th>\n",
       "      <th>ID</th>\n",
       "      <th>Promotion</th>\n",
       "      <th>purchase</th>\n",
       "      <th>V1</th>\n",
       "      <th>V2</th>\n",
       "      <th>V3</th>\n",
       "      <th>V4</th>\n",
       "      <th>V5</th>\n",
       "      <th>V6</th>\n",
       "      <th>V7</th>\n",
       "    </tr>\n",
       "  </thead>\n",
       "  <tbody>\n",
       "    <tr>\n",
       "      <th>0</th>\n",
       "      <td>1</td>\n",
       "      <td>No</td>\n",
       "      <td>0</td>\n",
       "      <td>2</td>\n",
       "      <td>30.443518</td>\n",
       "      <td>-1.165083</td>\n",
       "      <td>1</td>\n",
       "      <td>1</td>\n",
       "      <td>3</td>\n",
       "      <td>2</td>\n",
       "    </tr>\n",
       "    <tr>\n",
       "      <th>1</th>\n",
       "      <td>3</td>\n",
       "      <td>No</td>\n",
       "      <td>0</td>\n",
       "      <td>3</td>\n",
       "      <td>32.159350</td>\n",
       "      <td>-0.645617</td>\n",
       "      <td>2</td>\n",
       "      <td>3</td>\n",
       "      <td>2</td>\n",
       "      <td>2</td>\n",
       "    </tr>\n",
       "    <tr>\n",
       "      <th>2</th>\n",
       "      <td>4</td>\n",
       "      <td>No</td>\n",
       "      <td>0</td>\n",
       "      <td>2</td>\n",
       "      <td>30.431659</td>\n",
       "      <td>0.133583</td>\n",
       "      <td>1</td>\n",
       "      <td>1</td>\n",
       "      <td>4</td>\n",
       "      <td>2</td>\n",
       "    </tr>\n",
       "    <tr>\n",
       "      <th>3</th>\n",
       "      <td>5</td>\n",
       "      <td>No</td>\n",
       "      <td>0</td>\n",
       "      <td>0</td>\n",
       "      <td>26.588914</td>\n",
       "      <td>-0.212728</td>\n",
       "      <td>2</td>\n",
       "      <td>1</td>\n",
       "      <td>4</td>\n",
       "      <td>2</td>\n",
       "    </tr>\n",
       "    <tr>\n",
       "      <th>4</th>\n",
       "      <td>8</td>\n",
       "      <td>Yes</td>\n",
       "      <td>0</td>\n",
       "      <td>3</td>\n",
       "      <td>28.044332</td>\n",
       "      <td>-0.385883</td>\n",
       "      <td>1</td>\n",
       "      <td>1</td>\n",
       "      <td>2</td>\n",
       "      <td>2</td>\n",
       "    </tr>\n",
       "  </tbody>\n",
       "</table>\n",
       "</div>"
      ],
      "text/plain": [
       "   ID Promotion  purchase  V1         V2        V3  V4  V5  V6  V7\n",
       "0   1        No         0   2  30.443518 -1.165083   1   1   3   2\n",
       "1   3        No         0   3  32.159350 -0.645617   2   3   2   2\n",
       "2   4        No         0   2  30.431659  0.133583   1   1   4   2\n",
       "3   5        No         0   0  26.588914 -0.212728   2   1   4   2\n",
       "4   8       Yes         0   3  28.044332 -0.385883   1   1   2   2"
      ]
     },
     "execution_count": 8,
     "metadata": {},
     "output_type": "execute_result"
    }
   ],
   "source": [
    "# load in the data\n",
    "train_data = pd.read_csv('./training.csv')\n",
    "train_data.head()"
   ]
  },
  {
   "cell_type": "code",
   "execution_count": 9,
   "metadata": {},
   "outputs": [],
   "source": [
    "test_data = pd.read_csv('./Test.csv')"
   ]
  },
  {
   "cell_type": "code",
   "execution_count": 10,
   "metadata": {},
   "outputs": [
    {
     "data": {
      "text/html": [
       "<div>\n",
       "<style scoped>\n",
       "    .dataframe tbody tr th:only-of-type {\n",
       "        vertical-align: middle;\n",
       "    }\n",
       "\n",
       "    .dataframe tbody tr th {\n",
       "        vertical-align: top;\n",
       "    }\n",
       "\n",
       "    .dataframe thead th {\n",
       "        text-align: right;\n",
       "    }\n",
       "</style>\n",
       "<table border=\"1\" class=\"dataframe\">\n",
       "  <thead>\n",
       "    <tr style=\"text-align: right;\">\n",
       "      <th></th>\n",
       "      <th>ID</th>\n",
       "      <th>purchase</th>\n",
       "      <th>V1</th>\n",
       "      <th>V2</th>\n",
       "      <th>V3</th>\n",
       "      <th>V4</th>\n",
       "      <th>V5</th>\n",
       "      <th>V6</th>\n",
       "      <th>V7</th>\n",
       "    </tr>\n",
       "  </thead>\n",
       "  <tbody>\n",
       "    <tr>\n",
       "      <th>count</th>\n",
       "      <td>41650.000000</td>\n",
       "      <td>41650.000000</td>\n",
       "      <td>41650.000000</td>\n",
       "      <td>41650.000000</td>\n",
       "      <td>41650.000000</td>\n",
       "      <td>41650.000000</td>\n",
       "      <td>41650.000000</td>\n",
       "      <td>41650.000000</td>\n",
       "      <td>41650.000000</td>\n",
       "    </tr>\n",
       "    <tr>\n",
       "      <th>mean</th>\n",
       "      <td>63339.155774</td>\n",
       "      <td>0.011525</td>\n",
       "      <td>1.493469</td>\n",
       "      <td>29.986774</td>\n",
       "      <td>-0.000387</td>\n",
       "      <td>1.680792</td>\n",
       "      <td>2.319256</td>\n",
       "      <td>2.505642</td>\n",
       "      <td>1.704010</td>\n",
       "    </tr>\n",
       "    <tr>\n",
       "      <th>std</th>\n",
       "      <td>36441.521173</td>\n",
       "      <td>0.106734</td>\n",
       "      <td>0.864138</td>\n",
       "      <td>4.981025</td>\n",
       "      <td>0.999026</td>\n",
       "      <td>0.466175</td>\n",
       "      <td>0.845162</td>\n",
       "      <td>1.119879</td>\n",
       "      <td>0.456492</td>\n",
       "    </tr>\n",
       "    <tr>\n",
       "      <th>min</th>\n",
       "      <td>2.000000</td>\n",
       "      <td>0.000000</td>\n",
       "      <td>0.000000</td>\n",
       "      <td>9.202546</td>\n",
       "      <td>-1.684550</td>\n",
       "      <td>1.000000</td>\n",
       "      <td>1.000000</td>\n",
       "      <td>1.000000</td>\n",
       "      <td>1.000000</td>\n",
       "    </tr>\n",
       "    <tr>\n",
       "      <th>25%</th>\n",
       "      <td>31688.500000</td>\n",
       "      <td>0.000000</td>\n",
       "      <td>1.000000</td>\n",
       "      <td>26.606134</td>\n",
       "      <td>-0.905350</td>\n",
       "      <td>1.000000</td>\n",
       "      <td>2.000000</td>\n",
       "      <td>2.000000</td>\n",
       "      <td>1.000000</td>\n",
       "    </tr>\n",
       "    <tr>\n",
       "      <th>50%</th>\n",
       "      <td>63601.000000</td>\n",
       "      <td>0.000000</td>\n",
       "      <td>1.000000</td>\n",
       "      <td>29.979507</td>\n",
       "      <td>-0.039572</td>\n",
       "      <td>2.000000</td>\n",
       "      <td>2.000000</td>\n",
       "      <td>3.000000</td>\n",
       "      <td>2.000000</td>\n",
       "    </tr>\n",
       "    <tr>\n",
       "      <th>75%</th>\n",
       "      <td>95017.250000</td>\n",
       "      <td>0.000000</td>\n",
       "      <td>2.000000</td>\n",
       "      <td>33.369989</td>\n",
       "      <td>0.826206</td>\n",
       "      <td>2.000000</td>\n",
       "      <td>3.000000</td>\n",
       "      <td>4.000000</td>\n",
       "      <td>2.000000</td>\n",
       "    </tr>\n",
       "    <tr>\n",
       "      <th>max</th>\n",
       "      <td>126178.000000</td>\n",
       "      <td>1.000000</td>\n",
       "      <td>3.000000</td>\n",
       "      <td>55.107509</td>\n",
       "      <td>1.691984</td>\n",
       "      <td>2.000000</td>\n",
       "      <td>4.000000</td>\n",
       "      <td>4.000000</td>\n",
       "      <td>2.000000</td>\n",
       "    </tr>\n",
       "  </tbody>\n",
       "</table>\n",
       "</div>"
      ],
      "text/plain": [
       "                  ID      purchase            V1            V2            V3  \\\n",
       "count   41650.000000  41650.000000  41650.000000  41650.000000  41650.000000   \n",
       "mean    63339.155774      0.011525      1.493469     29.986774     -0.000387   \n",
       "std     36441.521173      0.106734      0.864138      4.981025      0.999026   \n",
       "min         2.000000      0.000000      0.000000      9.202546     -1.684550   \n",
       "25%     31688.500000      0.000000      1.000000     26.606134     -0.905350   \n",
       "50%     63601.000000      0.000000      1.000000     29.979507     -0.039572   \n",
       "75%     95017.250000      0.000000      2.000000     33.369989      0.826206   \n",
       "max    126178.000000      1.000000      3.000000     55.107509      1.691984   \n",
       "\n",
       "                 V4            V5            V6            V7  \n",
       "count  41650.000000  41650.000000  41650.000000  41650.000000  \n",
       "mean       1.680792      2.319256      2.505642      1.704010  \n",
       "std        0.466175      0.845162      1.119879      0.456492  \n",
       "min        1.000000      1.000000      1.000000      1.000000  \n",
       "25%        1.000000      2.000000      2.000000      1.000000  \n",
       "50%        2.000000      2.000000      3.000000      2.000000  \n",
       "75%        2.000000      3.000000      4.000000      2.000000  \n",
       "max        2.000000      4.000000      4.000000      2.000000  "
      ]
     },
     "execution_count": 10,
     "metadata": {},
     "output_type": "execute_result"
    }
   ],
   "source": [
    "test_data.describe()"
   ]
  },
  {
   "cell_type": "code",
   "execution_count": 11,
   "metadata": {},
   "outputs": [
    {
     "data": {
      "text/html": [
       "<div>\n",
       "<style scoped>\n",
       "    .dataframe tbody tr th:only-of-type {\n",
       "        vertical-align: middle;\n",
       "    }\n",
       "\n",
       "    .dataframe tbody tr th {\n",
       "        vertical-align: top;\n",
       "    }\n",
       "\n",
       "    .dataframe thead th {\n",
       "        text-align: right;\n",
       "    }\n",
       "</style>\n",
       "<table border=\"1\" class=\"dataframe\">\n",
       "  <thead>\n",
       "    <tr style=\"text-align: right;\">\n",
       "      <th></th>\n",
       "      <th>ID</th>\n",
       "      <th>purchase</th>\n",
       "      <th>V1</th>\n",
       "      <th>V2</th>\n",
       "      <th>V3</th>\n",
       "      <th>V4</th>\n",
       "      <th>V5</th>\n",
       "      <th>V6</th>\n",
       "      <th>V7</th>\n",
       "    </tr>\n",
       "  </thead>\n",
       "  <tbody>\n",
       "    <tr>\n",
       "      <th>count</th>\n",
       "      <td>84534.000000</td>\n",
       "      <td>84534.000000</td>\n",
       "      <td>84534.000000</td>\n",
       "      <td>84534.000000</td>\n",
       "      <td>84534.000000</td>\n",
       "      <td>84534.000000</td>\n",
       "      <td>84534.000000</td>\n",
       "      <td>84534.000000</td>\n",
       "      <td>84534.000000</td>\n",
       "    </tr>\n",
       "    <tr>\n",
       "      <th>mean</th>\n",
       "      <td>62970.972413</td>\n",
       "      <td>0.012303</td>\n",
       "      <td>1.500662</td>\n",
       "      <td>29.973600</td>\n",
       "      <td>0.000190</td>\n",
       "      <td>1.679608</td>\n",
       "      <td>2.327643</td>\n",
       "      <td>2.502898</td>\n",
       "      <td>1.701694</td>\n",
       "    </tr>\n",
       "    <tr>\n",
       "      <th>std</th>\n",
       "      <td>36418.440539</td>\n",
       "      <td>0.110234</td>\n",
       "      <td>0.868234</td>\n",
       "      <td>5.010626</td>\n",
       "      <td>1.000485</td>\n",
       "      <td>0.466630</td>\n",
       "      <td>0.841167</td>\n",
       "      <td>1.117349</td>\n",
       "      <td>0.457517</td>\n",
       "    </tr>\n",
       "    <tr>\n",
       "      <th>min</th>\n",
       "      <td>1.000000</td>\n",
       "      <td>0.000000</td>\n",
       "      <td>0.000000</td>\n",
       "      <td>7.104007</td>\n",
       "      <td>-1.684550</td>\n",
       "      <td>1.000000</td>\n",
       "      <td>1.000000</td>\n",
       "      <td>1.000000</td>\n",
       "      <td>1.000000</td>\n",
       "    </tr>\n",
       "    <tr>\n",
       "      <th>25%</th>\n",
       "      <td>31467.250000</td>\n",
       "      <td>0.000000</td>\n",
       "      <td>1.000000</td>\n",
       "      <td>26.591501</td>\n",
       "      <td>-0.905350</td>\n",
       "      <td>1.000000</td>\n",
       "      <td>2.000000</td>\n",
       "      <td>2.000000</td>\n",
       "      <td>1.000000</td>\n",
       "    </tr>\n",
       "    <tr>\n",
       "      <th>50%</th>\n",
       "      <td>62827.500000</td>\n",
       "      <td>0.000000</td>\n",
       "      <td>2.000000</td>\n",
       "      <td>29.979744</td>\n",
       "      <td>-0.039572</td>\n",
       "      <td>2.000000</td>\n",
       "      <td>2.000000</td>\n",
       "      <td>3.000000</td>\n",
       "      <td>2.000000</td>\n",
       "    </tr>\n",
       "    <tr>\n",
       "      <th>75%</th>\n",
       "      <td>94438.750000</td>\n",
       "      <td>0.000000</td>\n",
       "      <td>2.000000</td>\n",
       "      <td>33.344593</td>\n",
       "      <td>0.826206</td>\n",
       "      <td>2.000000</td>\n",
       "      <td>3.000000</td>\n",
       "      <td>4.000000</td>\n",
       "      <td>2.000000</td>\n",
       "    </tr>\n",
       "    <tr>\n",
       "      <th>max</th>\n",
       "      <td>126184.000000</td>\n",
       "      <td>1.000000</td>\n",
       "      <td>3.000000</td>\n",
       "      <td>50.375913</td>\n",
       "      <td>1.691984</td>\n",
       "      <td>2.000000</td>\n",
       "      <td>4.000000</td>\n",
       "      <td>4.000000</td>\n",
       "      <td>2.000000</td>\n",
       "    </tr>\n",
       "  </tbody>\n",
       "</table>\n",
       "</div>"
      ],
      "text/plain": [
       "                  ID      purchase            V1            V2            V3  \\\n",
       "count   84534.000000  84534.000000  84534.000000  84534.000000  84534.000000   \n",
       "mean    62970.972413      0.012303      1.500662     29.973600      0.000190   \n",
       "std     36418.440539      0.110234      0.868234      5.010626      1.000485   \n",
       "min         1.000000      0.000000      0.000000      7.104007     -1.684550   \n",
       "25%     31467.250000      0.000000      1.000000     26.591501     -0.905350   \n",
       "50%     62827.500000      0.000000      2.000000     29.979744     -0.039572   \n",
       "75%     94438.750000      0.000000      2.000000     33.344593      0.826206   \n",
       "max    126184.000000      1.000000      3.000000     50.375913      1.691984   \n",
       "\n",
       "                 V4            V5            V6            V7  \n",
       "count  84534.000000  84534.000000  84534.000000  84534.000000  \n",
       "mean       1.679608      2.327643      2.502898      1.701694  \n",
       "std        0.466630      0.841167      1.117349      0.457517  \n",
       "min        1.000000      1.000000      1.000000      1.000000  \n",
       "25%        1.000000      2.000000      2.000000      1.000000  \n",
       "50%        2.000000      2.000000      3.000000      2.000000  \n",
       "75%        2.000000      3.000000      4.000000      2.000000  \n",
       "max        2.000000      4.000000      4.000000      2.000000  "
      ]
     },
     "execution_count": 11,
     "metadata": {},
     "output_type": "execute_result"
    }
   ],
   "source": [
    "train_data.describe()"
   ]
  },
  {
   "cell_type": "markdown",
   "metadata": {},
   "source": [
    "## Parse and Inspect Data"
   ]
  },
  {
   "cell_type": "code",
   "execution_count": 12,
   "metadata": {},
   "outputs": [],
   "source": [
    "features = train_data.columns[3:]"
   ]
  },
  {
   "cell_type": "code",
   "execution_count": 13,
   "metadata": {},
   "outputs": [],
   "source": [
    "train_data.Promotion = train_data.Promotion.replace(['Yes', 'No'], [1,0])"
   ]
  },
  {
   "cell_type": "code",
   "execution_count": 14,
   "metadata": {},
   "outputs": [],
   "source": [
    "test_data.Promotion = test_data.Promotion.replace(['Yes', 'No'], [1,0])"
   ]
  },
  {
   "cell_type": "code",
   "execution_count": 15,
   "metadata": {
    "scrolled": true
   },
   "outputs": [
    {
     "data": {
      "image/png": "[encoded data removed]",
      "text/plain": [
       "<Figure size 432x288 with 1 Axes>"
      ]
     },
     "metadata": {
      "needs_background": "light"
     },
     "output_type": "display_data"
    },
    {
     "data": {
      "image/png": "[encoded data removed]",
      "text/plain": [
       "<Figure size 432x288 with 1 Axes>"
      ]
     },
     "metadata": {
      "needs_background": "light"
     },
     "output_type": "display_data"
    },
    {
     "data": {
      "image/png": "[encoded data removed]",
      "text/plain": [
       "<Figure size 432x288 with 1 Axes>"
      ]
     },
     "metadata": {
      "needs_background": "light"
     },
     "output_type": "display_data"
    },
    {
     "data": {
      "image/png": "[encoded data removed]",
      "text/plain": [
       "<Figure size 432x288 with 1 Axes>"
      ]
     },
     "metadata": {
      "needs_background": "light"
     },
     "output_type": "display_data"
    },
    {
     "data": {
      "image/png": "[encoded data removed]",
      "text/plain": [
       "<Figure size 432x288 with 1 Axes>"
      ]
     },
     "metadata": {
      "needs_background": "light"
     },
     "output_type": "display_data"
    },
    {
     "data": {
      "image/png": "[encoded data removed]",
      "text/plain": [
       "<Figure size 432x288 with 1 Axes>"
      ]
     },
     "metadata": {
      "needs_background": "light"
     },
     "output_type": "display_data"
    },
    {
     "data": {
      "image/png": "[encoded data removed]",
      "text/plain": [
       "<Figure size 432x288 with 1 Axes>"
      ]
     },
     "metadata": {
      "needs_background": "light"
     },
     "output_type": "display_data"
    }
   ],
   "source": [
    "for f in features:\n",
    "    plt.hist([train_data[f], test_data[f]], label=['train', 'test'])\n",
    "    plt.title(f)\n",
    "    plt.legend(loc='upper right')\n",
    "    plt.show()"
   ]
  },
  {
   "cell_type": "code",
   "execution_count": 16,
   "metadata": {},
   "outputs": [],
   "source": [
    "promo_train_data = train_data.loc[train_data['Promotion']==1]"
   ]
  },
  {
   "cell_type": "code",
   "execution_count": 17,
   "metadata": {},
   "outputs": [],
   "source": [
    "no_promo_data = train_data.loc[train_data.Promotion==0]"
   ]
  },
  {
   "cell_type": "code",
   "execution_count": 18,
   "metadata": {},
   "outputs": [
    {
     "data": {
      "text/html": [
       "<div>\n",
       "<style scoped>\n",
       "    .dataframe tbody tr th:only-of-type {\n",
       "        vertical-align: middle;\n",
       "    }\n",
       "\n",
       "    .dataframe tbody tr th {\n",
       "        vertical-align: top;\n",
       "    }\n",
       "\n",
       "    .dataframe thead th {\n",
       "        text-align: right;\n",
       "    }\n",
       "</style>\n",
       "<table border=\"1\" class=\"dataframe\">\n",
       "  <thead>\n",
       "    <tr style=\"text-align: right;\">\n",
       "      <th></th>\n",
       "      <th>ID</th>\n",
       "      <th>Promotion</th>\n",
       "      <th>purchase</th>\n",
       "      <th>V1</th>\n",
       "      <th>V2</th>\n",
       "      <th>V3</th>\n",
       "      <th>V4</th>\n",
       "      <th>V5</th>\n",
       "      <th>V6</th>\n",
       "      <th>V7</th>\n",
       "    </tr>\n",
       "  </thead>\n",
       "  <tbody>\n",
       "    <tr>\n",
       "      <th>count</th>\n",
       "      <td>42364.000000</td>\n",
       "      <td>42364.0</td>\n",
       "      <td>42364.000000</td>\n",
       "      <td>42364.000000</td>\n",
       "      <td>42364.000000</td>\n",
       "      <td>42364.000000</td>\n",
       "      <td>42364.000000</td>\n",
       "      <td>42364.000000</td>\n",
       "      <td>42364.000000</td>\n",
       "      <td>42364.000000</td>\n",
       "    </tr>\n",
       "    <tr>\n",
       "      <th>mean</th>\n",
       "      <td>62847.675385</td>\n",
       "      <td>1.0</td>\n",
       "      <td>0.017019</td>\n",
       "      <td>1.505028</td>\n",
       "      <td>29.970338</td>\n",
       "      <td>0.007446</td>\n",
       "      <td>1.678949</td>\n",
       "      <td>2.324662</td>\n",
       "      <td>2.504225</td>\n",
       "      <td>1.701185</td>\n",
       "    </tr>\n",
       "    <tr>\n",
       "      <th>std</th>\n",
       "      <td>36299.420024</td>\n",
       "      <td>0.0</td>\n",
       "      <td>0.129344</td>\n",
       "      <td>0.868226</td>\n",
       "      <td>5.024443</td>\n",
       "      <td>0.998020</td>\n",
       "      <td>0.466886</td>\n",
       "      <td>0.840242</td>\n",
       "      <td>1.117279</td>\n",
       "      <td>0.457744</td>\n",
       "    </tr>\n",
       "    <tr>\n",
       "      <th>min</th>\n",
       "      <td>8.000000</td>\n",
       "      <td>1.0</td>\n",
       "      <td>0.000000</td>\n",
       "      <td>0.000000</td>\n",
       "      <td>7.104007</td>\n",
       "      <td>-1.684550</td>\n",
       "      <td>1.000000</td>\n",
       "      <td>1.000000</td>\n",
       "      <td>1.000000</td>\n",
       "      <td>1.000000</td>\n",
       "    </tr>\n",
       "    <tr>\n",
       "      <th>25%</th>\n",
       "      <td>31387.500000</td>\n",
       "      <td>1.0</td>\n",
       "      <td>0.000000</td>\n",
       "      <td>1.000000</td>\n",
       "      <td>26.571116</td>\n",
       "      <td>-0.818772</td>\n",
       "      <td>1.000000</td>\n",
       "      <td>2.000000</td>\n",
       "      <td>2.000000</td>\n",
       "      <td>1.000000</td>\n",
       "    </tr>\n",
       "    <tr>\n",
       "      <th>50%</th>\n",
       "      <td>62717.000000</td>\n",
       "      <td>1.0</td>\n",
       "      <td>0.000000</td>\n",
       "      <td>2.000000</td>\n",
       "      <td>29.989227</td>\n",
       "      <td>0.047006</td>\n",
       "      <td>2.000000</td>\n",
       "      <td>2.000000</td>\n",
       "      <td>3.000000</td>\n",
       "      <td>2.000000</td>\n",
       "    </tr>\n",
       "    <tr>\n",
       "      <th>75%</th>\n",
       "      <td>93960.500000</td>\n",
       "      <td>1.0</td>\n",
       "      <td>0.000000</td>\n",
       "      <td>2.000000</td>\n",
       "      <td>33.332278</td>\n",
       "      <td>0.826206</td>\n",
       "      <td>2.000000</td>\n",
       "      <td>3.000000</td>\n",
       "      <td>4.000000</td>\n",
       "      <td>2.000000</td>\n",
       "    </tr>\n",
       "    <tr>\n",
       "      <th>max</th>\n",
       "      <td>126181.000000</td>\n",
       "      <td>1.0</td>\n",
       "      <td>1.000000</td>\n",
       "      <td>3.000000</td>\n",
       "      <td>49.823708</td>\n",
       "      <td>1.691984</td>\n",
       "      <td>2.000000</td>\n",
       "      <td>4.000000</td>\n",
       "      <td>4.000000</td>\n",
       "      <td>2.000000</td>\n",
       "    </tr>\n",
       "  </tbody>\n",
       "</table>\n",
       "</div>"
      ],
      "text/plain": [
       "                  ID  Promotion      purchase            V1            V2  \\\n",
       "count   42364.000000    42364.0  42364.000000  42364.000000  42364.000000   \n",
       "mean    62847.675385        1.0      0.017019      1.505028     29.970338   \n",
       "std     36299.420024        0.0      0.129344      0.868226      5.024443   \n",
       "min         8.000000        1.0      0.000000      0.000000      7.104007   \n",
       "25%     31387.500000        1.0      0.000000      1.000000     26.571116   \n",
       "50%     62717.000000        1.0      0.000000      2.000000     29.989227   \n",
       "75%     93960.500000        1.0      0.000000      2.000000     33.332278   \n",
       "max    126181.000000        1.0      1.000000      3.000000     49.823708   \n",
       "\n",
       "                 V3            V4            V5            V6            V7  \n",
       "count  42364.000000  42364.000000  42364.000000  42364.000000  42364.000000  \n",
       "mean       0.007446      1.678949      2.324662      2.504225      1.701185  \n",
       "std        0.998020      0.466886      0.840242      1.117279      0.457744  \n",
       "min       -1.684550      1.000000      1.000000      1.000000      1.000000  \n",
       "25%       -0.818772      1.000000      2.000000      2.000000      1.000000  \n",
       "50%        0.047006      2.000000      2.000000      3.000000      2.000000  \n",
       "75%        0.826206      2.000000      3.000000      4.000000      2.000000  \n",
       "max        1.691984      2.000000      4.000000      4.000000      2.000000  "
      ]
     },
     "execution_count": 18,
     "metadata": {},
     "output_type": "execute_result"
    }
   ],
   "source": [
    "promo_train_data.describe()"
   ]
  },
  {
   "cell_type": "code",
   "execution_count": 19,
   "metadata": {
    "scrolled": true
   },
   "outputs": [
    {
     "data": {
      "image/png": "[encoded data removed]",
      "text/plain": [
       "<Figure size 1440x1440 with 12 Axes>"
      ]
     },
     "metadata": {
      "needs_background": "light"
     },
     "output_type": "display_data"
    }
   ],
   "source": [
    "promo_train_data.hist(figsize=(20,20));"
   ]
  },
  {
   "cell_type": "code",
   "execution_count": 20,
   "metadata": {},
   "outputs": [],
   "source": [
    "promo_purch_df = promo_train_data.loc[promo_train_data['purchase']==1]"
   ]
  },
  {
   "cell_type": "code",
   "execution_count": 21,
   "metadata": {},
   "outputs": [],
   "source": [
    "no_promo_purch = no_promo_data.loc[no_promo_data['purchase']==1]"
   ]
  },
  {
   "cell_type": "code",
   "execution_count": 22,
   "metadata": {},
   "outputs": [],
   "source": [
    "promo_purch_corr = promo_purch_df.corr()"
   ]
  },
  {
   "cell_type": "code",
   "execution_count": 23,
   "metadata": {},
   "outputs": [
    {
     "data": {
      "image/png": "[encoded data removed]",
      "text/plain": [
       "<Figure size 1440x720 with 2 Axes>"
      ]
     },
     "metadata": {
      "needs_background": "light"
     },
     "output_type": "display_data"
    }
   ],
   "source": [
    "fig, ax = plt.subplots(figsize=(20,10)) \n",
    "sns.heatmap(promo_purch_corr, center=.5, annot=True, vmax=.2, linewidths=.5, ax=ax);"
   ]
  },
  {
   "cell_type": "code",
   "execution_count": 24,
   "metadata": {},
   "outputs": [],
   "source": [
    "no_promo_purch_corr = no_promo_purch.corr()"
   ]
  },
  {
   "cell_type": "code",
   "execution_count": 25,
   "metadata": {},
   "outputs": [
    {
     "data": {
      "image/png": "[encoded data removed]",
      "text/plain": [
       "<Figure size 1440x720 with 2 Axes>"
      ]
     },
     "metadata": {
      "needs_background": "light"
     },
     "output_type": "display_data"
    }
   ],
   "source": [
    "fig, ax = plt.subplots(figsize=(20,10)) \n",
    "sns.heatmap(no_promo_purch_corr, center=.5, annot=True, vmax=.2, linewidths=.5, ax=ax);"
   ]
  },
  {
   "cell_type": "code",
   "execution_count": 26,
   "metadata": {},
   "outputs": [],
   "source": [
    "purch_trt = promo_train_data.purchase.value_counts()[1]\n",
    "cust_trt = promo_train_data.purchase.count()"
   ]
  },
  {
   "cell_type": "code",
   "execution_count": 27,
   "metadata": {},
   "outputs": [],
   "source": [
    "purch_ctr = no_promo_data.purchase.value_counts()[1]\n",
    "cust_ctr = no_promo_data.purchase.count()"
   ]
  },
  {
   "cell_type": "markdown",
   "metadata": {},
   "source": [
    "$$ IRR = \\frac{purch_{treat}}{cust_{treat}} - \\frac{purch_{ctrl}}{cust_{ctrl}} $$"
   ]
  },
  {
   "cell_type": "code",
   "execution_count": 28,
   "metadata": {},
   "outputs": [],
   "source": [
    "irr = (purch_trt / cust_trt) - (purch_ctr / cust_ctr)"
   ]
  },
  {
   "cell_type": "code",
   "execution_count": 29,
   "metadata": {},
   "outputs": [
    {
     "data": {
      "text/plain": [
       "0.009454547819772702"
      ]
     },
     "execution_count": 29,
     "metadata": {},
     "output_type": "execute_result"
    }
   ],
   "source": [
    "irr"
   ]
  },
  {
   "cell_type": "markdown",
   "metadata": {},
   "source": [
    "$$ NIR = (10\\cdot purch_{treat} - 0.15 \\cdot cust_{treat}) - 10 \\cdot purch_{ctrl}$$"
   ]
  },
  {
   "cell_type": "code",
   "execution_count": 30,
   "metadata": {},
   "outputs": [],
   "source": [
    "nir = (10 * purch_trt - .15 * cust_trt) - 10 * purch_ctr"
   ]
  },
  {
   "cell_type": "code",
   "execution_count": 31,
   "metadata": {},
   "outputs": [
    {
     "data": {
      "text/plain": [
       "-2334.5999999999995"
      ]
     },
     "execution_count": 31,
     "metadata": {},
     "output_type": "execute_result"
    }
   ],
   "source": [
    "nir"
   ]
  },
  {
   "cell_type": "code",
   "execution_count": 32,
   "metadata": {},
   "outputs": [],
   "source": [
    "promo_corr = promo_train_data.corr()"
   ]
  },
  {
   "cell_type": "code",
   "execution_count": 33,
   "metadata": {},
   "outputs": [
    {
     "data": {
      "text/plain": [
       "<AxesSubplot:>"
      ]
     },
     "execution_count": 33,
     "metadata": {},
     "output_type": "execute_result"
    },
    {
     "data": {
      "image/png": "[encoded data removed]",
      "text/plain": [
       "<Figure size 1440x720 with 2 Axes>"
      ]
     },
     "metadata": {
      "needs_background": "light"
     },
     "output_type": "display_data"
    }
   ],
   "source": [
    "fig, ax = plt.subplots(figsize=(20,10)) \n",
    "sns.heatmap(promo_corr, center=.5, annot=True, vmax=.2, linewidths=.5, ax=ax)"
   ]
  },
  {
   "cell_type": "code",
   "execution_count": 34,
   "metadata": {},
   "outputs": [
    {
     "data": {
      "text/plain": [
       "<AxesSubplot:>"
      ]
     },
     "execution_count": 34,
     "metadata": {},
     "output_type": "execute_result"
    },
    {
     "data": {
      "image/png": "[encoded data removed]",
      "text/plain": [
       "<Figure size 432x288 with 1 Axes>"
      ]
     },
     "metadata": {
      "needs_background": "light"
     },
     "output_type": "display_data"
    }
   ],
   "source": [
    "train_data.V4.hist()"
   ]
  },
  {
   "cell_type": "code",
   "execution_count": 35,
   "metadata": {},
   "outputs": [
    {
     "data": {
      "text/plain": [
       "<AxesSubplot:>"
      ]
     },
     "execution_count": 35,
     "metadata": {},
     "output_type": "execute_result"
    },
    {
     "data": {
      "image/png": "[encoded data removed]",
      "text/plain": [
       "<Figure size 432x288 with 1 Axes>"
      ]
     },
     "metadata": {
      "needs_background": "light"
     },
     "output_type": "display_data"
    }
   ],
   "source": [
    "promo_purch_df.V4.hist()"
   ]
  },
  {
   "cell_type": "code",
   "execution_count": 36,
   "metadata": {},
   "outputs": [
    {
     "data": {
      "image/png": "[encoded data removed]",
      "text/plain": [
       "<Figure size 432x288 with 1 Axes>"
      ]
     },
     "metadata": {
      "needs_background": "light"
     },
     "output_type": "display_data"
    },
    {
     "data": {
      "image/png": "[encoded data removed]",
      "text/plain": [
       "<Figure size 432x288 with 1 Axes>"
      ]
     },
     "metadata": {
      "needs_background": "light"
     },
     "output_type": "display_data"
    },
    {
     "data": {
      "image/png": "[encoded data removed]",
      "text/plain": [
       "<Figure size 432x288 with 1 Axes>"
      ]
     },
     "metadata": {
      "needs_background": "light"
     },
     "output_type": "display_data"
    },
    {
     "data": {
      "image/png": "[encoded data removed]",
      "text/plain": [
       "<Figure size 432x288 with 1 Axes>"
      ]
     },
     "metadata": {
      "needs_background": "light"
     },
     "output_type": "display_data"
    },
    {
     "data": {
      "image/png": "[encoded data removed]",
      "text/plain": [
       "<Figure size 432x288 with 1 Axes>"
      ]
     },
     "metadata": {
      "needs_background": "light"
     },
     "output_type": "display_data"
    },
    {
     "data": {
      "image/png": "[encoded data removed]",
      "text/plain": [
       "<Figure size 432x288 with 1 Axes>"
      ]
     },
     "metadata": {
      "needs_background": "light"
     },
     "output_type": "display_data"
    },
    {
     "data": {
      "image/png": "[encoded data removed]",
      "text/plain": [
       "<Figure size 432x288 with 1 Axes>"
      ]
     },
     "metadata": {
      "needs_background": "light"
     },
     "output_type": "display_data"
    }
   ],
   "source": [
    "for f in features:\n",
    "    plt.hist([promo_purch_df[f], no_promo_purch[f]], label=['promp', 'no promo'])\n",
    "    plt.title(f)\n",
    "    plt.legend(loc='upper right')\n",
    "    plt.show()"
   ]
  },
  {
   "cell_type": "markdown",
   "metadata": {},
   "source": [
    "## Build strategy"
   ]
  },
  {
   "cell_type": "code",
   "execution_count": 37,
   "metadata": {
    "scrolled": true
   },
   "outputs": [
    {
     "data": {
      "text/html": [
       "<div>\n",
       "<style scoped>\n",
       "    .dataframe tbody tr th:only-of-type {\n",
       "        vertical-align: middle;\n",
       "    }\n",
       "\n",
       "    .dataframe tbody tr th {\n",
       "        vertical-align: top;\n",
       "    }\n",
       "\n",
       "    .dataframe thead th {\n",
       "        text-align: right;\n",
       "    }\n",
       "</style>\n",
       "<table border=\"1\" class=\"dataframe\">\n",
       "  <thead>\n",
       "    <tr style=\"text-align: right;\">\n",
       "      <th></th>\n",
       "      <th>V1</th>\n",
       "      <th>V2</th>\n",
       "      <th>V3</th>\n",
       "      <th>V4</th>\n",
       "      <th>V5</th>\n",
       "      <th>V6</th>\n",
       "      <th>V7</th>\n",
       "    </tr>\n",
       "  </thead>\n",
       "  <tbody>\n",
       "    <tr>\n",
       "      <th>0</th>\n",
       "      <td>True</td>\n",
       "      <td>True</td>\n",
       "      <td>True</td>\n",
       "      <td>False</td>\n",
       "      <td>False</td>\n",
       "      <td>True</td>\n",
       "      <td>True</td>\n",
       "    </tr>\n",
       "    <tr>\n",
       "      <th>1</th>\n",
       "      <td>False</td>\n",
       "      <td>True</td>\n",
       "      <td>True</td>\n",
       "      <td>True</td>\n",
       "      <td>True</td>\n",
       "      <td>True</td>\n",
       "      <td>True</td>\n",
       "    </tr>\n",
       "    <tr>\n",
       "      <th>2</th>\n",
       "      <td>True</td>\n",
       "      <td>True</td>\n",
       "      <td>True</td>\n",
       "      <td>False</td>\n",
       "      <td>False</td>\n",
       "      <td>True</td>\n",
       "      <td>True</td>\n",
       "    </tr>\n",
       "    <tr>\n",
       "      <th>3</th>\n",
       "      <td>False</td>\n",
       "      <td>True</td>\n",
       "      <td>True</td>\n",
       "      <td>True</td>\n",
       "      <td>False</td>\n",
       "      <td>True</td>\n",
       "      <td>True</td>\n",
       "    </tr>\n",
       "    <tr>\n",
       "      <th>4</th>\n",
       "      <td>False</td>\n",
       "      <td>True</td>\n",
       "      <td>True</td>\n",
       "      <td>False</td>\n",
       "      <td>False</td>\n",
       "      <td>True</td>\n",
       "      <td>True</td>\n",
       "    </tr>\n",
       "    <tr>\n",
       "      <th>...</th>\n",
       "      <td>...</td>\n",
       "      <td>...</td>\n",
       "      <td>...</td>\n",
       "      <td>...</td>\n",
       "      <td>...</td>\n",
       "      <td>...</td>\n",
       "      <td>...</td>\n",
       "    </tr>\n",
       "    <tr>\n",
       "      <th>84529</th>\n",
       "      <td>True</td>\n",
       "      <td>True</td>\n",
       "      <td>True</td>\n",
       "      <td>False</td>\n",
       "      <td>False</td>\n",
       "      <td>True</td>\n",
       "      <td>False</td>\n",
       "    </tr>\n",
       "    <tr>\n",
       "      <th>84530</th>\n",
       "      <td>False</td>\n",
       "      <td>True</td>\n",
       "      <td>True</td>\n",
       "      <td>False</td>\n",
       "      <td>False</td>\n",
       "      <td>True</td>\n",
       "      <td>False</td>\n",
       "    </tr>\n",
       "    <tr>\n",
       "      <th>84531</th>\n",
       "      <td>True</td>\n",
       "      <td>True</td>\n",
       "      <td>True</td>\n",
       "      <td>True</td>\n",
       "      <td>True</td>\n",
       "      <td>True</td>\n",
       "      <td>True</td>\n",
       "    </tr>\n",
       "    <tr>\n",
       "      <th>84532</th>\n",
       "      <td>True</td>\n",
       "      <td>False</td>\n",
       "      <td>True</td>\n",
       "      <td>True</td>\n",
       "      <td>True</td>\n",
       "      <td>True</td>\n",
       "      <td>True</td>\n",
       "    </tr>\n",
       "    <tr>\n",
       "      <th>84533</th>\n",
       "      <td>True</td>\n",
       "      <td>False</td>\n",
       "      <td>True</td>\n",
       "      <td>True</td>\n",
       "      <td>True</td>\n",
       "      <td>True</td>\n",
       "      <td>True</td>\n",
       "    </tr>\n",
       "  </tbody>\n",
       "</table>\n",
       "<p>84534 rows × 7 columns</p>\n",
       "</div>"
      ],
      "text/plain": [
       "          V1     V2    V3     V4     V5    V6     V7\n",
       "0       True   True  True  False  False  True   True\n",
       "1      False   True  True   True   True  True   True\n",
       "2       True   True  True  False  False  True   True\n",
       "3      False   True  True   True  False  True   True\n",
       "4      False   True  True  False  False  True   True\n",
       "...      ...    ...   ...    ...    ...   ...    ...\n",
       "84529   True   True  True  False  False  True  False\n",
       "84530  False   True  True  False  False  True  False\n",
       "84531   True   True  True   True   True  True   True\n",
       "84532   True  False  True   True   True  True   True\n",
       "84533   True  False  True   True   True  True   True\n",
       "\n",
       "[84534 rows x 7 columns]"
      ]
     },
     "execution_count": 37,
     "metadata": {},
     "output_type": "execute_result"
    }
   ],
   "source": [
    "# V1 >=1 & <=2\n",
    "# V2 >=25 & <=35\n",
    "# V4 > 1\n",
    "# V5 >=2 & <=3\n",
    "# V7 > 1\n",
    "v1 = (train_data['V1']>=1) & (train_data['V1']<=2)\n",
    "v2 = (train_data['V2']>=25) & (train_data['V2']<=35)\n",
    "v3 = (train_data['V3']>=-1.5) & (train_data['V3']<=1.5)\n",
    "v4 = (train_data['V4']>1)\n",
    "v5 = (train_data['V5']>=2) & (train_data['V5']<=4)\n",
    "v6 = (train_data['V6']>=1) & (train_data['V6']<=4)\n",
    "v7 = (train_data['V7']>1)\n",
    "tdf = pd.concat([v1, v2, v3, v4, v5, v6, v7], axis=1)\n",
    "tdf"
   ]
  },
  {
   "cell_type": "code",
   "execution_count": 38,
   "metadata": {},
   "outputs": [],
   "source": [
    "strategy = ((train_data['V1']>=1) & (train_data['V1']<=2)\n",
    "& (train_data['V2']>=29) & (train_data['V2']<=31)\n",
    "& (train_data['V3']>=-1.5) & (train_data['V3']<=1.5)\n",
    "& (train_data['V4']>1)\n",
    "& (train_data['V5']>=2) & (train_data['V5']<=4)\n",
    "& (train_data['V6']>=1) & (train_data['V6']<=4)\n",
    "& (train_data['V7']>1))"
   ]
  },
  {
   "cell_type": "code",
   "execution_count": 39,
   "metadata": {
    "scrolled": true
   },
   "outputs": [],
   "source": [
    "strategy = strategy.replace([True, False], ['Yes', 'No'])"
   ]
  },
  {
   "cell_type": "code",
   "execution_count": 40,
   "metadata": {},
   "outputs": [
    {
     "data": {
      "text/plain": [
       "84534"
      ]
     },
     "execution_count": 40,
     "metadata": {},
     "output_type": "execute_result"
    }
   ],
   "source": [
    "len(strategy)"
   ]
  },
  {
   "cell_type": "code",
   "execution_count": 41,
   "metadata": {
    "scrolled": true
   },
   "outputs": [],
   "source": [
    "tdf = tdf.replace([True, False], ['Yes', 'No'])"
   ]
  },
  {
   "cell_type": "code",
   "execution_count": 42,
   "metadata": {},
   "outputs": [
    {
     "data": {
      "text/plain": [
       "84534"
      ]
     },
     "execution_count": 42,
     "metadata": {},
     "output_type": "execute_result"
    }
   ],
   "source": [
    "len(np.array(tdf))"
   ]
  },
  {
   "cell_type": "code",
   "execution_count": 46,
   "metadata": {},
   "outputs": [
    {
     "data": {
      "text/plain": [
       "array(['Yes', 'Yes', 'Yes', ..., 'Yes', 'Yes', 'Yes'], dtype='<U3')"
      ]
     },
     "execution_count": 46,
     "metadata": {},
     "output_type": "execute_result"
    }
   ],
   "source": [
    "test = test_data\n",
    "    \n",
    "promotion = []\n",
    "    \n",
    "num_test_points = test.shape[0]\n",
    "    \n",
    "for i in range(num_test_points):\n",
    "    promotion.append('Yes')\n",
    "        \n",
    "promotion = np.array(promotion)\n",
    "promotion"
   ]
  },
  {
   "cell_type": "code",
   "execution_count": 47,
   "metadata": {},
   "outputs": [
    {
     "data": {
      "text/plain": [
       "41650"
      ]
     },
     "execution_count": 47,
     "metadata": {},
     "output_type": "execute_result"
    }
   ],
   "source": [
    "len(promotion)"
   ]
  },
  {
   "cell_type": "markdown",
   "metadata": {},
   "source": [
    "## Test 1"
   ]
  },
  {
   "cell_type": "code",
   "execution_count": 54,
   "metadata": {},
   "outputs": [],
   "source": [
    "def promotion_strategy(df):\n",
    "    '''\n",
    "    INPUT \n",
    "    df - a dataframe with *only* the columns V1 - V7 (same as train_data)\n",
    "\n",
    "    OUTPUT\n",
    "    promotion_df - np.array with the values\n",
    "                   'Yes' or 'No' related to whether or not an \n",
    "                   individual should recieve a promotion \n",
    "                   should be the length of df.shape[0]\n",
    "                \n",
    "    Ex:\n",
    "    INPUT: df\n",
    "    \n",
    "    V1\tV2\t  V3\tV4\tV5\tV6\tV7\n",
    "    2\t30\t-1.1\t1\t1\t3\t2\n",
    "    3\t32\t-0.6\t2\t3\t2\t2\n",
    "    2\t30\t0.13\t1\t1\t4\t2\n",
    "    \n",
    "    OUTPUT: promotion\n",
    "    \n",
    "    array(['Yes', 'Yes', 'No'])\n",
    "    indicating the first two users would recieve the promotion and \n",
    "    the last should not.\n",
    "    '''\n",
    "    promo = []\n",
    "    strategy = ((df['V1']>=1) & (df['V1']<=2)\n",
    "& (df['V2']>=27) & (df['V2']<=33)\n",
    "& (df['V3']>=0) & (df['V3']<=1)\n",
    "& (df['V4']>1)\n",
    "& (df['V5']>=3) & (df['V5']<=3.5)\n",
    "& (df['V6']>=2) & (df['V6']<=3)\n",
    "& (df['V7']>1))\n",
    "    \n",
    "    strategy = strategy.replace([True, False], ['Yes', 'No'])\n",
    "    \n",
    "    promotion = np.array(strategy)\n",
    "    \n",
    "    return promotion"
   ]
  },
  {
   "cell_type": "code",
   "execution_count": 78,
   "metadata": {
    "scrolled": true
   },
   "outputs": [
    {
     "ename": "IndexError",
     "evalue": "positional indexers are out-of-bounds",
     "output_type": "error",
     "traceback": [
      "\u001b[1;31m---------------------------------------------------------------------------\u001b[0m",
      "\u001b[1;31mIndexError\u001b[0m                                Traceback (most recent call last)",
      "\u001b[1;32m<ipython-input-78-9a8cdce888a1>\u001b[0m in \u001b[0;36m<module>\u001b[1;34m\u001b[0m\n\u001b[0;32m      2\u001b[0m \u001b[1;31m# on how well your promotion_strategy will work in practice\u001b[0m\u001b[1;33m\u001b[0m\u001b[1;33m\u001b[0m\u001b[1;33m\u001b[0m\u001b[0m\n\u001b[0;32m      3\u001b[0m \u001b[1;33m\u001b[0m\u001b[0m\n\u001b[1;32m----> 4\u001b[1;33m \u001b[0mtest_results\u001b[0m\u001b[1;33m(\u001b[0m\u001b[0mpromotion_strategy\u001b[0m\u001b[1;33m)\u001b[0m\u001b[1;33m\u001b[0m\u001b[1;33m\u001b[0m\u001b[0m\n\u001b[0m",
      "\u001b[1;32m~\\Documents\\GitHub\\Starbucks_Exercise\\test_results.py\u001b[0m in \u001b[0;36mtest_results\u001b[1;34m(promotion_strategy)\u001b[0m\n\u001b[0;32m     16\u001b[0m     \u001b[0mdf\u001b[0m \u001b[1;33m=\u001b[0m \u001b[0mtest_data\u001b[0m\u001b[1;33m[\u001b[0m\u001b[1;33m[\u001b[0m\u001b[1;34m'V1'\u001b[0m\u001b[1;33m,\u001b[0m \u001b[1;34m'V2'\u001b[0m\u001b[1;33m,\u001b[0m \u001b[1;34m'V3'\u001b[0m\u001b[1;33m,\u001b[0m \u001b[1;34m'V4'\u001b[0m\u001b[1;33m,\u001b[0m \u001b[1;34m'V5'\u001b[0m\u001b[1;33m,\u001b[0m \u001b[1;34m'V6'\u001b[0m\u001b[1;33m,\u001b[0m \u001b[1;34m'V7'\u001b[0m\u001b[1;33m]\u001b[0m\u001b[1;33m]\u001b[0m\u001b[1;33m\u001b[0m\u001b[1;33m\u001b[0m\u001b[0m\n\u001b[0;32m     17\u001b[0m     \u001b[0mpromos\u001b[0m \u001b[1;33m=\u001b[0m \u001b[0mpromotion_strategy\u001b[0m\u001b[1;33m(\u001b[0m\u001b[0mdf\u001b[0m\u001b[1;33m)\u001b[0m\u001b[1;33m\u001b[0m\u001b[1;33m\u001b[0m\u001b[0m\n\u001b[1;32m---> 18\u001b[1;33m     \u001b[0mscore_df\u001b[0m \u001b[1;33m=\u001b[0m \u001b[0mtest_data\u001b[0m\u001b[1;33m.\u001b[0m\u001b[0miloc\u001b[0m\u001b[1;33m[\u001b[0m\u001b[0mnp\u001b[0m\u001b[1;33m.\u001b[0m\u001b[0mwhere\u001b[0m\u001b[1;33m(\u001b[0m\u001b[0mpromos\u001b[0m \u001b[1;33m==\u001b[0m \u001b[1;34m'Yes'\u001b[0m\u001b[1;33m)\u001b[0m\u001b[1;33m]\u001b[0m\u001b[1;33m\u001b[0m\u001b[1;33m\u001b[0m\u001b[0m\n\u001b[0m\u001b[0;32m     19\u001b[0m     \u001b[0mirr\u001b[0m\u001b[1;33m,\u001b[0m \u001b[0mnir\u001b[0m \u001b[1;33m=\u001b[0m \u001b[0mscore\u001b[0m\u001b[1;33m(\u001b[0m\u001b[0mscore_df\u001b[0m\u001b[1;33m)\u001b[0m\u001b[1;33m\u001b[0m\u001b[1;33m\u001b[0m\u001b[0m\n\u001b[0;32m     20\u001b[0m     \u001b[0mprint\u001b[0m\u001b[1;33m(\u001b[0m\u001b[1;34m\"Nice job!  See how well your strategy worked on our test data below!\"\u001b[0m\u001b[1;33m)\u001b[0m\u001b[1;33m\u001b[0m\u001b[1;33m\u001b[0m\u001b[0m\n",
      "\u001b[1;32m~\\AppData\\Local\\Continuum\\anaconda3\\lib\\site-packages\\pandas\\core\\indexing.py\u001b[0m in \u001b[0;36m__getitem__\u001b[1;34m(self, key)\u001b[0m\n\u001b[0;32m    871\u001b[0m                     \u001b[1;31m# AttributeError for IntervalTree get_value\u001b[0m\u001b[1;33m\u001b[0m\u001b[1;33m\u001b[0m\u001b[1;33m\u001b[0m\u001b[0m\n\u001b[0;32m    872\u001b[0m                     \u001b[1;32mpass\u001b[0m\u001b[1;33m\u001b[0m\u001b[1;33m\u001b[0m\u001b[0m\n\u001b[1;32m--> 873\u001b[1;33m             \u001b[1;32mreturn\u001b[0m \u001b[0mself\u001b[0m\u001b[1;33m.\u001b[0m\u001b[0m_getitem_tuple\u001b[0m\u001b[1;33m(\u001b[0m\u001b[0mkey\u001b[0m\u001b[1;33m)\u001b[0m\u001b[1;33m\u001b[0m\u001b[1;33m\u001b[0m\u001b[0m\n\u001b[0m\u001b[0;32m    874\u001b[0m         \u001b[1;32melse\u001b[0m\u001b[1;33m:\u001b[0m\u001b[1;33m\u001b[0m\u001b[1;33m\u001b[0m\u001b[0m\n\u001b[0;32m    875\u001b[0m             \u001b[1;31m# we by definition only have the 0th axis\u001b[0m\u001b[1;33m\u001b[0m\u001b[1;33m\u001b[0m\u001b[1;33m\u001b[0m\u001b[0m\n",
      "\u001b[1;32m~\\AppData\\Local\\Continuum\\anaconda3\\lib\\site-packages\\pandas\\core\\indexing.py\u001b[0m in \u001b[0;36m_getitem_tuple\u001b[1;34m(self, tup)\u001b[0m\n\u001b[0;32m   1441\u001b[0m     \u001b[1;32mdef\u001b[0m \u001b[0m_getitem_tuple\u001b[0m\u001b[1;33m(\u001b[0m\u001b[0mself\u001b[0m\u001b[1;33m,\u001b[0m \u001b[0mtup\u001b[0m\u001b[1;33m:\u001b[0m \u001b[0mTuple\u001b[0m\u001b[1;33m)\u001b[0m\u001b[1;33m:\u001b[0m\u001b[1;33m\u001b[0m\u001b[1;33m\u001b[0m\u001b[0m\n\u001b[0;32m   1442\u001b[0m \u001b[1;33m\u001b[0m\u001b[0m\n\u001b[1;32m-> 1443\u001b[1;33m         \u001b[0mself\u001b[0m\u001b[1;33m.\u001b[0m\u001b[0m_has_valid_tuple\u001b[0m\u001b[1;33m(\u001b[0m\u001b[0mtup\u001b[0m\u001b[1;33m)\u001b[0m\u001b[1;33m\u001b[0m\u001b[1;33m\u001b[0m\u001b[0m\n\u001b[0m\u001b[0;32m   1444\u001b[0m         \u001b[1;32mtry\u001b[0m\u001b[1;33m:\u001b[0m\u001b[1;33m\u001b[0m\u001b[1;33m\u001b[0m\u001b[0m\n\u001b[0;32m   1445\u001b[0m             \u001b[1;32mreturn\u001b[0m \u001b[0mself\u001b[0m\u001b[1;33m.\u001b[0m\u001b[0m_getitem_lowerdim\u001b[0m\u001b[1;33m(\u001b[0m\u001b[0mtup\u001b[0m\u001b[1;33m)\u001b[0m\u001b[1;33m\u001b[0m\u001b[1;33m\u001b[0m\u001b[0m\n",
      "\u001b[1;32m~\\AppData\\Local\\Continuum\\anaconda3\\lib\\site-packages\\pandas\\core\\indexing.py\u001b[0m in \u001b[0;36m_has_valid_tuple\u001b[1;34m(self, key)\u001b[0m\n\u001b[0;32m    700\u001b[0m                 \u001b[1;32mraise\u001b[0m \u001b[0mIndexingError\u001b[0m\u001b[1;33m(\u001b[0m\u001b[1;34m\"Too many indexers\"\u001b[0m\u001b[1;33m)\u001b[0m\u001b[1;33m\u001b[0m\u001b[1;33m\u001b[0m\u001b[0m\n\u001b[0;32m    701\u001b[0m             \u001b[1;32mtry\u001b[0m\u001b[1;33m:\u001b[0m\u001b[1;33m\u001b[0m\u001b[1;33m\u001b[0m\u001b[0m\n\u001b[1;32m--> 702\u001b[1;33m                 \u001b[0mself\u001b[0m\u001b[1;33m.\u001b[0m\u001b[0m_validate_key\u001b[0m\u001b[1;33m(\u001b[0m\u001b[0mk\u001b[0m\u001b[1;33m,\u001b[0m \u001b[0mi\u001b[0m\u001b[1;33m)\u001b[0m\u001b[1;33m\u001b[0m\u001b[1;33m\u001b[0m\u001b[0m\n\u001b[0m\u001b[0;32m    703\u001b[0m             \u001b[1;32mexcept\u001b[0m \u001b[0mValueError\u001b[0m \u001b[1;32mas\u001b[0m \u001b[0merr\u001b[0m\u001b[1;33m:\u001b[0m\u001b[1;33m\u001b[0m\u001b[1;33m\u001b[0m\u001b[0m\n\u001b[0;32m    704\u001b[0m                 raise ValueError(\n",
      "\u001b[1;32m~\\AppData\\Local\\Continuum\\anaconda3\\lib\\site-packages\\pandas\\core\\indexing.py\u001b[0m in \u001b[0;36m_validate_key\u001b[1;34m(self, key, axis)\u001b[0m\n\u001b[0;32m   1365\u001b[0m             \u001b[1;31m# check that the key does not exceed the maximum size of the index\u001b[0m\u001b[1;33m\u001b[0m\u001b[1;33m\u001b[0m\u001b[1;33m\u001b[0m\u001b[0m\n\u001b[0;32m   1366\u001b[0m             \u001b[1;32mif\u001b[0m \u001b[0mlen\u001b[0m\u001b[1;33m(\u001b[0m\u001b[0marr\u001b[0m\u001b[1;33m)\u001b[0m \u001b[1;32mand\u001b[0m \u001b[1;33m(\u001b[0m\u001b[0marr\u001b[0m\u001b[1;33m.\u001b[0m\u001b[0mmax\u001b[0m\u001b[1;33m(\u001b[0m\u001b[1;33m)\u001b[0m \u001b[1;33m>=\u001b[0m \u001b[0mlen_axis\u001b[0m \u001b[1;32mor\u001b[0m \u001b[0marr\u001b[0m\u001b[1;33m.\u001b[0m\u001b[0mmin\u001b[0m\u001b[1;33m(\u001b[0m\u001b[1;33m)\u001b[0m \u001b[1;33m<\u001b[0m \u001b[1;33m-\u001b[0m\u001b[0mlen_axis\u001b[0m\u001b[1;33m)\u001b[0m\u001b[1;33m:\u001b[0m\u001b[1;33m\u001b[0m\u001b[1;33m\u001b[0m\u001b[0m\n\u001b[1;32m-> 1367\u001b[1;33m                 \u001b[1;32mraise\u001b[0m \u001b[0mIndexError\u001b[0m\u001b[1;33m(\u001b[0m\u001b[1;34m\"positional indexers are out-of-bounds\"\u001b[0m\u001b[1;33m)\u001b[0m\u001b[1;33m\u001b[0m\u001b[1;33m\u001b[0m\u001b[0m\n\u001b[0m\u001b[0;32m   1368\u001b[0m         \u001b[1;32melse\u001b[0m\u001b[1;33m:\u001b[0m\u001b[1;33m\u001b[0m\u001b[1;33m\u001b[0m\u001b[0m\n\u001b[0;32m   1369\u001b[0m             \u001b[1;32mraise\u001b[0m \u001b[0mValueError\u001b[0m\u001b[1;33m(\u001b[0m\u001b[1;34mf\"Can only index by location with a [{self._valid_types}]\"\u001b[0m\u001b[1;33m)\u001b[0m\u001b[1;33m\u001b[0m\u001b[1;33m\u001b[0m\u001b[0m\n",
      "\u001b[1;31mIndexError\u001b[0m: positional indexers are out-of-bounds"
     ]
    }
   ],
   "source": [
    "# This will test your results, and provide you back some information \n",
    "# on how well your promotion_strategy will work in practice\n",
    "\n",
    "test_results(promotion_strategy)"
   ]
  },
  {
   "cell_type": "markdown",
   "metadata": {},
   "source": [
    "\n",
    "\n",
    "\n",
    "## Model Testing\n",
    "\n",
    "\n"
   ]
  },
  {
   "cell_type": "code",
   "execution_count": 47,
   "metadata": {},
   "outputs": [
    {
     "data": {
      "text/plain": [
       "Index(['ID', 'Promotion', 'purchase', 'V2', 'V3', 'V1_0', 'V1_1', 'V1_2',\n",
       "       'V1_3', 'V4_1', 'V4_2', 'V5_1', 'V5_2', 'V5_3', 'V5_4', 'V6_1', 'V6_2',\n",
       "       'V6_3', 'V6_4', 'V7_1', 'V7_2'],\n",
       "      dtype='object')"
      ]
     },
     "execution_count": 47,
     "metadata": {},
     "output_type": "execute_result"
    }
   ],
   "source": [
    "dummy_df = pd.get_dummies(train_data, columns = ['V1', 'V4', 'V5', 'V6', 'V7'])\n",
    "dummy_df.columns"
   ]
  },
  {
   "cell_type": "code",
   "execution_count": 56,
   "metadata": {},
   "outputs": [],
   "source": [
    "from sklearn.preprocessing import StandardScaler"
   ]
  },
  {
   "cell_type": "code",
   "execution_count": 57,
   "metadata": {},
   "outputs": [],
   "source": [
    "scaler = StandardScaler()"
   ]
  },
  {
   "cell_type": "code",
   "execution_count": 129,
   "metadata": {},
   "outputs": [
    {
     "data": {
      "text/plain": [
       "(84534, 10)"
      ]
     },
     "execution_count": 129,
     "metadata": {},
     "output_type": "execute_result"
    }
   ],
   "source": [
    "train_data.shape"
   ]
  },
  {
   "cell_type": "code",
   "execution_count": 130,
   "metadata": {},
   "outputs": [
    {
     "data": {
      "text/plain": [
       "(84534, 21)"
      ]
     },
     "execution_count": 130,
     "metadata": {},
     "output_type": "execute_result"
    }
   ],
   "source": [
    "dummy_df.shape"
   ]
  },
  {
   "cell_type": "code",
   "execution_count": 58,
   "metadata": {},
   "outputs": [],
   "source": [
    "svms = SVMSMOTE(random_state=42)"
   ]
  },
  {
   "cell_type": "code",
   "execution_count": 151,
   "metadata": {},
   "outputs": [
    {
     "data": {
      "text/plain": [
       "Index(['ID', 'Promotion', 'purchase', 'V1', 'V2', 'V3', 'V4', 'V5', 'V6',\n",
       "       'V7'],\n",
       "      dtype='object')"
      ]
     },
     "execution_count": 151,
     "metadata": {},
     "output_type": "execute_result"
    }
   ],
   "source": [
    "train_data.columns"
   ]
  },
  {
   "cell_type": "code",
   "execution_count": 59,
   "metadata": {},
   "outputs": [],
   "source": [
    "X = train_data.iloc[:,3:]\n",
    "y = train_data['purchase']"
   ]
  },
  {
   "cell_type": "code",
   "execution_count": 55,
   "metadata": {},
   "outputs": [
    {
     "data": {
      "text/plain": [
       "Index(['V1', 'V2', 'V3', 'V4', 'V5', 'V6', 'V7'], dtype='object')"
      ]
     },
     "execution_count": 55,
     "metadata": {},
     "output_type": "execute_result"
    }
   ],
   "source": [
    "X.columns"
   ]
  },
  {
   "cell_type": "code",
   "execution_count": 60,
   "metadata": {},
   "outputs": [],
   "source": [
    "X, y = svms.fit_resample(X,y)"
   ]
  },
  {
   "cell_type": "code",
   "execution_count": 57,
   "metadata": {},
   "outputs": [
    {
     "data": {
      "text/plain": [
       "0    83494\n",
       "1    46385\n",
       "Name: purchase, dtype: int64"
      ]
     },
     "execution_count": 57,
     "metadata": {},
     "output_type": "execute_result"
    }
   ],
   "source": [
    "y.value_counts()"
   ]
  },
  {
   "cell_type": "code",
   "execution_count": 61,
   "metadata": {
    "scrolled": true
   },
   "outputs": [],
   "source": [
    "X_train, X_test, y_train, y_test = train_test_split(X, y, test_size=0.2, random_state=42)"
   ]
  },
  {
   "cell_type": "code",
   "execution_count": 62,
   "metadata": {},
   "outputs": [],
   "source": [
    "scaler.fit(X_train)\n",
    "\n",
    "X_train = scaler.transform(X_train)\n",
    "\n",
    "X_test = scaler.transform(X_test)"
   ]
  },
  {
   "cell_type": "code",
   "execution_count": 159,
   "metadata": {},
   "outputs": [
    {
     "data": {
      "text/plain": [
       "array(['No', 'No', 'No', ..., 'No', 'No', 'No'], dtype='<U2')"
      ]
     },
     "execution_count": 159,
     "metadata": {},
     "output_type": "execute_result"
    }
   ],
   "source": [
    "promotion_yes_no = []\n",
    "for value in lr_y_pred:\n",
    "    if value == 0:\n",
    "        promotion_yes_no.append(\"No\")\n",
    "    if value == 1:\n",
    "        promotion_yes_no.append(\"Yes\")\n",
    "        \n",
    "promotion = np.asarray(promotion_yes_no)\n",
    "    \n",
    "promotion"
   ]
  },
  {
   "cell_type": "code",
   "execution_count": 63,
   "metadata": {},
   "outputs": [
    {
     "data": {
      "text/plain": [
       "array([[14732,  2082],\n",
       "       [ 7271,  1891]], dtype=int64)"
      ]
     },
     "execution_count": 63,
     "metadata": {},
     "output_type": "execute_result"
    }
   ],
   "source": [
    "# logistic regression\n",
    "lr = LogisticRegression()\n",
    "lr.fit(X_train, y_train)\n",
    "lr_y_pred = lr.predict(X_test)\n",
    "confusion_matrix(y_test, lr_y_pred)"
   ]
  },
  {
   "cell_type": "code",
   "execution_count": 64,
   "metadata": {},
   "outputs": [
    {
     "data": {
      "text/plain": [
       "array(['No', 'No', 'No', ..., 'No', 'No', 'No'], dtype='<U3')"
      ]
     },
     "execution_count": 64,
     "metadata": {},
     "output_type": "execute_result"
    }
   ],
   "source": [
    "promotion_yes_no = []\n",
    "for value in lr_y_pred:\n",
    "    if value == 0:\n",
    "        promotion_yes_no.append(\"No\")\n",
    "    if value == 1:\n",
    "        promotion_yes_no.append(\"Yes\")\n",
    "        \n",
    "promotion = np.asarray(promotion_yes_no)\n",
    "    \n",
    "promotion"
   ]
  },
  {
   "cell_type": "code",
   "execution_count": 65,
   "metadata": {},
   "outputs": [
    {
     "name": "stdout",
     "output_type": "stream",
     "text": [
      "0.6399368647982754\n",
      "0.2879330034259612\n",
      "0.20639598340973586\n"
     ]
    }
   ],
   "source": [
    "print(accuracy_score(y_test, lr_y_pred))\n",
    "print(f1_score(y_test, lr_y_pred))\n",
    "print(recall_score(y_test, lr_y_pred))"
   ]
  },
  {
   "cell_type": "code",
   "execution_count": 66,
   "metadata": {},
   "outputs": [
    {
     "data": {
      "text/plain": [
       "array([[16646,   168],\n",
       "       [  200,  8962]], dtype=int64)"
      ]
     },
     "execution_count": 66,
     "metadata": {},
     "output_type": "execute_result"
    }
   ],
   "source": [
    "rand_mod = RandomForestClassifier()\n",
    "rand_mod.fit(X_train, y_train)\n",
    "rand_y_pred = rand_mod.predict(X_test)\n",
    "confusion_matrix(y_test, rand_y_pred)"
   ]
  },
  {
   "cell_type": "code",
   "execution_count": 67,
   "metadata": {},
   "outputs": [
    {
     "data": {
      "text/plain": [
       "array(['No', 'No', 'No', ..., 'Yes', 'No', 'No'], dtype='<U3')"
      ]
     },
     "execution_count": 67,
     "metadata": {},
     "output_type": "execute_result"
    }
   ],
   "source": [
    "promotion_yes_no = []\n",
    "for value in rand_y_pred:\n",
    "    if value == 0:\n",
    "        promotion_yes_no.append(\"No\")\n",
    "    if value == 1:\n",
    "        promotion_yes_no.append(\"Yes\")\n",
    "        \n",
    "promotion = np.asarray(promotion_yes_no)\n",
    "    \n",
    "promotion"
   ]
  },
  {
   "cell_type": "code",
   "execution_count": 68,
   "metadata": {},
   "outputs": [
    {
     "name": "stdout",
     "output_type": "stream",
     "text": [
      "0.9858330766861718\n",
      "0.9798819155915154\n",
      "0.9781707050862257\n"
     ]
    }
   ],
   "source": [
    "print(accuracy_score(y_test, rand_y_pred))\n",
    "print(f1_score(y_test, rand_y_pred))\n",
    "print(recall_score(y_test, rand_y_pred))"
   ]
  },
  {
   "cell_type": "code",
   "execution_count": 69,
   "metadata": {},
   "outputs": [],
   "source": [
    "clf = GradientBoostingClassifier()\n",
    "\n",
    "gbc = clf.fit(X_train, y_train)\n",
    "gbc_pred = gbc.predict(X_test)"
   ]
  },
  {
   "cell_type": "code",
   "execution_count": 70,
   "metadata": {},
   "outputs": [
    {
     "data": {
      "text/plain": [
       "array([[15745,  1069],\n",
       "       [ 2970,  6192]], dtype=int64)"
      ]
     },
     "execution_count": 70,
     "metadata": {},
     "output_type": "execute_result"
    }
   ],
   "source": [
    "confusion_matrix(y_test, gbc_pred)"
   ]
  },
  {
   "cell_type": "code",
   "execution_count": 71,
   "metadata": {},
   "outputs": [
    {
     "data": {
      "text/plain": [
       "array(['No', 'No', 'No', ..., 'Yes', 'No', 'Yes'], dtype='<U3')"
      ]
     },
     "execution_count": 71,
     "metadata": {},
     "output_type": "execute_result"
    }
   ],
   "source": [
    "promotion_yes_no = []\n",
    "for value in gbc_pred:\n",
    "    if value == 0:\n",
    "        promotion_yes_no.append(\"No\")\n",
    "    if value == 1:\n",
    "        promotion_yes_no.append(\"Yes\")\n",
    "        \n",
    "promotion = np.asarray(promotion_yes_no)\n",
    "    \n",
    "promotion"
   ]
  },
  {
   "cell_type": "code",
   "execution_count": 72,
   "metadata": {
    "scrolled": true
   },
   "outputs": [
    {
     "name": "stdout",
     "output_type": "stream",
     "text": [
      "0.8445103172158915\n",
      "0.7540644218474091\n",
      "0.6758349705304518\n"
     ]
    }
   ],
   "source": [
    "print(accuracy_score(y_test, gbc_pred))\n",
    "print(f1_score(y_test, gbc_pred))\n",
    "print(recall_score(y_test, gbc_pred))"
   ]
  },
  {
   "cell_type": "code",
   "execution_count": 73,
   "metadata": {},
   "outputs": [],
   "source": [
    "from imblearn.ensemble import BalancedRandomForestClassifier  "
   ]
  },
  {
   "cell_type": "code",
   "execution_count": 74,
   "metadata": {},
   "outputs": [
    {
     "data": {
      "text/plain": [
       "array([[16583,   231],\n",
       "       [  175,  8987]], dtype=int64)"
      ]
     },
     "execution_count": 74,
     "metadata": {},
     "output_type": "execute_result"
    }
   ],
   "source": [
    "blrf = BalancedRandomForestClassifier()\n",
    "blrf.fit(X_train, y_train)\n",
    "blrf_y_pred = blrf.predict(X_test)\n",
    "confusion_matrix(y_test, blrf_y_pred)"
   ]
  },
  {
   "cell_type": "code",
   "execution_count": 75,
   "metadata": {},
   "outputs": [
    {
     "data": {
      "text/plain": [
       "array(['No', 'No', 'No', ..., 'Yes', 'No', 'No'], dtype='<U3')"
      ]
     },
     "execution_count": 75,
     "metadata": {},
     "output_type": "execute_result"
    }
   ],
   "source": [
    "promotion_yes_no = []\n",
    "for value in blrf_y_pred:\n",
    "    if value == 0:\n",
    "        promotion_yes_no.append(\"No\")\n",
    "    if value == 1:\n",
    "        promotion_yes_no.append(\"Yes\")\n",
    "        \n",
    "promotion = np.asarray(promotion_yes_no)\n",
    "    \n",
    "promotion"
   ]
  },
  {
   "cell_type": "code",
   "execution_count": 76,
   "metadata": {},
   "outputs": [
    {
     "name": "stdout",
     "output_type": "stream",
     "text": [
      "0.9843701878657222\n",
      "0.97791077257889\n",
      "0.9808993669504475\n"
     ]
    }
   ],
   "source": [
    "print(accuracy_score(y_test, blrf_y_pred))\n",
    "print(f1_score(y_test, blrf_y_pred))\n",
    "print(recall_score(y_test, blrf_y_pred))"
   ]
  },
  {
   "cell_type": "markdown",
   "metadata": {},
   "source": [
    "## Pipeline Build"
   ]
  },
  {
   "cell_type": "markdown",
   "metadata": {},
   "source": [
    "### THIS TAKES CONSIDERABLE TIME"
   ]
  },
  {
   "cell_type": "code",
   "execution_count": 95,
   "metadata": {},
   "outputs": [],
   "source": [
    "pipeline = Pipeline([\n",
    "    ('clf_r', RandomForestClassifier())\n",
    "])\n",
    "\n",
    "    \n",
    "parameters = [{\n",
    "    'clf_r': [RandomForestClassifier()],\n",
    "    'clf_r__max_features': ['auto','sqrt']\n",
    "    },\n",
    "    {\n",
    "        'clf_r': [BalancedRandomForestClassifier()],\n",
    "        'clf_r__sampling_strategy': ['auto', 'all'],\n",
    "        'clf_r__class_weight': ['balanced', 'balanced_subsample']\n",
    "    }\n",
    "        ]\n",
    "    \n",
    "model = GridSearchCV(pipeline, param_grid=parameters, verbose=3, cv=3)"
   ]
  },
  {
   "cell_type": "code",
   "execution_count": null,
   "metadata": {},
   "outputs": [],
   "source": [
    "pipeline = Pipeline([\n",
    "    ('clf_r', BalancedRandomForestClassifier())\n",
    "])\n",
    "\n",
    "    \n",
    "parameters = {\n",
    "        'clf_r__sampling_strategy': ['auto', 'all'],\n",
    "        'clf_r__class_weight': ['balanced', 'balanced_subsample']\n",
    "    }\n",
    "        \n",
    "    \n",
    "model2 = GridSearchCV(pipeline, param_grid=parameters, verbose=3, cv=5)"
   ]
  },
  {
   "cell_type": "code",
   "execution_count": 96,
   "metadata": {
    "scrolled": true
   },
   "outputs": [
    {
     "name": "stdout",
     "output_type": "stream",
     "text": [
      "Fitting 3 folds for each of 18 candidates, totalling 54 fits\n",
      "[CV] clf_r__max_features=auto, clf_r__min_samples_leaf=1, clf_r__min_samples_split=2 \n",
      "[CV]  clf_r__max_features=auto, clf_r__min_samples_leaf=1, clf_r__min_samples_split=2, score=0.950, total=   4.8s\n",
      "[CV] clf_r__max_features=auto, clf_r__min_samples_leaf=1, clf_r__min_samples_split=2 \n"
     ]
    },
    {
     "name": "stderr",
     "output_type": "stream",
     "text": [
      "[Parallel(n_jobs=None)]: Done   1 out of   1 | elapsed:    4.8s remaining:    0.0s\n"
     ]
    },
    {
     "name": "stdout",
     "output_type": "stream",
     "text": [
      "[CV]  clf_r__max_features=auto, clf_r__min_samples_leaf=1, clf_r__min_samples_split=2, score=0.947, total=   4.8s\n",
      "[CV] clf_r__max_features=auto, clf_r__min_samples_leaf=1, clf_r__min_samples_split=2 \n"
     ]
    },
    {
     "name": "stderr",
     "output_type": "stream",
     "text": [
      "[Parallel(n_jobs=None)]: Done   2 out of   2 | elapsed:    9.6s remaining:    0.0s\n"
     ]
    },
    {
     "name": "stdout",
     "output_type": "stream",
     "text": [
      "[CV]  clf_r__max_features=auto, clf_r__min_samples_leaf=1, clf_r__min_samples_split=2, score=0.950, total=   4.7s\n",
      "[CV] clf_r__max_features=auto, clf_r__min_samples_leaf=1, clf_r__min_samples_split=3 \n",
      "[CV]  clf_r__max_features=auto, clf_r__min_samples_leaf=1, clf_r__min_samples_split=3, score=0.950, total=   4.7s\n",
      "[CV] clf_r__max_features=auto, clf_r__min_samples_leaf=1, clf_r__min_samples_split=3 \n",
      "[CV]  clf_r__max_features=auto, clf_r__min_samples_leaf=1, clf_r__min_samples_split=3, score=0.947, total=   4.7s\n",
      "[CV] clf_r__max_features=auto, clf_r__min_samples_leaf=1, clf_r__min_samples_split=3 \n",
      "[CV]  clf_r__max_features=auto, clf_r__min_samples_leaf=1, clf_r__min_samples_split=3, score=0.950, total=   4.7s\n",
      "[CV] clf_r__max_features=auto, clf_r__min_samples_leaf=1, clf_r__min_samples_split=4 \n",
      "[CV]  clf_r__max_features=auto, clf_r__min_samples_leaf=1, clf_r__min_samples_split=4, score=0.950, total=   4.8s\n",
      "[CV] clf_r__max_features=auto, clf_r__min_samples_leaf=1, clf_r__min_samples_split=4 \n",
      "[CV]  clf_r__max_features=auto, clf_r__min_samples_leaf=1, clf_r__min_samples_split=4, score=0.947, total=   4.7s\n",
      "[CV] clf_r__max_features=auto, clf_r__min_samples_leaf=1, clf_r__min_samples_split=4 \n",
      "[CV]  clf_r__max_features=auto, clf_r__min_samples_leaf=1, clf_r__min_samples_split=4, score=0.950, total=   4.7s\n",
      "[CV] clf_r__max_features=auto, clf_r__min_samples_leaf=2, clf_r__min_samples_split=2 \n",
      "[CV]  clf_r__max_features=auto, clf_r__min_samples_leaf=2, clf_r__min_samples_split=2, score=0.950, total=   4.6s\n",
      "[CV] clf_r__max_features=auto, clf_r__min_samples_leaf=2, clf_r__min_samples_split=2 \n",
      "[CV]  clf_r__max_features=auto, clf_r__min_samples_leaf=2, clf_r__min_samples_split=2, score=0.947, total=   4.8s\n",
      "[CV] clf_r__max_features=auto, clf_r__min_samples_leaf=2, clf_r__min_samples_split=2 \n",
      "[CV]  clf_r__max_features=auto, clf_r__min_samples_leaf=2, clf_r__min_samples_split=2, score=0.950, total=   4.5s\n",
      "[CV] clf_r__max_features=auto, clf_r__min_samples_leaf=2, clf_r__min_samples_split=3 \n",
      "[CV]  clf_r__max_features=auto, clf_r__min_samples_leaf=2, clf_r__min_samples_split=3, score=0.950, total=   4.6s\n",
      "[CV] clf_r__max_features=auto, clf_r__min_samples_leaf=2, clf_r__min_samples_split=3 \n",
      "[CV]  clf_r__max_features=auto, clf_r__min_samples_leaf=2, clf_r__min_samples_split=3, score=0.947, total=   4.6s\n",
      "[CV] clf_r__max_features=auto, clf_r__min_samples_leaf=2, clf_r__min_samples_split=3 \n",
      "[CV]  clf_r__max_features=auto, clf_r__min_samples_leaf=2, clf_r__min_samples_split=3, score=0.950, total=   4.6s\n",
      "[CV] clf_r__max_features=auto, clf_r__min_samples_leaf=2, clf_r__min_samples_split=4 \n",
      "[CV]  clf_r__max_features=auto, clf_r__min_samples_leaf=2, clf_r__min_samples_split=4, score=0.950, total=   4.6s\n",
      "[CV] clf_r__max_features=auto, clf_r__min_samples_leaf=2, clf_r__min_samples_split=4 \n",
      "[CV]  clf_r__max_features=auto, clf_r__min_samples_leaf=2, clf_r__min_samples_split=4, score=0.947, total=   4.5s\n",
      "[CV] clf_r__max_features=auto, clf_r__min_samples_leaf=2, clf_r__min_samples_split=4 \n",
      "[CV]  clf_r__max_features=auto, clf_r__min_samples_leaf=2, clf_r__min_samples_split=4, score=0.950, total=   4.6s\n",
      "[CV] clf_r__max_features=auto, clf_r__min_samples_leaf=4, clf_r__min_samples_split=2 \n",
      "[CV]  clf_r__max_features=auto, clf_r__min_samples_leaf=4, clf_r__min_samples_split=2, score=0.950, total=   4.5s\n",
      "[CV] clf_r__max_features=auto, clf_r__min_samples_leaf=4, clf_r__min_samples_split=2 \n",
      "[CV]  clf_r__max_features=auto, clf_r__min_samples_leaf=4, clf_r__min_samples_split=2, score=0.947, total=   4.7s\n",
      "[CV] clf_r__max_features=auto, clf_r__min_samples_leaf=4, clf_r__min_samples_split=2 \n",
      "[CV]  clf_r__max_features=auto, clf_r__min_samples_leaf=4, clf_r__min_samples_split=2, score=0.950, total=   4.6s\n",
      "[CV] clf_r__max_features=auto, clf_r__min_samples_leaf=4, clf_r__min_samples_split=3 \n",
      "[CV]  clf_r__max_features=auto, clf_r__min_samples_leaf=4, clf_r__min_samples_split=3, score=0.950, total=   4.6s\n",
      "[CV] clf_r__max_features=auto, clf_r__min_samples_leaf=4, clf_r__min_samples_split=3 \n",
      "[CV]  clf_r__max_features=auto, clf_r__min_samples_leaf=4, clf_r__min_samples_split=3, score=0.947, total=   4.7s\n",
      "[CV] clf_r__max_features=auto, clf_r__min_samples_leaf=4, clf_r__min_samples_split=3 \n",
      "[CV]  clf_r__max_features=auto, clf_r__min_samples_leaf=4, clf_r__min_samples_split=3, score=0.950, total=   4.6s\n",
      "[CV] clf_r__max_features=auto, clf_r__min_samples_leaf=4, clf_r__min_samples_split=4 \n",
      "[CV]  clf_r__max_features=auto, clf_r__min_samples_leaf=4, clf_r__min_samples_split=4, score=0.950, total=   4.6s\n",
      "[CV] clf_r__max_features=auto, clf_r__min_samples_leaf=4, clf_r__min_samples_split=4 \n",
      "[CV]  clf_r__max_features=auto, clf_r__min_samples_leaf=4, clf_r__min_samples_split=4, score=0.947, total=   4.8s\n",
      "[CV] clf_r__max_features=auto, clf_r__min_samples_leaf=4, clf_r__min_samples_split=4 \n",
      "[CV]  clf_r__max_features=auto, clf_r__min_samples_leaf=4, clf_r__min_samples_split=4, score=0.950, total=   4.6s\n",
      "[CV] clf_r__max_features=sqrt, clf_r__min_samples_leaf=1, clf_r__min_samples_split=2 \n",
      "[CV]  clf_r__max_features=sqrt, clf_r__min_samples_leaf=1, clf_r__min_samples_split=2, score=0.950, total=   4.6s\n",
      "[CV] clf_r__max_features=sqrt, clf_r__min_samples_leaf=1, clf_r__min_samples_split=2 \n",
      "[CV]  clf_r__max_features=sqrt, clf_r__min_samples_leaf=1, clf_r__min_samples_split=2, score=0.947, total=   4.7s\n",
      "[CV] clf_r__max_features=sqrt, clf_r__min_samples_leaf=1, clf_r__min_samples_split=2 \n",
      "[CV]  clf_r__max_features=sqrt, clf_r__min_samples_leaf=1, clf_r__min_samples_split=2, score=0.950, total=   4.5s\n",
      "[CV] clf_r__max_features=sqrt, clf_r__min_samples_leaf=1, clf_r__min_samples_split=3 \n",
      "[CV]  clf_r__max_features=sqrt, clf_r__min_samples_leaf=1, clf_r__min_samples_split=3, score=0.950, total=   4.5s\n",
      "[CV] clf_r__max_features=sqrt, clf_r__min_samples_leaf=1, clf_r__min_samples_split=3 \n",
      "[CV]  clf_r__max_features=sqrt, clf_r__min_samples_leaf=1, clf_r__min_samples_split=3, score=0.947, total=   4.6s\n",
      "[CV] clf_r__max_features=sqrt, clf_r__min_samples_leaf=1, clf_r__min_samples_split=3 \n",
      "[CV]  clf_r__max_features=sqrt, clf_r__min_samples_leaf=1, clf_r__min_samples_split=3, score=0.950, total=   4.6s\n",
      "[CV] clf_r__max_features=sqrt, clf_r__min_samples_leaf=1, clf_r__min_samples_split=4 \n",
      "[CV]  clf_r__max_features=sqrt, clf_r__min_samples_leaf=1, clf_r__min_samples_split=4, score=0.950, total=   4.6s\n",
      "[CV] clf_r__max_features=sqrt, clf_r__min_samples_leaf=1, clf_r__min_samples_split=4 \n",
      "[CV]  clf_r__max_features=sqrt, clf_r__min_samples_leaf=1, clf_r__min_samples_split=4, score=0.947, total=   4.7s\n",
      "[CV] clf_r__max_features=sqrt, clf_r__min_samples_leaf=1, clf_r__min_samples_split=4 \n",
      "[CV]  clf_r__max_features=sqrt, clf_r__min_samples_leaf=1, clf_r__min_samples_split=4, score=0.950, total=   4.7s\n",
      "[CV] clf_r__max_features=sqrt, clf_r__min_samples_leaf=2, clf_r__min_samples_split=2 \n",
      "[CV]  clf_r__max_features=sqrt, clf_r__min_samples_leaf=2, clf_r__min_samples_split=2, score=0.950, total=   4.6s\n",
      "[CV] clf_r__max_features=sqrt, clf_r__min_samples_leaf=2, clf_r__min_samples_split=2 \n",
      "[CV]  clf_r__max_features=sqrt, clf_r__min_samples_leaf=2, clf_r__min_samples_split=2, score=0.947, total=   4.6s\n",
      "[CV] clf_r__max_features=sqrt, clf_r__min_samples_leaf=2, clf_r__min_samples_split=2 \n",
      "[CV]  clf_r__max_features=sqrt, clf_r__min_samples_leaf=2, clf_r__min_samples_split=2, score=0.950, total=   4.6s\n",
      "[CV] clf_r__max_features=sqrt, clf_r__min_samples_leaf=2, clf_r__min_samples_split=3 \n",
      "[CV]  clf_r__max_features=sqrt, clf_r__min_samples_leaf=2, clf_r__min_samples_split=3, score=0.950, total=   4.6s\n",
      "[CV] clf_r__max_features=sqrt, clf_r__min_samples_leaf=2, clf_r__min_samples_split=3 \n",
      "[CV]  clf_r__max_features=sqrt, clf_r__min_samples_leaf=2, clf_r__min_samples_split=3, score=0.947, total=   4.7s\n",
      "[CV] clf_r__max_features=sqrt, clf_r__min_samples_leaf=2, clf_r__min_samples_split=3 \n",
      "[CV]  clf_r__max_features=sqrt, clf_r__min_samples_leaf=2, clf_r__min_samples_split=3, score=0.950, total=   4.6s\n",
      "[CV] clf_r__max_features=sqrt, clf_r__min_samples_leaf=2, clf_r__min_samples_split=4 \n",
      "[CV]  clf_r__max_features=sqrt, clf_r__min_samples_leaf=2, clf_r__min_samples_split=4, score=0.950, total=   4.6s\n",
      "[CV] clf_r__max_features=sqrt, clf_r__min_samples_leaf=2, clf_r__min_samples_split=4 \n"
     ]
    },
    {
     "name": "stdout",
     "output_type": "stream",
     "text": [
      "[CV]  clf_r__max_features=sqrt, clf_r__min_samples_leaf=2, clf_r__min_samples_split=4, score=0.947, total=   4.5s\n",
      "[CV] clf_r__max_features=sqrt, clf_r__min_samples_leaf=2, clf_r__min_samples_split=4 \n",
      "[CV]  clf_r__max_features=sqrt, clf_r__min_samples_leaf=2, clf_r__min_samples_split=4, score=0.950, total=   4.6s\n",
      "[CV] clf_r__max_features=sqrt, clf_r__min_samples_leaf=4, clf_r__min_samples_split=2 \n",
      "[CV]  clf_r__max_features=sqrt, clf_r__min_samples_leaf=4, clf_r__min_samples_split=2, score=0.950, total=   4.5s\n",
      "[CV] clf_r__max_features=sqrt, clf_r__min_samples_leaf=4, clf_r__min_samples_split=2 \n",
      "[CV]  clf_r__max_features=sqrt, clf_r__min_samples_leaf=4, clf_r__min_samples_split=2, score=0.947, total=   4.6s\n",
      "[CV] clf_r__max_features=sqrt, clf_r__min_samples_leaf=4, clf_r__min_samples_split=2 \n",
      "[CV]  clf_r__max_features=sqrt, clf_r__min_samples_leaf=4, clf_r__min_samples_split=2, score=0.950, total=   4.6s\n",
      "[CV] clf_r__max_features=sqrt, clf_r__min_samples_leaf=4, clf_r__min_samples_split=3 \n",
      "[CV]  clf_r__max_features=sqrt, clf_r__min_samples_leaf=4, clf_r__min_samples_split=3, score=0.950, total=   4.6s\n",
      "[CV] clf_r__max_features=sqrt, clf_r__min_samples_leaf=4, clf_r__min_samples_split=3 \n",
      "[CV]  clf_r__max_features=sqrt, clf_r__min_samples_leaf=4, clf_r__min_samples_split=3, score=0.947, total=   4.6s\n",
      "[CV] clf_r__max_features=sqrt, clf_r__min_samples_leaf=4, clf_r__min_samples_split=3 \n",
      "[CV]  clf_r__max_features=sqrt, clf_r__min_samples_leaf=4, clf_r__min_samples_split=3, score=0.950, total=   4.6s\n",
      "[CV] clf_r__max_features=sqrt, clf_r__min_samples_leaf=4, clf_r__min_samples_split=4 \n",
      "[CV]  clf_r__max_features=sqrt, clf_r__min_samples_leaf=4, clf_r__min_samples_split=4, score=0.950, total=   4.6s\n",
      "[CV] clf_r__max_features=sqrt, clf_r__min_samples_leaf=4, clf_r__min_samples_split=4 \n",
      "[CV]  clf_r__max_features=sqrt, clf_r__min_samples_leaf=4, clf_r__min_samples_split=4, score=0.947, total=   4.6s\n",
      "[CV] clf_r__max_features=sqrt, clf_r__min_samples_leaf=4, clf_r__min_samples_split=4 \n",
      "[CV]  clf_r__max_features=sqrt, clf_r__min_samples_leaf=4, clf_r__min_samples_split=4, score=0.950, total=   4.6s\n"
     ]
    },
    {
     "name": "stderr",
     "output_type": "stream",
     "text": [
      "[Parallel(n_jobs=None)]: Done  54 out of  54 | elapsed:  4.2min finished\n"
     ]
    },
    {
     "data": {
      "text/plain": [
       "GridSearchCV(cv=3,\n",
       "             estimator=Pipeline(steps=[('clf_r', RandomForestClassifier())]),\n",
       "             param_grid={'clf_r__max_features': ['auto', 'sqrt'],\n",
       "                         'clf_r__min_samples_leaf': [1, 2, 4],\n",
       "                         'clf_r__min_samples_split': [2, 3, 4]},\n",
       "             verbose=3)"
      ]
     },
     "execution_count": 96,
     "metadata": {},
     "output_type": "execute_result"
    }
   ],
   "source": [
    "model.fit(X_train, y_train)"
   ]
  },
  {
   "cell_type": "code",
   "execution_count": null,
   "metadata": {},
   "outputs": [],
   "source": [
    "model2.fit(X_train, y_train)"
   ]
  },
  {
   "cell_type": "code",
   "execution_count": 107,
   "metadata": {},
   "outputs": [],
   "source": [
    "model1 = model.best_estimator_\n",
    "model1"
   ]
  },
  {
   "cell_type": "code",
   "execution_count": null,
   "metadata": {},
   "outputs": [],
   "source": [
    "brfc_model = model2.best_estimator_\n",
    "brfc_model"
   ]
  },
  {
   "cell_type": "code",
   "execution_count": 108,
   "metadata": {},
   "outputs": [
    {
     "data": {
      "text/plain": [
       "Pipeline(steps=[('clf_r', RandomForestClassifier(min_samples_split=3))])"
      ]
     },
     "execution_count": 108,
     "metadata": {},
     "output_type": "execute_result"
    }
   ],
   "source": [
    "optimized_RFC"
   ]
  },
  {
   "cell_type": "code",
   "execution_count": 100,
   "metadata": {},
   "outputs": [],
   "source": [
    "optimized_RFC_pred = optimized_RFC.predict(X_test)"
   ]
  },
  {
   "cell_type": "code",
   "execution_count": 105,
   "metadata": {},
   "outputs": [
    {
     "data": {
      "text/plain": [
       "array([0, 0, 0, ..., 1, 0, 0])"
      ]
     },
     "execution_count": 105,
     "metadata": {},
     "output_type": "execute_result"
    }
   ],
   "source": [
    "optimized_RFC_pred"
   ]
  },
  {
   "cell_type": "code",
   "execution_count": 102,
   "metadata": {},
   "outputs": [
    {
     "data": {
      "text/plain": [
       "array(['No', 'No', 'No', ..., 'Yes', 'No', 'No'], dtype='<U3')"
      ]
     },
     "execution_count": 102,
     "metadata": {},
     "output_type": "execute_result"
    }
   ],
   "source": [
    "promotion_yes_no = []\n",
    "for value in optimized_RFC_pred:\n",
    "    if value == 0:\n",
    "        promotion_yes_no.append(\"No\")\n",
    "    if value == 1:\n",
    "        promotion_yes_no.append(\"Yes\")\n",
    "        \n",
    "promotion = np.asarray(promotion_yes_no)\n",
    "    \n",
    "promotion"
   ]
  },
  {
   "cell_type": "code",
   "execution_count": 103,
   "metadata": {
    "scrolled": true
   },
   "outputs": [
    {
     "name": "stdout",
     "output_type": "stream",
     "text": [
      "0.9474514936864799\n",
      "0.9293441689528442\n",
      "0.9798079022047588\n"
     ]
    }
   ],
   "source": [
    "print(accuracy_score(y_test, optimized_RFC_pred))\n",
    "print(f1_score(y_test, optimized_RFC_pred))\n",
    "print(recall_score(y_test, optimized_RFC_pred))"
   ]
  },
  {
   "cell_type": "markdown",
   "metadata": {},
   "source": [
    "## Model Testing"
   ]
  },
  {
   "cell_type": "code",
   "execution_count": 102,
   "metadata": {},
   "outputs": [],
   "source": [
    "def promotion_strategy(df):\n",
    "    '''\n",
    "    INPUT \n",
    "    df - a dataframe with *only* the columns V1 - V7 (same as train_data)\n",
    "\n",
    "    OUTPUT\n",
    "    promotion_df - np.array with the values\n",
    "                   'Yes' or 'No' related to whether or not an \n",
    "                   individual should recieve a promotion \n",
    "                   should be the length of df.shape[0]\n",
    "                \n",
    "    Ex:\n",
    "    INPUT: df\n",
    "    \n",
    "    V1\tV2\t  V3\tV4\tV5\tV6\tV7\n",
    "    2\t30\t-1.1\t1\t1\t3\t2\n",
    "    3\t32\t-0.6\t2\t3\t2\t2\n",
    "    2\t30\t0.13\t1\t1\t4\t2\n",
    "    \n",
    "    OUTPUT: promotion\n",
    "    \n",
    "    array(['Yes', 'Yes', 'No'])\n",
    "    indicating the first two users would recieve the promotion and \n",
    "    the last should not.\n",
    "    ''' \n",
    "    \n",
    "    \"\"\"dummy_df = pd.get_dummies(data=df, columns = ['V1', 'V4', 'V5', 'V6', 'V7'])\n",
    "    X = dummy_df.iloc[:,5:]\n",
    "    y = dummy_df['purchase']\n",
    "    svms = SVMSMOTE(random_state=42)\n",
    "    X, y = svms.fit_resample(X,y)\n",
    "    X_train, X_test, y_train, y_test = train_test_split(X, \n",
    "                                                        y, \n",
    "                                                        test_size=0.2, \n",
    "                                                        random_state=42)\n",
    "    \n",
    "    scaler.fit(X_train)\n",
    "    X_train = scaler.transform(X_train)\n",
    "    X_test = scaler.transform(X_test)\"\"\"\n",
    "    \n",
    "    # rfc = RandomForestClassifier(min_samples_split=3)\n",
    "    \n",
    "    rand_y_pred = model1.predict(df)\n",
    "    my_map = {0: \"No\", 1: \"Yes\"}\n",
    "    promotion = np.vectorize(my_map.get)(rand_y_pred)\n",
    "    \n",
    "    return promotion"
   ]
  },
  {
   "cell_type": "code",
   "execution_count": 103,
   "metadata": {
    "scrolled": false
   },
   "outputs": [
    {
     "name": "stdout",
     "output_type": "stream",
     "text": [
      "['No' 'No' 'No' ... 'No' 'No' 'No']\n",
      "41650\n",
      "Nice job!  See how well your strategy worked on our test data below!\n",
      "\n",
      "Your irr with this strategy is 0.0242.\n",
      "\n",
      "Your nir with this strategy is 18.95.\n",
      "We came up with a model with an irr of 0.0188 and an nir of 189.45 on the test set.\n",
      "\n",
      " How did you do?\n"
     ]
    },
    {
     "data": {
      "text/plain": [
       "(0.02422360248447205, 18.950000000000003)"
      ]
     },
     "execution_count": 103,
     "metadata": {},
     "output_type": "execute_result"
    }
   ],
   "source": [
    "test_results(promotion_strategy)"
   ]
  },
  {
   "cell_type": "code",
   "execution_count": 108,
   "metadata": {},
   "outputs": [],
   "source": [
    "def promotion_strategy(df):\n",
    "    '''\n",
    "    INPUT \n",
    "    df - a dataframe with *only* the columns V1 - V7 (same as train_data)\n",
    "\n",
    "    OUTPUT\n",
    "    promotion_df - np.array with the values\n",
    "                   'Yes' or 'No' related to whether or not an \n",
    "                   individual should recieve a promotion \n",
    "                   should be the length of df.shape[0]\n",
    "                \n",
    "    Ex:\n",
    "    INPUT: df\n",
    "    \n",
    "    V1\tV2\t  V3\tV4\tV5\tV6\tV7\n",
    "    2\t30\t-1.1\t1\t1\t3\t2\n",
    "    3\t32\t-0.6\t2\t3\t2\t2\n",
    "    2\t30\t0.13\t1\t1\t4\t2\n",
    "    \n",
    "    OUTPUT: promotion\n",
    "    \n",
    "    array(['Yes', 'Yes', 'No'])\n",
    "    indicating the first two users would recieve the promotion and \n",
    "    the last should not.\n",
    "    '''\n",
    "    blrf_y_pred = brfc_model.predict(df)\n",
    "    my_map = {0: \"No\", 1: \"Yes\"}\n",
    "    promotion = np.vectorize(my_map.get)(blrf_y_pred)\n",
    "    \n",
    "    return promotion"
   ]
  },
  {
   "cell_type": "code",
   "execution_count": 109,
   "metadata": {
    "scrolled": false
   },
   "outputs": [
    {
     "name": "stdout",
     "output_type": "stream",
     "text": [
      "Nice job!  See how well your strategy worked on our test data below!\n",
      "\n",
      "Your irr with this strategy is 0.0201.\n",
      "\n",
      "Your nir with this strategy is 9.85.\n",
      "We came up with a model with an irr of 0.0188 and an nir of 189.45 on the test set.\n",
      "\n",
      " How did you do?\n"
     ]
    },
    {
     "data": {
      "text/plain": [
       "(0.020090932895331953, 9.850000000000001)"
      ]
     },
     "execution_count": 109,
     "metadata": {},
     "output_type": "execute_result"
    }
   ],
   "source": [
    "test_results(promotion_strategy)"
   ]
  },
  {
   "cell_type": "code",
   "execution_count": 90,
   "metadata": {},
   "outputs": [
    {
     "data": {
      "text/plain": [
       "array([0, 0, 0, ..., 1, 0, 0], dtype=int64)"
      ]
     },
     "execution_count": 90,
     "metadata": {},
     "output_type": "execute_result"
    }
   ],
   "source": [
    "blrf_y_pred"
   ]
  },
  {
   "cell_type": "code",
   "execution_count": null,
   "metadata": {},
   "outputs": [],
   "source": []
  }
 ],
 "metadata": {
  "kernelspec": {
   "display_name": "Python 3",
   "language": "python",
   "name": "python3"
  },
  "language_info": {
   "codemirror_mode": {
    "name": "ipython",
    "version": 3
   },
   "file_extension": ".py",
   "mimetype": "text/x-python",
   "name": "python",
   "nbconvert_exporter": "python",
   "pygments_lexer": "ipython3",
   "version": "3.7.4"
  }
 },
 "nbformat": 4,
 "nbformat_minor": 2
}

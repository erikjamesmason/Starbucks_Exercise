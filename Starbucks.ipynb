{
 "cells": [
  {
   "cell_type": "markdown",
   "metadata": {},
   "source": [
    "## Portfolio Exercise: Starbucks\n",
    "<br>\n",
    "\n",
    "<img src=\"https://opj.ca/wp-content/uploads/2018/02/New-Starbucks-Logo-1200x969.jpg\" width=\"200\" height=\"200\">\n",
    "<br>\n",
    "<br>\n",
    " \n",
    "#### Background Information\n",
    "\n",
    "The dataset you will be provided in this portfolio exercise was originally used as a take-home assignment provided by Starbucks for their job candidates. The data for this exercise consists of about 120,000 data points split in a 2:1 ratio among training and test files. In the experiment simulated by the data, an advertising promotion was tested to see if it would bring more customers to purchase a specific product priced at $10. Since it costs the company 0.15 to send out each promotion, it would be best to limit that promotion only to those that are most receptive to the promotion. Each data point includes one column indicating whether or not an individual was sent a promotion for the product, and one column indicating whether or not that individual eventually purchased that product. Each individual also has seven additional features associated with them, which are provided abstractly as V1-V7.\n",
    "\n",
    "#### Optimization Strategy\n",
    "\n",
    "Your task is to use the training data to understand what patterns in V1-V7 to indicate that a promotion should be provided to a user. Specifically, your goal is to maximize the following metrics:\n",
    "\n",
    "* **Incremental Response Rate (IRR)** \n",
    "\n",
    "IRR depicts how many more customers purchased the product with the promotion, as compared to if they didn't receive the promotion. Mathematically, it's the ratio of the number of purchasers in the promotion group to the total number of customers in the purchasers group (_treatment_) minus the ratio of the number of purchasers in the non-promotional group to the total number of customers in the non-promotional group (_control_).\n",
    "\n",
    "$$ IRR = \\frac{purch_{treat}}{cust_{treat}} - \\frac{purch_{ctrl}}{cust_{ctrl}} $$\n",
    "\n",
    "\n",
    "* **Net Incremental Revenue (NIR)**\n",
    "\n",
    "NIR depicts how much is made (or lost) by sending out the promotion. Mathematically, this is 10 times the total number of purchasers that received the promotion minus 0.15 times the number of promotions sent out, minus 10 times the number of purchasers who were not given the promotion.\n",
    "\n",
    "$$ NIR = (10\\cdot purch_{treat} - 0.15 \\cdot cust_{treat}) - 10 \\cdot purch_{ctrl}$$\n",
    "\n",
    "For a full description of what Starbucks provides to candidates see the [instructions available here](https://drive.google.com/open?id=18klca9Sef1Rs6q8DW4l7o349r8B70qXM).\n",
    "\n",
    "Below you can find the training data provided.  Explore the data and different optimization strategies.\n",
    "\n",
    "#### How To Test Your Strategy?\n",
    "\n",
    "When you feel like you have an optimization strategy, complete the `promotion_strategy` function to pass to the `test_results` function.  \n",
    "From past data, we know there are four possible outomes:\n",
    "\n",
    "Table of actual promotion vs. predicted promotion customers:  \n",
    "\n",
    "<table>\n",
    "<tr><th></th><th colspan = '2'>Actual</th></tr>\n",
    "<tr><th>Predicted</th><th>Yes</th><th>No</th></tr>\n",
    "<tr><th>Yes</th><td>I</td><td>II</td></tr>\n",
    "<tr><th>No</th><td>III</td><td>IV</td></tr>\n",
    "</table>\n",
    "\n",
    "The metrics are only being compared for the individuals we predict should obtain the promotion – that is, quadrants I and II.  Since the first set of individuals that receive the promotion (in the training set) receive it randomly, we can expect that quadrants I and II will have approximately equivalent participants.  \n",
    "\n",
    "Comparing quadrant I to II then gives an idea of how well your promotion strategy will work in the future. \n",
    "\n",
    "Get started by reading in the data below.  See how each variable or combination of variables along with a promotion influences the chance of purchasing.  When you feel like you have a strategy for who should receive a promotion, test your strategy against the test dataset used in the final `test_results` function."
   ]
  },
  {
   "cell_type": "raw",
   "metadata": {},
   "source": [
    "!pip install --trusted-host pypi.org --trusted-host files.pythonhosted.org pip setuptools"
   ]
  },
  {
   "cell_type": "raw",
   "metadata": {
    "scrolled": true
   },
   "source": [
    "!pip3 install --trusted-host pypi.org --trusted-host files.pythonhosted.org imblearn"
   ]
  },
  {
   "cell_type": "raw",
   "metadata": {
    "scrolled": true
   },
   "source": [
    "!pip freeze"
   ]
  },
  {
   "cell_type": "raw",
   "metadata": {},
   "source": [
    "!pip install -U numpy"
   ]
  },
  {
   "cell_type": "raw",
   "metadata": {},
   "source": [
    "!pip install -U imbalanced-learn"
   ]
  },
  {
   "cell_type": "raw",
   "metadata": {},
   "source": [
    "!pip freeze > requirements.txt"
   ]
  },
  {
   "cell_type": "markdown",
   "metadata": {},
   "source": [
    "# Sections\n",
    "## EDA\n",
    "### 1. Load Packages\n",
    "### 2. Load Data\n",
    "### 3. Explore Data\n",
    "### 4. Parse and Inspect Data\n",
    "### 5. Correlation Mapping\n",
    "### 6. Baseline\n",
    "### 7. Build Stategy\n",
    "### 8. Test 1\n",
    "## Model Building\n",
    "### 1. Model Preparation\n",
    "### 2. Model Testing\n",
    "####   1. Logistic Regression\n",
    "####   2. Random Forest Classification\n",
    "####   3. Gradient Boosting Classification\n",
    "####   4. Balanced Random Forest Classification\n",
    "### 3. Pipeline Build\n",
    "### 4. Pipeline Testing\n",
    "### 5. Test 2\n",
    "## Further Exploration"
   ]
  },
  {
   "cell_type": "markdown",
   "metadata": {},
   "source": [
    "---"
   ]
  },
  {
   "cell_type": "markdown",
   "metadata": {},
   "source": [
    "## Load packages"
   ]
  },
  {
   "cell_type": "markdown",
   "metadata": {},
   "source": [
    "### standard packages"
   ]
  },
  {
   "cell_type": "code",
   "execution_count": 149,
   "metadata": {},
   "outputs": [],
   "source": [
    "# load in packages\n",
    "from itertools import combinations\n",
    "\n",
    "from test_results import test_results, score\n",
    "import numpy as np\n",
    "import pandas as pd\n",
    "import scipy as sp\n",
    "import sklearn as sk\n",
    "\n",
    "import matplotlib.pyplot as plt\n",
    "import seaborn as sns\n",
    "%matplotlib inline"
   ]
  },
  {
   "cell_type": "markdown",
   "metadata": {},
   "source": [
    "### ML packages"
   ]
  },
  {
   "cell_type": "code",
   "execution_count": 150,
   "metadata": {},
   "outputs": [],
   "source": [
    "import scipy as sp\n",
    "import sklearn as sk\n",
    "\n",
    "from sklearn.model_selection import train_test_split\n",
    "from sklearn.model_selection import GridSearchCV\n",
    "from sklearn.model_selection import RandomizedSearchCV\n",
    "\n",
    "from sklearn.svm import LinearSVC\n",
    "from sklearn.linear_model import LogisticRegression\n",
    "\n",
    "from sklearn.multioutput import MultiOutputClassifier\n",
    "from sklearn.multiclass import OneVsRestClassifier\n",
    "from sklearn.ensemble import AdaBoostClassifier\n",
    "from sklearn.ensemble import RandomForestClassifier\n",
    "from sklearn.ensemble import GradientBoostingClassifier\n",
    "\n",
    "from sklearn.pipeline import Pipeline, FeatureUnion\n",
    "from sklearn.datasets import make_multilabel_classification\n",
    "from sklearn.metrics import confusion_matrix, precision_score, recall_score, accuracy_score, f1_score"
   ]
  },
  {
   "cell_type": "markdown",
   "metadata": {},
   "source": [
    "### Misc. Packages"
   ]
  },
  {
   "cell_type": "code",
   "execution_count": 151,
   "metadata": {
    "scrolled": true
   },
   "outputs": [],
   "source": [
    "# imbalance\n",
    "# from imblearn.over_sampling import SVMSMOTE\n",
    "from imblearn.over_sampling import SMOTE\n",
    "\n",
    "from imblearn.over_sampling import SVMSMOTE\n"
   ]
  },
  {
   "cell_type": "markdown",
   "metadata": {},
   "source": [
    "## Load Data"
   ]
  },
  {
   "cell_type": "code",
   "execution_count": 226,
   "metadata": {},
   "outputs": [
    {
     "data": {
      "text/html": [
       "<div>\n",
       "<style scoped>\n",
       "    .dataframe tbody tr th:only-of-type {\n",
       "        vertical-align: middle;\n",
       "    }\n",
       "\n",
       "    .dataframe tbody tr th {\n",
       "        vertical-align: top;\n",
       "    }\n",
       "\n",
       "    .dataframe thead th {\n",
       "        text-align: right;\n",
       "    }\n",
       "</style>\n",
       "<table border=\"1\" class=\"dataframe\">\n",
       "  <thead>\n",
       "    <tr style=\"text-align: right;\">\n",
       "      <th></th>\n",
       "      <th>ID</th>\n",
       "      <th>Promotion</th>\n",
       "      <th>purchase</th>\n",
       "      <th>V1</th>\n",
       "      <th>V2</th>\n",
       "      <th>V3</th>\n",
       "      <th>V4</th>\n",
       "      <th>V5</th>\n",
       "      <th>V6</th>\n",
       "      <th>V7</th>\n",
       "    </tr>\n",
       "  </thead>\n",
       "  <tbody>\n",
       "    <tr>\n",
       "      <th>0</th>\n",
       "      <td>1</td>\n",
       "      <td>No</td>\n",
       "      <td>0</td>\n",
       "      <td>2</td>\n",
       "      <td>30.443518</td>\n",
       "      <td>-1.165083</td>\n",
       "      <td>1</td>\n",
       "      <td>1</td>\n",
       "      <td>3</td>\n",
       "      <td>2</td>\n",
       "    </tr>\n",
       "    <tr>\n",
       "      <th>1</th>\n",
       "      <td>3</td>\n",
       "      <td>No</td>\n",
       "      <td>0</td>\n",
       "      <td>3</td>\n",
       "      <td>32.159350</td>\n",
       "      <td>-0.645617</td>\n",
       "      <td>2</td>\n",
       "      <td>3</td>\n",
       "      <td>2</td>\n",
       "      <td>2</td>\n",
       "    </tr>\n",
       "    <tr>\n",
       "      <th>2</th>\n",
       "      <td>4</td>\n",
       "      <td>No</td>\n",
       "      <td>0</td>\n",
       "      <td>2</td>\n",
       "      <td>30.431659</td>\n",
       "      <td>0.133583</td>\n",
       "      <td>1</td>\n",
       "      <td>1</td>\n",
       "      <td>4</td>\n",
       "      <td>2</td>\n",
       "    </tr>\n",
       "    <tr>\n",
       "      <th>3</th>\n",
       "      <td>5</td>\n",
       "      <td>No</td>\n",
       "      <td>0</td>\n",
       "      <td>0</td>\n",
       "      <td>26.588914</td>\n",
       "      <td>-0.212728</td>\n",
       "      <td>2</td>\n",
       "      <td>1</td>\n",
       "      <td>4</td>\n",
       "      <td>2</td>\n",
       "    </tr>\n",
       "    <tr>\n",
       "      <th>4</th>\n",
       "      <td>8</td>\n",
       "      <td>Yes</td>\n",
       "      <td>0</td>\n",
       "      <td>3</td>\n",
       "      <td>28.044332</td>\n",
       "      <td>-0.385883</td>\n",
       "      <td>1</td>\n",
       "      <td>1</td>\n",
       "      <td>2</td>\n",
       "      <td>2</td>\n",
       "    </tr>\n",
       "  </tbody>\n",
       "</table>\n",
       "</div>"
      ],
      "text/plain": [
       "   ID Promotion  purchase  V1         V2        V3  V4  V5  V6  V7\n",
       "0   1        No         0   2  30.443518 -1.165083   1   1   3   2\n",
       "1   3        No         0   3  32.159350 -0.645617   2   3   2   2\n",
       "2   4        No         0   2  30.431659  0.133583   1   1   4   2\n",
       "3   5        No         0   0  26.588914 -0.212728   2   1   4   2\n",
       "4   8       Yes         0   3  28.044332 -0.385883   1   1   2   2"
      ]
     },
     "execution_count": 226,
     "metadata": {},
     "output_type": "execute_result"
    }
   ],
   "source": [
    "# load in the data\n",
    "train_data = pd.read_csv('./training.csv')\n",
    "train_data.head()"
   ]
  },
  {
   "cell_type": "code",
   "execution_count": 227,
   "metadata": {},
   "outputs": [],
   "source": [
    "test_data = pd.read_csv('./Test.csv')"
   ]
  },
  {
   "cell_type": "markdown",
   "metadata": {},
   "source": [
    "## Explore Data"
   ]
  },
  {
   "cell_type": "code",
   "execution_count": 228,
   "metadata": {},
   "outputs": [
    {
     "data": {
      "text/html": [
       "<div>\n",
       "<style scoped>\n",
       "    .dataframe tbody tr th:only-of-type {\n",
       "        vertical-align: middle;\n",
       "    }\n",
       "\n",
       "    .dataframe tbody tr th {\n",
       "        vertical-align: top;\n",
       "    }\n",
       "\n",
       "    .dataframe thead th {\n",
       "        text-align: right;\n",
       "    }\n",
       "</style>\n",
       "<table border=\"1\" class=\"dataframe\">\n",
       "  <thead>\n",
       "    <tr style=\"text-align: right;\">\n",
       "      <th></th>\n",
       "      <th>ID</th>\n",
       "      <th>purchase</th>\n",
       "      <th>V1</th>\n",
       "      <th>V2</th>\n",
       "      <th>V3</th>\n",
       "      <th>V4</th>\n",
       "      <th>V5</th>\n",
       "      <th>V6</th>\n",
       "      <th>V7</th>\n",
       "    </tr>\n",
       "  </thead>\n",
       "  <tbody>\n",
       "    <tr>\n",
       "      <th>count</th>\n",
       "      <td>41650.000000</td>\n",
       "      <td>41650.000000</td>\n",
       "      <td>41650.000000</td>\n",
       "      <td>41650.000000</td>\n",
       "      <td>41650.000000</td>\n",
       "      <td>41650.000000</td>\n",
       "      <td>41650.000000</td>\n",
       "      <td>41650.000000</td>\n",
       "      <td>41650.000000</td>\n",
       "    </tr>\n",
       "    <tr>\n",
       "      <th>mean</th>\n",
       "      <td>63339.155774</td>\n",
       "      <td>0.011525</td>\n",
       "      <td>1.493469</td>\n",
       "      <td>29.986774</td>\n",
       "      <td>-0.000387</td>\n",
       "      <td>1.680792</td>\n",
       "      <td>2.319256</td>\n",
       "      <td>2.505642</td>\n",
       "      <td>1.704010</td>\n",
       "    </tr>\n",
       "    <tr>\n",
       "      <th>std</th>\n",
       "      <td>36441.521173</td>\n",
       "      <td>0.106734</td>\n",
       "      <td>0.864138</td>\n",
       "      <td>4.981025</td>\n",
       "      <td>0.999026</td>\n",
       "      <td>0.466175</td>\n",
       "      <td>0.845162</td>\n",
       "      <td>1.119879</td>\n",
       "      <td>0.456492</td>\n",
       "    </tr>\n",
       "    <tr>\n",
       "      <th>min</th>\n",
       "      <td>2.000000</td>\n",
       "      <td>0.000000</td>\n",
       "      <td>0.000000</td>\n",
       "      <td>9.202546</td>\n",
       "      <td>-1.684550</td>\n",
       "      <td>1.000000</td>\n",
       "      <td>1.000000</td>\n",
       "      <td>1.000000</td>\n",
       "      <td>1.000000</td>\n",
       "    </tr>\n",
       "    <tr>\n",
       "      <th>25%</th>\n",
       "      <td>31688.500000</td>\n",
       "      <td>0.000000</td>\n",
       "      <td>1.000000</td>\n",
       "      <td>26.606134</td>\n",
       "      <td>-0.905350</td>\n",
       "      <td>1.000000</td>\n",
       "      <td>2.000000</td>\n",
       "      <td>2.000000</td>\n",
       "      <td>1.000000</td>\n",
       "    </tr>\n",
       "    <tr>\n",
       "      <th>50%</th>\n",
       "      <td>63601.000000</td>\n",
       "      <td>0.000000</td>\n",
       "      <td>1.000000</td>\n",
       "      <td>29.979507</td>\n",
       "      <td>-0.039572</td>\n",
       "      <td>2.000000</td>\n",
       "      <td>2.000000</td>\n",
       "      <td>3.000000</td>\n",
       "      <td>2.000000</td>\n",
       "    </tr>\n",
       "    <tr>\n",
       "      <th>75%</th>\n",
       "      <td>95017.250000</td>\n",
       "      <td>0.000000</td>\n",
       "      <td>2.000000</td>\n",
       "      <td>33.369989</td>\n",
       "      <td>0.826206</td>\n",
       "      <td>2.000000</td>\n",
       "      <td>3.000000</td>\n",
       "      <td>4.000000</td>\n",
       "      <td>2.000000</td>\n",
       "    </tr>\n",
       "    <tr>\n",
       "      <th>max</th>\n",
       "      <td>126178.000000</td>\n",
       "      <td>1.000000</td>\n",
       "      <td>3.000000</td>\n",
       "      <td>55.107509</td>\n",
       "      <td>1.691984</td>\n",
       "      <td>2.000000</td>\n",
       "      <td>4.000000</td>\n",
       "      <td>4.000000</td>\n",
       "      <td>2.000000</td>\n",
       "    </tr>\n",
       "  </tbody>\n",
       "</table>\n",
       "</div>"
      ],
      "text/plain": [
       "                  ID      purchase            V1            V2            V3  \\\n",
       "count   41650.000000  41650.000000  41650.000000  41650.000000  41650.000000   \n",
       "mean    63339.155774      0.011525      1.493469     29.986774     -0.000387   \n",
       "std     36441.521173      0.106734      0.864138      4.981025      0.999026   \n",
       "min         2.000000      0.000000      0.000000      9.202546     -1.684550   \n",
       "25%     31688.500000      0.000000      1.000000     26.606134     -0.905350   \n",
       "50%     63601.000000      0.000000      1.000000     29.979507     -0.039572   \n",
       "75%     95017.250000      0.000000      2.000000     33.369989      0.826206   \n",
       "max    126178.000000      1.000000      3.000000     55.107509      1.691984   \n",
       "\n",
       "                 V4            V5            V6            V7  \n",
       "count  41650.000000  41650.000000  41650.000000  41650.000000  \n",
       "mean       1.680792      2.319256      2.505642      1.704010  \n",
       "std        0.466175      0.845162      1.119879      0.456492  \n",
       "min        1.000000      1.000000      1.000000      1.000000  \n",
       "25%        1.000000      2.000000      2.000000      1.000000  \n",
       "50%        2.000000      2.000000      3.000000      2.000000  \n",
       "75%        2.000000      3.000000      4.000000      2.000000  \n",
       "max        2.000000      4.000000      4.000000      2.000000  "
      ]
     },
     "execution_count": 228,
     "metadata": {},
     "output_type": "execute_result"
    }
   ],
   "source": [
    "test_data.describe()"
   ]
  },
  {
   "cell_type": "code",
   "execution_count": 229,
   "metadata": {},
   "outputs": [
    {
     "data": {
      "text/html": [
       "<div>\n",
       "<style scoped>\n",
       "    .dataframe tbody tr th:only-of-type {\n",
       "        vertical-align: middle;\n",
       "    }\n",
       "\n",
       "    .dataframe tbody tr th {\n",
       "        vertical-align: top;\n",
       "    }\n",
       "\n",
       "    .dataframe thead th {\n",
       "        text-align: right;\n",
       "    }\n",
       "</style>\n",
       "<table border=\"1\" class=\"dataframe\">\n",
       "  <thead>\n",
       "    <tr style=\"text-align: right;\">\n",
       "      <th></th>\n",
       "      <th>ID</th>\n",
       "      <th>purchase</th>\n",
       "      <th>V1</th>\n",
       "      <th>V2</th>\n",
       "      <th>V3</th>\n",
       "      <th>V4</th>\n",
       "      <th>V5</th>\n",
       "      <th>V6</th>\n",
       "      <th>V7</th>\n",
       "    </tr>\n",
       "  </thead>\n",
       "  <tbody>\n",
       "    <tr>\n",
       "      <th>count</th>\n",
       "      <td>84534.000000</td>\n",
       "      <td>84534.000000</td>\n",
       "      <td>84534.000000</td>\n",
       "      <td>84534.000000</td>\n",
       "      <td>84534.000000</td>\n",
       "      <td>84534.000000</td>\n",
       "      <td>84534.000000</td>\n",
       "      <td>84534.000000</td>\n",
       "      <td>84534.000000</td>\n",
       "    </tr>\n",
       "    <tr>\n",
       "      <th>mean</th>\n",
       "      <td>62970.972413</td>\n",
       "      <td>0.012303</td>\n",
       "      <td>1.500662</td>\n",
       "      <td>29.973600</td>\n",
       "      <td>0.000190</td>\n",
       "      <td>1.679608</td>\n",
       "      <td>2.327643</td>\n",
       "      <td>2.502898</td>\n",
       "      <td>1.701694</td>\n",
       "    </tr>\n",
       "    <tr>\n",
       "      <th>std</th>\n",
       "      <td>36418.440539</td>\n",
       "      <td>0.110234</td>\n",
       "      <td>0.868234</td>\n",
       "      <td>5.010626</td>\n",
       "      <td>1.000485</td>\n",
       "      <td>0.466630</td>\n",
       "      <td>0.841167</td>\n",
       "      <td>1.117349</td>\n",
       "      <td>0.457517</td>\n",
       "    </tr>\n",
       "    <tr>\n",
       "      <th>min</th>\n",
       "      <td>1.000000</td>\n",
       "      <td>0.000000</td>\n",
       "      <td>0.000000</td>\n",
       "      <td>7.104007</td>\n",
       "      <td>-1.684550</td>\n",
       "      <td>1.000000</td>\n",
       "      <td>1.000000</td>\n",
       "      <td>1.000000</td>\n",
       "      <td>1.000000</td>\n",
       "    </tr>\n",
       "    <tr>\n",
       "      <th>25%</th>\n",
       "      <td>31467.250000</td>\n",
       "      <td>0.000000</td>\n",
       "      <td>1.000000</td>\n",
       "      <td>26.591501</td>\n",
       "      <td>-0.905350</td>\n",
       "      <td>1.000000</td>\n",
       "      <td>2.000000</td>\n",
       "      <td>2.000000</td>\n",
       "      <td>1.000000</td>\n",
       "    </tr>\n",
       "    <tr>\n",
       "      <th>50%</th>\n",
       "      <td>62827.500000</td>\n",
       "      <td>0.000000</td>\n",
       "      <td>2.000000</td>\n",
       "      <td>29.979744</td>\n",
       "      <td>-0.039572</td>\n",
       "      <td>2.000000</td>\n",
       "      <td>2.000000</td>\n",
       "      <td>3.000000</td>\n",
       "      <td>2.000000</td>\n",
       "    </tr>\n",
       "    <tr>\n",
       "      <th>75%</th>\n",
       "      <td>94438.750000</td>\n",
       "      <td>0.000000</td>\n",
       "      <td>2.000000</td>\n",
       "      <td>33.344593</td>\n",
       "      <td>0.826206</td>\n",
       "      <td>2.000000</td>\n",
       "      <td>3.000000</td>\n",
       "      <td>4.000000</td>\n",
       "      <td>2.000000</td>\n",
       "    </tr>\n",
       "    <tr>\n",
       "      <th>max</th>\n",
       "      <td>126184.000000</td>\n",
       "      <td>1.000000</td>\n",
       "      <td>3.000000</td>\n",
       "      <td>50.375913</td>\n",
       "      <td>1.691984</td>\n",
       "      <td>2.000000</td>\n",
       "      <td>4.000000</td>\n",
       "      <td>4.000000</td>\n",
       "      <td>2.000000</td>\n",
       "    </tr>\n",
       "  </tbody>\n",
       "</table>\n",
       "</div>"
      ],
      "text/plain": [
       "                  ID      purchase            V1            V2            V3  \\\n",
       "count   84534.000000  84534.000000  84534.000000  84534.000000  84534.000000   \n",
       "mean    62970.972413      0.012303      1.500662     29.973600      0.000190   \n",
       "std     36418.440539      0.110234      0.868234      5.010626      1.000485   \n",
       "min         1.000000      0.000000      0.000000      7.104007     -1.684550   \n",
       "25%     31467.250000      0.000000      1.000000     26.591501     -0.905350   \n",
       "50%     62827.500000      0.000000      2.000000     29.979744     -0.039572   \n",
       "75%     94438.750000      0.000000      2.000000     33.344593      0.826206   \n",
       "max    126184.000000      1.000000      3.000000     50.375913      1.691984   \n",
       "\n",
       "                 V4            V5            V6            V7  \n",
       "count  84534.000000  84534.000000  84534.000000  84534.000000  \n",
       "mean       1.679608      2.327643      2.502898      1.701694  \n",
       "std        0.466630      0.841167      1.117349      0.457517  \n",
       "min        1.000000      1.000000      1.000000      1.000000  \n",
       "25%        1.000000      2.000000      2.000000      1.000000  \n",
       "50%        2.000000      2.000000      3.000000      2.000000  \n",
       "75%        2.000000      3.000000      4.000000      2.000000  \n",
       "max        2.000000      4.000000      4.000000      2.000000  "
      ]
     },
     "execution_count": 229,
     "metadata": {},
     "output_type": "execute_result"
    }
   ],
   "source": [
    "train_data.describe()"
   ]
  },
  {
   "cell_type": "markdown",
   "metadata": {},
   "source": [
    "## Parse and Inspect Data"
   ]
  },
  {
   "cell_type": "code",
   "execution_count": 156,
   "metadata": {},
   "outputs": [],
   "source": [
    "features = train_data.columns[3:]"
   ]
  },
  {
   "cell_type": "code",
   "execution_count": 157,
   "metadata": {},
   "outputs": [],
   "source": [
    "# replace string with numerical -> object to numerical (binary)\n",
    "train_data.Promotion = train_data.Promotion.replace(['Yes', 'No'], [1,0])"
   ]
  },
  {
   "cell_type": "code",
   "execution_count": 158,
   "metadata": {},
   "outputs": [],
   "source": [
    "# replace string with numerical -> object to numerical (binary)\n",
    "test_data.Promotion = test_data.Promotion.replace(['Yes', 'No'], [1,0])"
   ]
  },
  {
   "cell_type": "code",
   "execution_count": 159,
   "metadata": {
    "scrolled": true
   },
   "outputs": [
    {
     "data": {
      "image/png": "[encoded data removed]",
      "text/plain": [
       "<Figure size 432x288 with 1 Axes>"
      ]
     },
     "metadata": {
      "needs_background": "light"
     },
     "output_type": "display_data"
    },
    {
     "data": {
      "image/png": "[encoded data removed]",
      "text/plain": [
       "<Figure size 432x288 with 1 Axes>"
      ]
     },
     "metadata": {
      "needs_background": "light"
     },
     "output_type": "display_data"
    },
    {
     "data": {
      "image/png": "[encoded data removed]",
      "text/plain": [
       "<Figure size 432x288 with 1 Axes>"
      ]
     },
     "metadata": {
      "needs_background": "light"
     },
     "output_type": "display_data"
    },
    {
     "data": {
      "image/png": "[encoded data removed]",
      "text/plain": [
       "<Figure size 432x288 with 1 Axes>"
      ]
     },
     "metadata": {
      "needs_background": "light"
     },
     "output_type": "display_data"
    },
    {
     "data": {
      "image/png": "[encoded data removed]",
      "text/plain": [
       "<Figure size 432x288 with 1 Axes>"
      ]
     },
     "metadata": {
      "needs_background": "light"
     },
     "output_type": "display_data"
    },
    {
     "data": {
      "image/png": "[encoded data removed]",
      "text/plain": [
       "<Figure size 432x288 with 1 Axes>"
      ]
     },
     "metadata": {
      "needs_background": "light"
     },
     "output_type": "display_data"
    },
    {
     "data": {
      "image/png": "[encoded data removed]",
      "text/plain": [
       "<Figure size 432x288 with 1 Axes>"
      ]
     },
     "metadata": {
      "needs_background": "light"
     },
     "output_type": "display_data"
    }
   ],
   "source": [
    "# plot the features histogram to view distribution\n",
    "for f in features:\n",
    "    plt.hist([train_data[f], test_data[f]], label=['train', 'test'])\n",
    "    plt.title(f)\n",
    "    plt.legend(loc='upper right')\n",
    "    plt.show()"
   ]
  },
  {
   "cell_type": "code",
   "execution_count": 160,
   "metadata": {},
   "outputs": [],
   "source": [
    "# isolate promotion rows\n",
    "promo_train_data = train_data.loc[train_data['Promotion']==1]"
   ]
  },
  {
   "cell_type": "code",
   "execution_count": 161,
   "metadata": {},
   "outputs": [],
   "source": [
    "# isolate promotion rows -> no promotion\n",
    "no_promo_data = train_data.loc[train_data.Promotion==0]"
   ]
  },
  {
   "cell_type": "code",
   "execution_count": 162,
   "metadata": {},
   "outputs": [
    {
     "data": {
      "image/png": "[encoded data removed]",
      "text/plain": [
       "<Figure size 432x288 with 1 Axes>"
      ]
     },
     "metadata": {
      "needs_background": "light"
     },
     "output_type": "display_data"
    },
    {
     "data": {
      "image/png": "[encoded data removed]",
      "text/plain": [
       "<Figure size 432x288 with 1 Axes>"
      ]
     },
     "metadata": {
      "needs_background": "light"
     },
     "output_type": "display_data"
    },
    {
     "data": {
      "image/png": "[encoded data removed]",
      "text/plain": [
       "<Figure size 432x288 with 1 Axes>"
      ]
     },
     "metadata": {
      "needs_background": "light"
     },
     "output_type": "display_data"
    },
    {
     "data": {
      "image/png": "[encoded data removed]",
      "text/plain": [
       "<Figure size 432x288 with 1 Axes>"
      ]
     },
     "metadata": {
      "needs_background": "light"
     },
     "output_type": "display_data"
    },
    {
     "data": {
      "image/png": "[encoded data removed]",
      "text/plain": [
       "<Figure size 432x288 with 1 Axes>"
      ]
     },
     "metadata": {
      "needs_background": "light"
     },
     "output_type": "display_data"
    },
    {
     "data": {
      "image/png": "[encoded data removed]",
      "text/plain": [
       "<Figure size 432x288 with 1 Axes>"
      ]
     },
     "metadata": {
      "needs_background": "light"
     },
     "output_type": "display_data"
    },
    {
     "data": {
      "image/png": "[encoded data removed]",
      "text/plain": [
       "<Figure size 432x288 with 1 Axes>"
      ]
     },
     "metadata": {
      "needs_background": "light"
     },
     "output_type": "display_data"
    }
   ],
   "source": [
    "for f in features:\n",
    "    plt.hist([promo_train_data[f], no_promo_data[f]], label=['promo', 'no promo'])\n",
    "    plt.title(f)\n",
    "    plt.legend(loc='upper right')\n",
    "    plt.show()"
   ]
  },
  {
   "cell_type": "code",
   "execution_count": 163,
   "metadata": {
    "scrolled": true
   },
   "outputs": [
    {
     "data": {
      "image/png": "[encoded data removed]",
      "text/plain": [
       "<Figure size 1440x1440 with 12 Axes>"
      ]
     },
     "metadata": {
      "needs_background": "light"
     },
     "output_type": "display_data"
    }
   ],
   "source": [
    "# check distribution of promotion rows\n",
    "promo_train_data.hist(figsize=(20,20));"
   ]
  },
  {
   "cell_type": "code",
   "execution_count": 164,
   "metadata": {},
   "outputs": [],
   "source": [
    "# isolate promotions that had purchases\n",
    "promo_purch_df = promo_train_data.loc[promo_train_data['purchase']==1]"
   ]
  },
  {
   "cell_type": "code",
   "execution_count": 165,
   "metadata": {},
   "outputs": [],
   "source": [
    "# isolate no promotion that still had purchases \n",
    "# this may help see what categories \"commonly\" purchase, regard of purchase\n",
    "no_promo_purch = no_promo_data.loc[no_promo_data['purchase']==1]"
   ]
  },
  {
   "cell_type": "code",
   "execution_count": 166,
   "metadata": {},
   "outputs": [
    {
     "data": {
      "image/png": "[encoded data removed]",
      "text/plain": [
       "<Figure size 432x288 with 1 Axes>"
      ]
     },
     "metadata": {
      "needs_background": "light"
     },
     "output_type": "display_data"
    },
    {
     "data": {
      "image/png": "[encoded data removed]",
      "text/plain": [
       "<Figure size 432x288 with 1 Axes>"
      ]
     },
     "metadata": {
      "needs_background": "light"
     },
     "output_type": "display_data"
    },
    {
     "data": {
      "image/png": "[encoded data removed]",
      "text/plain": [
       "<Figure size 432x288 with 1 Axes>"
      ]
     },
     "metadata": {
      "needs_background": "light"
     },
     "output_type": "display_data"
    },
    {
     "data": {
      "image/png": "[encoded data removed]",
      "text/plain": [
       "<Figure size 432x288 with 1 Axes>"
      ]
     },
     "metadata": {
      "needs_background": "light"
     },
     "output_type": "display_data"
    },
    {
     "data": {
      "image/png": "[encoded data removed]",
      "text/plain": [
       "<Figure size 432x288 with 1 Axes>"
      ]
     },
     "metadata": {
      "needs_background": "light"
     },
     "output_type": "display_data"
    },
    {
     "data": {
      "image/png": "[encoded data removed]",
      "text/plain": [
       "<Figure size 432x288 with 1 Axes>"
      ]
     },
     "metadata": {
      "needs_background": "light"
     },
     "output_type": "display_data"
    },
    {
     "data": {
      "image/png": "[encoded data removed]",
      "text/plain": [
       "<Figure size 432x288 with 1 Axes>"
      ]
     },
     "metadata": {
      "needs_background": "light"
     },
     "output_type": "display_data"
    }
   ],
   "source": [
    "for f in features:\n",
    "    plt.hist([promo_purch_df[f], no_promo_purch[f]], label=['promo', 'no promo'])\n",
    "    plt.title(f)\n",
    "    plt.legend(loc='upper right')\n",
    "    plt.show()"
   ]
  },
  {
   "cell_type": "markdown",
   "metadata": {},
   "source": [
    "## Correlation mapping"
   ]
  },
  {
   "cell_type": "code",
   "execution_count": 167,
   "metadata": {},
   "outputs": [],
   "source": [
    "promo_purch_corr = promo_purch_df.corr()"
   ]
  },
  {
   "cell_type": "code",
   "execution_count": 168,
   "metadata": {},
   "outputs": [
    {
     "data": {
      "image/png": "[encoded data removed]",
      "text/plain": [
       "<Figure size 1440x720 with 2 Axes>"
      ]
     },
     "metadata": {
      "needs_background": "light"
     },
     "output_type": "display_data"
    }
   ],
   "source": [
    "fig, ax = plt.subplots(figsize=(20,10)) \n",
    "sns.heatmap(promo_purch_corr, center=.5, annot=True, vmax=.2, linewidths=.5, ax=ax);"
   ]
  },
  {
   "cell_type": "code",
   "execution_count": 169,
   "metadata": {},
   "outputs": [],
   "source": [
    "no_promo_purch_corr = no_promo_purch.corr()"
   ]
  },
  {
   "cell_type": "code",
   "execution_count": 170,
   "metadata": {},
   "outputs": [
    {
     "data": {
      "image/png": "[encoded data removed]",
      "text/plain": [
       "<Figure size 1440x720 with 2 Axes>"
      ]
     },
     "metadata": {
      "needs_background": "light"
     },
     "output_type": "display_data"
    }
   ],
   "source": [
    "fig, ax = plt.subplots(figsize=(20,10)) \n",
    "sns.heatmap(no_promo_purch_corr, center=.5, annot=True, vmax=.2, linewidths=.5, ax=ax);"
   ]
  },
  {
   "cell_type": "code",
   "execution_count": 171,
   "metadata": {},
   "outputs": [],
   "source": [
    "promo_corr = promo_train_data.corr()"
   ]
  },
  {
   "cell_type": "code",
   "execution_count": 172,
   "metadata": {},
   "outputs": [
    {
     "data": {
      "text/plain": [
       "<AxesSubplot:>"
      ]
     },
     "execution_count": 172,
     "metadata": {},
     "output_type": "execute_result"
    },
    {
     "data": {
      "image/png": "[encoded data removed]",
      "text/plain": [
       "<Figure size 1440x720 with 2 Axes>"
      ]
     },
     "metadata": {
      "needs_background": "light"
     },
     "output_type": "display_data"
    }
   ],
   "source": [
    "fig, ax = plt.subplots(figsize=(20,10)) \n",
    "sns.heatmap(promo_corr, center=.5, annot=True, vmax=.2, linewidths=.5, ax=ax)"
   ]
  },
  {
   "cell_type": "markdown",
   "metadata": {},
   "source": [
    "## Baseline for IRR and NIR"
   ]
  },
  {
   "cell_type": "code",
   "execution_count": 173,
   "metadata": {},
   "outputs": [],
   "source": [
    "purch_trt = promo_train_data.purchase.value_counts()[1]\n",
    "cust_trt = promo_train_data.purchase.count()"
   ]
  },
  {
   "cell_type": "code",
   "execution_count": 174,
   "metadata": {},
   "outputs": [],
   "source": [
    "purch_ctr = no_promo_data.purchase.value_counts()[1]\n",
    "cust_ctr = no_promo_data.purchase.count()"
   ]
  },
  {
   "cell_type": "markdown",
   "metadata": {},
   "source": [
    "$$ IRR = \\frac{purch_{treat}}{cust_{treat}} - \\frac{purch_{ctrl}}{cust_{ctrl}} $$"
   ]
  },
  {
   "cell_type": "code",
   "execution_count": 175,
   "metadata": {},
   "outputs": [],
   "source": [
    "irr = (purch_trt / cust_trt) - (purch_ctr / cust_ctr)"
   ]
  },
  {
   "cell_type": "code",
   "execution_count": 176,
   "metadata": {},
   "outputs": [
    {
     "data": {
      "text/plain": [
       "0.009454547819772702"
      ]
     },
     "execution_count": 176,
     "metadata": {},
     "output_type": "execute_result"
    }
   ],
   "source": [
    "irr"
   ]
  },
  {
   "cell_type": "markdown",
   "metadata": {},
   "source": [
    "$$ NIR = (10\\cdot purch_{treat} - 0.15 \\cdot cust_{treat}) - 10 \\cdot purch_{ctrl}$$"
   ]
  },
  {
   "cell_type": "code",
   "execution_count": 177,
   "metadata": {},
   "outputs": [],
   "source": [
    "nir = (10 * purch_trt - .15 * cust_trt) - 10 * purch_ctr"
   ]
  },
  {
   "cell_type": "code",
   "execution_count": 178,
   "metadata": {},
   "outputs": [
    {
     "data": {
      "text/plain": [
       "-2334.5999999999995"
      ]
     },
     "execution_count": 178,
     "metadata": {},
     "output_type": "execute_result"
    }
   ],
   "source": [
    "nir"
   ]
  },
  {
   "cell_type": "markdown",
   "metadata": {},
   "source": [
    "## Build strategy"
   ]
  },
  {
   "cell_type": "code",
   "execution_count": 179,
   "metadata": {
    "scrolled": true
   },
   "outputs": [
    {
     "data": {
      "text/html": [
       "<div>\n",
       "<style scoped>\n",
       "    .dataframe tbody tr th:only-of-type {\n",
       "        vertical-align: middle;\n",
       "    }\n",
       "\n",
       "    .dataframe tbody tr th {\n",
       "        vertical-align: top;\n",
       "    }\n",
       "\n",
       "    .dataframe thead th {\n",
       "        text-align: right;\n",
       "    }\n",
       "</style>\n",
       "<table border=\"1\" class=\"dataframe\">\n",
       "  <thead>\n",
       "    <tr style=\"text-align: right;\">\n",
       "      <th></th>\n",
       "      <th>V1</th>\n",
       "      <th>V2</th>\n",
       "      <th>V3</th>\n",
       "      <th>V4</th>\n",
       "      <th>V5</th>\n",
       "      <th>V6</th>\n",
       "      <th>V7</th>\n",
       "    </tr>\n",
       "  </thead>\n",
       "  <tbody>\n",
       "    <tr>\n",
       "      <th>0</th>\n",
       "      <td>True</td>\n",
       "      <td>True</td>\n",
       "      <td>True</td>\n",
       "      <td>False</td>\n",
       "      <td>False</td>\n",
       "      <td>True</td>\n",
       "      <td>True</td>\n",
       "    </tr>\n",
       "    <tr>\n",
       "      <th>1</th>\n",
       "      <td>False</td>\n",
       "      <td>True</td>\n",
       "      <td>True</td>\n",
       "      <td>True</td>\n",
       "      <td>True</td>\n",
       "      <td>True</td>\n",
       "      <td>True</td>\n",
       "    </tr>\n",
       "    <tr>\n",
       "      <th>2</th>\n",
       "      <td>True</td>\n",
       "      <td>True</td>\n",
       "      <td>True</td>\n",
       "      <td>False</td>\n",
       "      <td>False</td>\n",
       "      <td>True</td>\n",
       "      <td>True</td>\n",
       "    </tr>\n",
       "    <tr>\n",
       "      <th>3</th>\n",
       "      <td>False</td>\n",
       "      <td>True</td>\n",
       "      <td>True</td>\n",
       "      <td>True</td>\n",
       "      <td>False</td>\n",
       "      <td>True</td>\n",
       "      <td>True</td>\n",
       "    </tr>\n",
       "    <tr>\n",
       "      <th>4</th>\n",
       "      <td>False</td>\n",
       "      <td>True</td>\n",
       "      <td>True</td>\n",
       "      <td>False</td>\n",
       "      <td>False</td>\n",
       "      <td>True</td>\n",
       "      <td>True</td>\n",
       "    </tr>\n",
       "    <tr>\n",
       "      <th>...</th>\n",
       "      <td>...</td>\n",
       "      <td>...</td>\n",
       "      <td>...</td>\n",
       "      <td>...</td>\n",
       "      <td>...</td>\n",
       "      <td>...</td>\n",
       "      <td>...</td>\n",
       "    </tr>\n",
       "    <tr>\n",
       "      <th>84529</th>\n",
       "      <td>True</td>\n",
       "      <td>True</td>\n",
       "      <td>True</td>\n",
       "      <td>False</td>\n",
       "      <td>False</td>\n",
       "      <td>True</td>\n",
       "      <td>False</td>\n",
       "    </tr>\n",
       "    <tr>\n",
       "      <th>84530</th>\n",
       "      <td>False</td>\n",
       "      <td>True</td>\n",
       "      <td>True</td>\n",
       "      <td>False</td>\n",
       "      <td>False</td>\n",
       "      <td>True</td>\n",
       "      <td>False</td>\n",
       "    </tr>\n",
       "    <tr>\n",
       "      <th>84531</th>\n",
       "      <td>True</td>\n",
       "      <td>True</td>\n",
       "      <td>True</td>\n",
       "      <td>True</td>\n",
       "      <td>True</td>\n",
       "      <td>True</td>\n",
       "      <td>True</td>\n",
       "    </tr>\n",
       "    <tr>\n",
       "      <th>84532</th>\n",
       "      <td>True</td>\n",
       "      <td>False</td>\n",
       "      <td>True</td>\n",
       "      <td>True</td>\n",
       "      <td>True</td>\n",
       "      <td>True</td>\n",
       "      <td>True</td>\n",
       "    </tr>\n",
       "    <tr>\n",
       "      <th>84533</th>\n",
       "      <td>True</td>\n",
       "      <td>False</td>\n",
       "      <td>True</td>\n",
       "      <td>True</td>\n",
       "      <td>True</td>\n",
       "      <td>True</td>\n",
       "      <td>True</td>\n",
       "    </tr>\n",
       "  </tbody>\n",
       "</table>\n",
       "<p>84534 rows × 7 columns</p>\n",
       "</div>"
      ],
      "text/plain": [
       "          V1     V2    V3     V4     V5    V6     V7\n",
       "0       True   True  True  False  False  True   True\n",
       "1      False   True  True   True   True  True   True\n",
       "2       True   True  True  False  False  True   True\n",
       "3      False   True  True   True  False  True   True\n",
       "4      False   True  True  False  False  True   True\n",
       "...      ...    ...   ...    ...    ...   ...    ...\n",
       "84529   True   True  True  False  False  True  False\n",
       "84530  False   True  True  False  False  True  False\n",
       "84531   True   True  True   True   True  True   True\n",
       "84532   True  False  True   True   True  True   True\n",
       "84533   True  False  True   True   True  True   True\n",
       "\n",
       "[84534 rows x 7 columns]"
      ]
     },
     "execution_count": 179,
     "metadata": {},
     "output_type": "execute_result"
    }
   ],
   "source": [
    "# V1 >=1 & <=2\n",
    "# V2 >=25 & <=35\n",
    "# V4 > 1\n",
    "# V5 >=2 & <=3\n",
    "# V7 > 1\n",
    "v1 = (train_data['V1']>=1) & (train_data['V1']<=2)\n",
    "v2 = (train_data['V2']>=25) & (train_data['V2']<=35)\n",
    "v3 = (train_data['V3']>=-1.5) & (train_data['V3']<=1.5)\n",
    "v4 = (train_data['V4']>1)\n",
    "v5 = (train_data['V5']>=2) & (train_data['V5']<=4)\n",
    "v6 = (train_data['V6']>=1) & (train_data['V6']<=4)\n",
    "v7 = (train_data['V7']>1)\n",
    "tdf = pd.concat([v1, v2, v3, v4, v5, v6, v7], axis=1)\n",
    "tdf"
   ]
  },
  {
   "cell_type": "code",
   "execution_count": 180,
   "metadata": {},
   "outputs": [],
   "source": [
    "strategy = ((train_data['V1']>=1) & (train_data['V1']<=2)\n",
    "& (train_data['V2']>=29) & (train_data['V2']<=31)\n",
    "& (train_data['V3']>=-1.5) & (train_data['V3']<=1.5)\n",
    "& (train_data['V4']>1)\n",
    "& (train_data['V5']>=2) & (train_data['V5']<=4)\n",
    "& (train_data['V6']>=1) & (train_data['V6']<=4)\n",
    "& (train_data['V7']>1))"
   ]
  },
  {
   "cell_type": "code",
   "execution_count": 181,
   "metadata": {
    "scrolled": true
   },
   "outputs": [],
   "source": [
    "strategy = strategy.replace([True, False], ['Yes', 'No'])"
   ]
  },
  {
   "cell_type": "code",
   "execution_count": 182,
   "metadata": {},
   "outputs": [
    {
     "data": {
      "text/plain": [
       "84534"
      ]
     },
     "execution_count": 182,
     "metadata": {},
     "output_type": "execute_result"
    }
   ],
   "source": [
    "len(strategy)"
   ]
  },
  {
   "cell_type": "code",
   "execution_count": 183,
   "metadata": {
    "scrolled": true
   },
   "outputs": [],
   "source": [
    "tdf = tdf.replace([True, False], ['Yes', 'No'])"
   ]
  },
  {
   "cell_type": "markdown",
   "metadata": {},
   "source": [
    "## Test 1"
   ]
  },
  {
   "cell_type": "code",
   "execution_count": 184,
   "metadata": {},
   "outputs": [],
   "source": [
    "def promotion_strategy(df):\n",
    "    '''\n",
    "    INPUT \n",
    "    df - a dataframe with *only* the columns V1 - V7 (same as train_data)\n",
    "\n",
    "    OUTPUT\n",
    "    promotion_df - np.array with the values\n",
    "                   'Yes' or 'No' related to whether or not an \n",
    "                   individual should recieve a promotion \n",
    "                   should be the length of df.shape[0]\n",
    "                \n",
    "    Ex:\n",
    "    INPUT: df\n",
    "    \n",
    "    V1\tV2\t  V3\tV4\tV5\tV6\tV7\n",
    "    2\t30\t-1.1\t1\t1\t3\t2\n",
    "    3\t32\t-0.6\t2\t3\t2\t2\n",
    "    2\t30\t0.13\t1\t1\t4\t2\n",
    "    \n",
    "    OUTPUT: promotion\n",
    "    \n",
    "    array(['Yes', 'Yes', 'No'])\n",
    "    indicating the first two users would recieve the promotion and \n",
    "    the last should not.\n",
    "    '''\n",
    "    promo = []\n",
    "    strategy = ((df['V1']>=1) & (df['V1']<=2)\n",
    "& (df['V2']>=27) & (df['V2']<=33)\n",
    "& (df['V3']>=0) & (df['V3']<=1)\n",
    "& (df['V4']>1)\n",
    "& (df['V5']>=3) & (df['V5']<=3.5)\n",
    "& (df['V6']>=2) & (df['V6']<=3)\n",
    "& (df['V7']>1))\n",
    "    \n",
    "    strategy = strategy.replace([True, False], ['Yes', 'No'])\n",
    "    \n",
    "    promotion = np.array(strategy)\n",
    "    \n",
    "    return promotion"
   ]
  },
  {
   "cell_type": "code",
   "execution_count": 185,
   "metadata": {
    "scrolled": true
   },
   "outputs": [
    {
     "name": "stdout",
     "output_type": "stream",
     "text": [
      "Nice job!  See how well your strategy worked on our test data below!\n",
      "\n",
      "Your irr with this strategy is 0.0203.\n",
      "\n",
      "Your nir with this strategy is 10.45.\n",
      "We came up with a model with an irr of 0.0188 and an nir of 189.45 on the test set.\n",
      "\n",
      " How did you do?\n"
     ]
    },
    {
     "data": {
      "text/plain": [
       "(0.02030456852791878, 10.450000000000003)"
      ]
     },
     "execution_count": 185,
     "metadata": {},
     "output_type": "execute_result"
    }
   ],
   "source": [
    "# This will test your results, and provide you back some information \n",
    "# on how well your promotion_strategy will work in practice\n",
    "\n",
    "test_results(promotion_strategy)"
   ]
  },
  {
   "cell_type": "markdown",
   "metadata": {},
   "source": [
    "---"
   ]
  },
  {
   "cell_type": "markdown",
   "metadata": {},
   "source": [
    "# Model Building Section"
   ]
  },
  {
   "cell_type": "markdown",
   "metadata": {},
   "source": [
    "\n",
    "\n",
    "\n",
    "## Model preparation\n",
    "\n",
    "\n"
   ]
  },
  {
   "cell_type": "markdown",
   "metadata": {},
   "source": [
    "### Original Attempt"
   ]
  },
  {
   "cell_type": "code",
   "execution_count": 186,
   "metadata": {},
   "outputs": [
    {
     "data": {
      "text/plain": [
       "Index(['ID', 'Promotion', 'purchase', 'V2', 'V3', 'V1_0', 'V1_1', 'V1_2',\n",
       "       'V1_3', 'V4_1', 'V4_2', 'V5_1', 'V5_2', 'V5_3', 'V5_4', 'V6_1', 'V6_2',\n",
       "       'V6_3', 'V6_4', 'V7_1', 'V7_2'],\n",
       "      dtype='object')"
      ]
     },
     "execution_count": 186,
     "metadata": {},
     "output_type": "execute_result"
    }
   ],
   "source": [
    "# Get dummies (if necessary for binary classification)\n",
    "dummy_df = pd.get_dummies(train_data, columns = ['V1', 'V4', 'V5', 'V6', 'V7'])\n",
    "dummy_df.columns"
   ]
  },
  {
   "cell_type": "code",
   "execution_count": 222,
   "metadata": {},
   "outputs": [],
   "source": [
    "# generate X, y from Categories and 'purchase'\n",
    "X = train_data.iloc[:,3:]\n",
    "y = train_data['purchase']"
   ]
  },
  {
   "cell_type": "code",
   "execution_count": 188,
   "metadata": {},
   "outputs": [],
   "source": [
    "# call SVMSMOTE to resample data to help with imbalance\n",
    "svms = SVMSMOTE(random_state=42)\n",
    "\n",
    "X, y = svms.fit_resample(X,y)"
   ]
  },
  {
   "cell_type": "code",
   "execution_count": 223,
   "metadata": {
    "scrolled": true
   },
   "outputs": [],
   "source": [
    "X_train, X_test, y_train, y_test = train_test_split(X, y, test_size=0.2, random_state=42)"
   ]
  },
  {
   "cell_type": "code",
   "execution_count": 232,
   "metadata": {},
   "outputs": [
    {
     "name": "stdout",
     "output_type": "stream",
     "text": [
      "       V1         V2        V3  V4  V5  V6  V7\n",
      "66588   3  34.470493 -1.078506   1   1   1   2\n",
      "62125   1  28.065819 -1.165083   1   1   3   1\n",
      "27827   1  27.142590 -1.511395   1   3   3   2\n",
      "66648   3  28.782344 -1.078506   1   1   1   2\n",
      "47392   2  39.605508 -0.645617   2   3   1   2\n",
      "...    ..        ...       ...  ..  ..  ..  ..\n",
      "6265    1  25.513060 -0.126150   1   2   3   2\n",
      "54886   3  31.485170  0.047006   1   2   2   2\n",
      "76820   1  28.643406  0.653050   2   1   1   2\n",
      "860     2  21.724511  1.085939   1   3   3   2\n",
      "15795   3  25.638208 -1.424817   2   1   2   1\n",
      "\n",
      "[67627 rows x 7 columns]\n",
      "       V1         V2        V3  V4  V5  V6  V7\n",
      "6264    3  18.012754 -1.511395   2   2   4   1\n",
      "41822   2  28.676557 -0.126150   2   3   3   2\n",
      "8569    0  28.817748 -1.511395   2   4   3   2\n",
      "41228   1  26.140783 -0.905350   2   1   4   2\n",
      "24896   1  32.346423  0.566472   1   2   3   1\n",
      "...    ..        ...       ...  ..  ..  ..  ..\n",
      "31179   3  26.310883 -0.299306   1   3   1   1\n",
      "17641   2  24.402187 -1.078506   2   2   4   2\n",
      "73097   1  29.043276  1.518828   2   3   1   2\n",
      "71261   1  27.070219 -1.597972   2   3   3   2\n",
      "27715   0  27.853224 -1.338239   2   1   2   2\n",
      "\n",
      "[16907 rows x 7 columns]\n",
      "0    66795\n",
      "1      832\n",
      "Name: purchase, dtype: int64\n",
      "0    16699\n",
      "1      208\n",
      "Name: purchase, dtype: int64\n"
     ]
    }
   ],
   "source": [
    "print(X_train)\n",
    "print(X_test)\n",
    "print(y_train.value_counts())\n",
    "print(y_test.value_counts())"
   ]
  },
  {
   "cell_type": "code",
   "execution_count": 190,
   "metadata": {},
   "outputs": [],
   "source": [
    "# prepare scaler to scale data\n",
    "from sklearn.preprocessing import StandardScaler\n",
    "scaler = StandardScaler()\n",
    "\n",
    "scaler.fit(X_train)\n",
    "X_train = scaler.transform(X_train)\n",
    "X_test = scaler.transform(X_test)"
   ]
  },
  {
   "cell_type": "markdown",
   "metadata": {},
   "source": [
    "### Secondary Attempt"
   ]
  },
  {
   "cell_type": "code",
   "execution_count": 233,
   "metadata": {},
   "outputs": [],
   "source": [
    "# generate X, y from Categories and 'purchase'\n",
    "X_train = train_data.iloc[:,3:]\n",
    "y_train = train_data['purchase']\n",
    "X_test = test_data.iloc[:,3:]\n",
    "y_test = test_data['purchase']"
   ]
  },
  {
   "cell_type": "code",
   "execution_count": 234,
   "metadata": {},
   "outputs": [
    {
     "name": "stdout",
     "output_type": "stream",
     "text": [
      "       V1         V2        V3  V4  V5  V6  V7\n",
      "0       2  30.443518 -1.165083   1   1   3   2\n",
      "1       3  32.159350 -0.645617   2   3   2   2\n",
      "2       2  30.431659  0.133583   1   1   4   2\n",
      "3       0  26.588914 -0.212728   2   1   4   2\n",
      "4       3  28.044332 -0.385883   1   1   2   2\n",
      "...    ..        ...       ...  ..  ..  ..  ..\n",
      "84529   1  30.084876  1.345672   1   1   3   1\n",
      "84530   3  33.501485 -0.299306   1   1   4   1\n",
      "84531   1  31.492019  1.085939   2   3   2   2\n",
      "84532   1  37.766106  0.999361   2   2   1   2\n",
      "84533   1  21.720835  1.085939   2   2   1   2\n",
      "\n",
      "[84534 rows x 7 columns]\n",
      "       V1         V2        V3  V4  V5  V6  V7\n",
      "0       1  41.376390  1.172517   1   1   2   2\n",
      "1       1  25.163598  0.653050   2   2   2   2\n",
      "2       1  26.553778 -1.597972   2   3   4   2\n",
      "3       2  28.529691 -1.078506   2   3   2   2\n",
      "4       2  32.378538  0.479895   2   2   1   2\n",
      "...    ..        ...       ...  ..  ..  ..  ..\n",
      "41645   1  33.073275 -0.126150   2   2   2   2\n",
      "41646   0  32.065720  0.999361   2   3   2   1\n",
      "41647   3  27.691221  1.172517   2   2   1   2\n",
      "41648   2  32.306427  0.566472   1   2   4   1\n",
      "41649   1  30.540005  1.691984   1   3   1   2\n",
      "\n",
      "[41650 rows x 7 columns]\n",
      "0    83494\n",
      "1     1040\n",
      "Name: purchase, dtype: int64\n",
      "0    41170\n",
      "1      480\n",
      "Name: purchase, dtype: int64\n"
     ]
    }
   ],
   "source": [
    "print(X_train)\n",
    "print(X_test)\n",
    "print(y_train.value_counts())\n",
    "print(y_test.value_counts())"
   ]
  },
  {
   "cell_type": "code",
   "execution_count": 248,
   "metadata": {},
   "outputs": [
    {
     "name": "stderr",
     "output_type": "stream",
     "text": [
      "C:\\Users\\ejmason\\AppData\\Local\\Continuum\\anaconda3\\lib\\site-packages\\seaborn\\_decorators.py:43: FutureWarning: Pass the following variable as a keyword arg: x. From version 0.12, the only valid positional argument will be `data`, and passing other arguments without an explicit keyword will result in an error or misinterpretation.\n",
      "  FutureWarning\n"
     ]
    },
    {
     "data": {
      "text/plain": [
       "<AxesSubplot:xlabel='purchase', ylabel='count'>"
      ]
     },
     "execution_count": 248,
     "metadata": {},
     "output_type": "execute_result"
    },
    {
     "data": {
      "image/png": "[encoded data removed]",
      "text/plain": [
       "<Figure size 432x288 with 1 Axes>"
      ]
     },
     "metadata": {
      "needs_background": "light"
     },
     "output_type": "display_data"
    }
   ],
   "source": [
    "sns.countplot(train_data['purchase'])"
   ]
  },
  {
   "cell_type": "code",
   "execution_count": 249,
   "metadata": {},
   "outputs": [],
   "source": [
    "# call SVMSMOTE to resample data to help with imbalance\n",
    "svms = SVMSMOTE(random_state=42)\n",
    "\n",
    "X_train, y_train = svms.fit_resample(X_train,y_train)"
   ]
  },
  {
   "cell_type": "code",
   "execution_count": 250,
   "metadata": {},
   "outputs": [
    {
     "name": "stderr",
     "output_type": "stream",
     "text": [
      "C:\\Users\\ejmason\\AppData\\Local\\Continuum\\anaconda3\\lib\\site-packages\\seaborn\\_decorators.py:43: FutureWarning: Pass the following variable as a keyword arg: x. From version 0.12, the only valid positional argument will be `data`, and passing other arguments without an explicit keyword will result in an error or misinterpretation.\n",
      "  FutureWarning\n"
     ]
    },
    {
     "data": {
      "text/plain": [
       "<AxesSubplot:xlabel='purchase', ylabel='count'>"
      ]
     },
     "execution_count": 250,
     "metadata": {},
     "output_type": "execute_result"
    },
    {
     "data": {
      "image/png": "[encoded data removed]",
      "text/plain": [
       "<Figure size 432x288 with 1 Axes>"
      ]
     },
     "metadata": {
      "needs_background": "light"
     },
     "output_type": "display_data"
    }
   ],
   "source": [
    "sns.countplot(y_train)"
   ]
  },
  {
   "cell_type": "code",
   "execution_count": 257,
   "metadata": {},
   "outputs": [],
   "source": [
    "# prepare scaler to scale data\n",
    "from sklearn.preprocessing import StandardScaler\n",
    "scaler = StandardScaler()\n",
    "\n",
    "scaler.fit(X_train)\n",
    "X_train = scaler.transform(X_train)\n",
    "X_test = scaler.transform(X_test)"
   ]
  },
  {
   "cell_type": "markdown",
   "metadata": {},
   "source": [
    "## Model Testing"
   ]
  },
  {
   "cell_type": "markdown",
   "metadata": {},
   "source": [
    "### Logistic Regression"
   ]
  },
  {
   "cell_type": "code",
   "execution_count": 258,
   "metadata": {},
   "outputs": [
    {
     "data": {
      "text/plain": [
       "array([[36221,  4949],\n",
       "       [  397,    83]], dtype=int64)"
      ]
     },
     "execution_count": 258,
     "metadata": {},
     "output_type": "execute_result"
    }
   ],
   "source": [
    "# logistic regression\n",
    "lr = LogisticRegression()\n",
    "lr.fit(X_train, y_train)\n",
    "lr_y_pred = lr.predict(X_test)\n",
    "confusion_matrix(y_test, lr_y_pred)"
   ]
  },
  {
   "cell_type": "code",
   "execution_count": 259,
   "metadata": {},
   "outputs": [
    {
     "data": {
      "text/plain": [
       "array(['No', 'No', 'No', ..., 'No', 'No', 'No'], dtype='<U3')"
      ]
     },
     "execution_count": 259,
     "metadata": {},
     "output_type": "execute_result"
    }
   ],
   "source": [
    "promotion_yes_no = []\n",
    "for value in lr_y_pred:\n",
    "    if value == 0:\n",
    "        promotion_yes_no.append(\"No\")\n",
    "    if value == 1:\n",
    "        promotion_yes_no.append(\"Yes\")\n",
    "        \n",
    "promotion = np.asarray(promotion_yes_no)\n",
    "    \n",
    "promotion"
   ]
  },
  {
   "cell_type": "code",
   "execution_count": 260,
   "metadata": {},
   "outputs": [
    {
     "name": "stdout",
     "output_type": "stream",
     "text": [
      "0.8716446578631453\n",
      "0.03011611030478955\n",
      "0.17291666666666666\n"
     ]
    }
   ],
   "source": [
    "print(accuracy_score(y_test, lr_y_pred))\n",
    "print(f1_score(y_test, lr_y_pred))\n",
    "print(recall_score(y_test, lr_y_pred))"
   ]
  },
  {
   "cell_type": "markdown",
   "metadata": {},
   "source": [
    "### Random Forest Classifier"
   ]
  },
  {
   "cell_type": "code",
   "execution_count": 261,
   "metadata": {},
   "outputs": [
    {
     "data": {
      "text/plain": [
       "array([[40782,   388],\n",
       "       [  471,     9]], dtype=int64)"
      ]
     },
     "execution_count": 261,
     "metadata": {},
     "output_type": "execute_result"
    }
   ],
   "source": [
    "rand_mod = RandomForestClassifier()\n",
    "rand_mod.fit(X_train, y_train)\n",
    "rand_y_pred = rand_mod.predict(X_test)\n",
    "confusion_matrix(y_test, rand_y_pred)"
   ]
  },
  {
   "cell_type": "code",
   "execution_count": 262,
   "metadata": {},
   "outputs": [
    {
     "data": {
      "text/plain": [
       "array(['No', 'No', 'No', ..., 'No', 'No', 'No'], dtype='<U3')"
      ]
     },
     "execution_count": 262,
     "metadata": {},
     "output_type": "execute_result"
    }
   ],
   "source": [
    "promotion_yes_no = []\n",
    "for value in rand_y_pred:\n",
    "    if value == 0:\n",
    "        promotion_yes_no.append(\"No\")\n",
    "    if value == 1:\n",
    "        promotion_yes_no.append(\"Yes\")\n",
    "        \n",
    "promotion = np.asarray(promotion_yes_no)\n",
    "    \n",
    "promotion"
   ]
  },
  {
   "cell_type": "code",
   "execution_count": 263,
   "metadata": {},
   "outputs": [
    {
     "name": "stdout",
     "output_type": "stream",
     "text": [
      "0.97937575030012\n",
      "0.020524515393386546\n",
      "0.01875\n"
     ]
    }
   ],
   "source": [
    "print(accuracy_score(y_test, rand_y_pred))\n",
    "print(f1_score(y_test, rand_y_pred))\n",
    "print(recall_score(y_test, rand_y_pred))"
   ]
  },
  {
   "cell_type": "markdown",
   "metadata": {},
   "source": [
    "### Gradient Boosting Classifier"
   ]
  },
  {
   "cell_type": "code",
   "execution_count": 264,
   "metadata": {},
   "outputs": [],
   "source": [
    "clf = GradientBoostingClassifier()\n",
    "\n",
    "gbc = clf.fit(X_train, y_train)\n",
    "gbc_pred = gbc.predict(X_test)"
   ]
  },
  {
   "cell_type": "code",
   "execution_count": 265,
   "metadata": {},
   "outputs": [
    {
     "data": {
      "text/plain": [
       "array([[38533,  2637],\n",
       "       [  435,    45]], dtype=int64)"
      ]
     },
     "execution_count": 265,
     "metadata": {},
     "output_type": "execute_result"
    }
   ],
   "source": [
    "confusion_matrix(y_test, gbc_pred)"
   ]
  },
  {
   "cell_type": "code",
   "execution_count": 266,
   "metadata": {},
   "outputs": [
    {
     "data": {
      "text/plain": [
       "array(['No', 'No', 'No', ..., 'No', 'No', 'No'], dtype='<U3')"
      ]
     },
     "execution_count": 266,
     "metadata": {},
     "output_type": "execute_result"
    }
   ],
   "source": [
    "promotion_yes_no = []\n",
    "for value in gbc_pred:\n",
    "    if value == 0:\n",
    "        promotion_yes_no.append(\"No\")\n",
    "    if value == 1:\n",
    "        promotion_yes_no.append(\"Yes\")\n",
    "        \n",
    "promotion = np.asarray(promotion_yes_no)\n",
    "    \n",
    "promotion"
   ]
  },
  {
   "cell_type": "code",
   "execution_count": 267,
   "metadata": {
    "scrolled": true
   },
   "outputs": [
    {
     "name": "stdout",
     "output_type": "stream",
     "text": [
      "0.9262424969987996\n",
      "0.028462998102466792\n",
      "0.09375\n"
     ]
    }
   ],
   "source": [
    "print(accuracy_score(y_test, gbc_pred))\n",
    "print(f1_score(y_test, gbc_pred))\n",
    "print(recall_score(y_test, gbc_pred))"
   ]
  },
  {
   "cell_type": "markdown",
   "metadata": {},
   "source": [
    "### Balanced Random Forest Classifier"
   ]
  },
  {
   "cell_type": "code",
   "execution_count": 268,
   "metadata": {},
   "outputs": [
    {
     "data": {
      "text/plain": [
       "array([[40609,   561],\n",
       "       [  468,    12]], dtype=int64)"
      ]
     },
     "execution_count": 268,
     "metadata": {},
     "output_type": "execute_result"
    }
   ],
   "source": [
    "from imblearn.ensemble import BalancedRandomForestClassifier  \n",
    "\n",
    "blrf = BalancedRandomForestClassifier()\n",
    "blrf.fit(X_train, y_train)\n",
    "blrf_y_pred = blrf.predict(X_test)\n",
    "confusion_matrix(y_test, blrf_y_pred)"
   ]
  },
  {
   "cell_type": "code",
   "execution_count": 269,
   "metadata": {},
   "outputs": [
    {
     "data": {
      "text/plain": [
       "array(['No', 'No', 'No', ..., 'No', 'No', 'No'], dtype='<U3')"
      ]
     },
     "execution_count": 269,
     "metadata": {},
     "output_type": "execute_result"
    }
   ],
   "source": [
    "promotion_yes_no = []\n",
    "for value in blrf_y_pred:\n",
    "    if value == 0:\n",
    "        promotion_yes_no.append(\"No\")\n",
    "    if value == 1:\n",
    "        promotion_yes_no.append(\"Yes\")\n",
    "        \n",
    "promotion = np.asarray(promotion_yes_no)\n",
    "    \n",
    "promotion"
   ]
  },
  {
   "cell_type": "code",
   "execution_count": 270,
   "metadata": {},
   "outputs": [
    {
     "name": "stdout",
     "output_type": "stream",
     "text": [
      "0.9752941176470589\n",
      "0.022792022792022793\n",
      "0.025\n"
     ]
    }
   ],
   "source": [
    "print(accuracy_score(y_test, blrf_y_pred))\n",
    "print(f1_score(y_test, blrf_y_pred))\n",
    "print(recall_score(y_test, blrf_y_pred))"
   ]
  },
  {
   "cell_type": "markdown",
   "metadata": {},
   "source": [
    "## Pipeline Build"
   ]
  },
  {
   "cell_type": "markdown",
   "metadata": {},
   "source": [
    "### THIS TAKES CONSIDERABLE TIME"
   ]
  },
  {
   "cell_type": "code",
   "execution_count": 271,
   "metadata": {},
   "outputs": [],
   "source": [
    "pipeline = Pipeline([\n",
    "    ('clf_r', RandomForestClassifier())\n",
    "])\n",
    "\n",
    "    \n",
    "parameters = [{\n",
    "    'clf_r': [RandomForestClassifier()],\n",
    "    'clf_r__n_estimators': [100, 500, 1000],\n",
    "    'clf_r__max_features': ['auto','log2'],\n",
    "    'clf_r__class_weight': ['balanced', 'balanced_subsample']\n",
    "    },\n",
    "    {\n",
    "        'clf_r': [BalancedRandomForestClassifier()],\n",
    "        'clf_r__n_estimators': [100, 500, 1000],\n",
    "        'clf_r__sampling_strategy': ['auto', 'all'],\n",
    "        'clf_r__class_weight': ['balanced', 'balanced_subsample']\n",
    "    }\n",
    "        ]\n",
    "    \n",
    "model = GridSearchCV(pipeline, param_grid=parameters, verbose=3, cv=3)"
   ]
  },
  {
   "cell_type": "code",
   "execution_count": 272,
   "metadata": {},
   "outputs": [],
   "source": [
    "pipeline = Pipeline([\n",
    "    ('clf_r', BalancedRandomForestClassifier())\n",
    "])\n",
    "\n",
    "    \n",
    "parameters = {\n",
    "        'clf_r__sampling_strategy': ['auto', 'all'],\n",
    "        'clf_r__n_estimators': [100, 500, 1000],\n",
    "        'clf_r__class_weight': ['balanced', 'balanced_subsample']\n",
    "    }\n",
    "        \n",
    "    \n",
    "model2 = GridSearchCV(pipeline, param_grid=parameters, verbose=3, cv=8)"
   ]
  },
  {
   "cell_type": "code",
   "execution_count": 273,
   "metadata": {
    "scrolled": true
   },
   "outputs": [
    {
     "name": "stdout",
     "output_type": "stream",
     "text": [
      "Fitting 3 folds for each of 24 candidates, totalling 72 fits\n",
      "[CV] clf_r=RandomForestClassifier(), clf_r__class_weight=balanced, clf_r__max_features=auto, clf_r__n_estimators=100 \n"
     ]
    },
    {
     "name": "stderr",
     "output_type": "stream",
     "text": [
      "[Parallel(n_jobs=1)]: Using backend SequentialBackend with 1 concurrent workers.\n"
     ]
    },
    {
     "name": "stdout",
     "output_type": "stream",
     "text": [
      "[CV]  clf_r=RandomForestClassifier(), clf_r__class_weight=balanced, clf_r__max_features=auto, clf_r__n_estimators=100, score=0.972, total=   7.6s\n",
      "[CV] clf_r=RandomForestClassifier(), clf_r__class_weight=balanced, clf_r__max_features=auto, clf_r__n_estimators=100 \n"
     ]
    },
    {
     "name": "stderr",
     "output_type": "stream",
     "text": [
      "[Parallel(n_jobs=1)]: Done   1 out of   1 | elapsed:    7.5s remaining:    0.0s\n"
     ]
    },
    {
     "name": "stdout",
     "output_type": "stream",
     "text": [
      "[CV]  clf_r=RandomForestClassifier(), clf_r__class_weight=balanced, clf_r__max_features=auto, clf_r__n_estimators=100, score=0.991, total=   7.8s\n",
      "[CV] clf_r=RandomForestClassifier(), clf_r__class_weight=balanced, clf_r__max_features=auto, clf_r__n_estimators=100 \n"
     ]
    },
    {
     "name": "stderr",
     "output_type": "stream",
     "text": [
      "[Parallel(n_jobs=1)]: Done   2 out of   2 | elapsed:   15.3s remaining:    0.0s\n"
     ]
    },
    {
     "name": "stdout",
     "output_type": "stream",
     "text": [
      "[CV]  clf_r=RandomForestClassifier(), clf_r__class_weight=balanced, clf_r__max_features=auto, clf_r__n_estimators=100, score=0.991, total=   8.9s\n",
      "[CV] clf_r=RandomForestClassifier(), clf_r__class_weight=balanced, clf_r__max_features=auto, clf_r__n_estimators=500 \n",
      "[CV]  clf_r=RandomForestClassifier(), clf_r__class_weight=balanced, clf_r__max_features=auto, clf_r__n_estimators=500, score=0.972, total=  40.8s\n",
      "[CV] clf_r=RandomForestClassifier(), clf_r__class_weight=balanced, clf_r__max_features=auto, clf_r__n_estimators=500 \n",
      "[CV]  clf_r=RandomForestClassifier(), clf_r__class_weight=balanced, clf_r__max_features=auto, clf_r__n_estimators=500, score=0.991, total=  44.8s\n",
      "[CV] clf_r=RandomForestClassifier(), clf_r__class_weight=balanced, clf_r__max_features=auto, clf_r__n_estimators=500 \n",
      "[CV]  clf_r=RandomForestClassifier(), clf_r__class_weight=balanced, clf_r__max_features=auto, clf_r__n_estimators=500, score=0.991, total=  44.2s\n",
      "[CV] clf_r=RandomForestClassifier(), clf_r__class_weight=balanced, clf_r__max_features=auto, clf_r__n_estimators=1000 \n",
      "[CV]  clf_r=RandomForestClassifier(), clf_r__class_weight=balanced, clf_r__max_features=auto, clf_r__n_estimators=1000, score=0.972, total= 1.4min\n",
      "[CV] clf_r=RandomForestClassifier(), clf_r__class_weight=balanced, clf_r__max_features=auto, clf_r__n_estimators=1000 \n",
      "[CV]  clf_r=RandomForestClassifier(), clf_r__class_weight=balanced, clf_r__max_features=auto, clf_r__n_estimators=1000, score=0.991, total= 1.5min\n",
      "[CV] clf_r=RandomForestClassifier(), clf_r__class_weight=balanced, clf_r__max_features=auto, clf_r__n_estimators=1000 \n",
      "[CV]  clf_r=RandomForestClassifier(), clf_r__class_weight=balanced, clf_r__max_features=auto, clf_r__n_estimators=1000, score=0.992, total= 1.2min\n",
      "[CV] clf_r=RandomForestClassifier(), clf_r__class_weight=balanced, clf_r__max_features=log2, clf_r__n_estimators=100 \n",
      "[CV]  clf_r=RandomForestClassifier(), clf_r__class_weight=balanced, clf_r__max_features=log2, clf_r__n_estimators=100, score=0.972, total=   6.6s\n",
      "[CV] clf_r=RandomForestClassifier(), clf_r__class_weight=balanced, clf_r__max_features=log2, clf_r__n_estimators=100 \n",
      "[CV]  clf_r=RandomForestClassifier(), clf_r__class_weight=balanced, clf_r__max_features=log2, clf_r__n_estimators=100, score=0.991, total=   7.2s\n",
      "[CV] clf_r=RandomForestClassifier(), clf_r__class_weight=balanced, clf_r__max_features=log2, clf_r__n_estimators=100 \n",
      "[CV]  clf_r=RandomForestClassifier(), clf_r__class_weight=balanced, clf_r__max_features=log2, clf_r__n_estimators=100, score=0.991, total=   7.3s\n",
      "[CV] clf_r=RandomForestClassifier(), clf_r__class_weight=balanced, clf_r__max_features=log2, clf_r__n_estimators=500 \n",
      "[CV]  clf_r=RandomForestClassifier(), clf_r__class_weight=balanced, clf_r__max_features=log2, clf_r__n_estimators=500, score=0.972, total=  33.8s\n",
      "[CV] clf_r=RandomForestClassifier(), clf_r__class_weight=balanced, clf_r__max_features=log2, clf_r__n_estimators=500 \n",
      "[CV]  clf_r=RandomForestClassifier(), clf_r__class_weight=balanced, clf_r__max_features=log2, clf_r__n_estimators=500, score=0.991, total=  36.3s\n",
      "[CV] clf_r=RandomForestClassifier(), clf_r__class_weight=balanced, clf_r__max_features=log2, clf_r__n_estimators=500 \n",
      "[CV]  clf_r=RandomForestClassifier(), clf_r__class_weight=balanced, clf_r__max_features=log2, clf_r__n_estimators=500, score=0.991, total=  36.8s\n",
      "[CV] clf_r=RandomForestClassifier(), clf_r__class_weight=balanced, clf_r__max_features=log2, clf_r__n_estimators=1000 \n",
      "[CV]  clf_r=RandomForestClassifier(), clf_r__class_weight=balanced, clf_r__max_features=log2, clf_r__n_estimators=1000, score=0.972, total= 1.1min\n",
      "[CV] clf_r=RandomForestClassifier(), clf_r__class_weight=balanced, clf_r__max_features=log2, clf_r__n_estimators=1000 \n",
      "[CV]  clf_r=RandomForestClassifier(), clf_r__class_weight=balanced, clf_r__max_features=log2, clf_r__n_estimators=1000, score=0.991, total= 1.2min\n",
      "[CV] clf_r=RandomForestClassifier(), clf_r__class_weight=balanced, clf_r__max_features=log2, clf_r__n_estimators=1000 \n",
      "[CV]  clf_r=RandomForestClassifier(), clf_r__class_weight=balanced, clf_r__max_features=log2, clf_r__n_estimators=1000, score=0.992, total= 1.2min\n",
      "[CV] clf_r=RandomForestClassifier(), clf_r__class_weight=balanced_subsample, clf_r__max_features=auto, clf_r__n_estimators=100 \n",
      "[CV]  clf_r=RandomForestClassifier(), clf_r__class_weight=balanced_subsample, clf_r__max_features=auto, clf_r__n_estimators=100, score=0.972, total=   8.7s\n",
      "[CV] clf_r=RandomForestClassifier(), clf_r__class_weight=balanced_subsample, clf_r__max_features=auto, clf_r__n_estimators=100 \n",
      "[CV]  clf_r=RandomForestClassifier(), clf_r__class_weight=balanced_subsample, clf_r__max_features=auto, clf_r__n_estimators=100, score=0.991, total=   9.2s\n",
      "[CV] clf_r=RandomForestClassifier(), clf_r__class_weight=balanced_subsample, clf_r__max_features=auto, clf_r__n_estimators=100 \n",
      "[CV]  clf_r=RandomForestClassifier(), clf_r__class_weight=balanced_subsample, clf_r__max_features=auto, clf_r__n_estimators=100, score=0.991, total=   9.1s\n",
      "[CV] clf_r=RandomForestClassifier(), clf_r__class_weight=balanced_subsample, clf_r__max_features=auto, clf_r__n_estimators=500 \n",
      "[CV]  clf_r=RandomForestClassifier(), clf_r__class_weight=balanced_subsample, clf_r__max_features=auto, clf_r__n_estimators=500, score=0.972, total=  43.3s\n",
      "[CV] clf_r=RandomForestClassifier(), clf_r__class_weight=balanced_subsample, clf_r__max_features=auto, clf_r__n_estimators=500 \n",
      "[CV]  clf_r=RandomForestClassifier(), clf_r__class_weight=balanced_subsample, clf_r__max_features=auto, clf_r__n_estimators=500, score=0.991, total=  45.8s\n",
      "[CV] clf_r=RandomForestClassifier(), clf_r__class_weight=balanced_subsample, clf_r__max_features=auto, clf_r__n_estimators=500 \n",
      "[CV]  clf_r=RandomForestClassifier(), clf_r__class_weight=balanced_subsample, clf_r__max_features=auto, clf_r__n_estimators=500, score=0.992, total=  45.9s\n",
      "[CV] clf_r=RandomForestClassifier(), clf_r__class_weight=balanced_subsample, clf_r__max_features=auto, clf_r__n_estimators=1000 \n",
      "[CV]  clf_r=RandomForestClassifier(), clf_r__class_weight=balanced_subsample, clf_r__max_features=auto, clf_r__n_estimators=1000, score=0.972, total= 1.5min\n",
      "[CV] clf_r=RandomForestClassifier(), clf_r__class_weight=balanced_subsample, clf_r__max_features=auto, clf_r__n_estimators=1000 \n",
      "[CV]  clf_r=RandomForestClassifier(), clf_r__class_weight=balanced_subsample, clf_r__max_features=auto, clf_r__n_estimators=1000, score=0.991, total= 1.5min\n",
      "[CV] clf_r=RandomForestClassifier(), clf_r__class_weight=balanced_subsample, clf_r__max_features=auto, clf_r__n_estimators=1000 \n",
      "[CV]  clf_r=RandomForestClassifier(), clf_r__class_weight=balanced_subsample, clf_r__max_features=auto, clf_r__n_estimators=1000, score=0.992, total= 1.5min\n",
      "[CV] clf_r=RandomForestClassifier(), clf_r__class_weight=balanced_subsample, clf_r__max_features=log2, clf_r__n_estimators=100 \n",
      "[CV]  clf_r=RandomForestClassifier(), clf_r__class_weight=balanced_subsample, clf_r__max_features=log2, clf_r__n_estimators=100, score=0.971, total=   8.8s\n",
      "[CV] clf_r=RandomForestClassifier(), clf_r__class_weight=balanced_subsample, clf_r__max_features=log2, clf_r__n_estimators=100 \n",
      "[CV]  clf_r=RandomForestClassifier(), clf_r__class_weight=balanced_subsample, clf_r__max_features=log2, clf_r__n_estimators=100, score=0.991, total=   9.2s\n",
      "[CV] clf_r=RandomForestClassifier(), clf_r__class_weight=balanced_subsample, clf_r__max_features=log2, clf_r__n_estimators=100 \n",
      "[CV]  clf_r=RandomForestClassifier(), clf_r__class_weight=balanced_subsample, clf_r__max_features=log2, clf_r__n_estimators=100, score=0.992, total=   9.3s\n",
      "[CV] clf_r=RandomForestClassifier(), clf_r__class_weight=balanced_subsample, clf_r__max_features=log2, clf_r__n_estimators=500 \n",
      "[CV]  clf_r=RandomForestClassifier(), clf_r__class_weight=balanced_subsample, clf_r__max_features=log2, clf_r__n_estimators=500, score=0.972, total=  43.5s\n",
      "[CV] clf_r=RandomForestClassifier(), clf_r__class_weight=balanced_subsample, clf_r__max_features=log2, clf_r__n_estimators=500 \n",
      "[CV]  clf_r=RandomForestClassifier(), clf_r__class_weight=balanced_subsample, clf_r__max_features=log2, clf_r__n_estimators=500, score=0.991, total=  46.1s\n",
      "[CV] clf_r=RandomForestClassifier(), clf_r__class_weight=balanced_subsample, clf_r__max_features=log2, clf_r__n_estimators=500 \n"
     ]
    },
    {
     "name": "stdout",
     "output_type": "stream",
     "text": [
      "[CV]  clf_r=RandomForestClassifier(), clf_r__class_weight=balanced_subsample, clf_r__max_features=log2, clf_r__n_estimators=500, score=0.991, total=  45.9s\n",
      "[CV] clf_r=RandomForestClassifier(), clf_r__class_weight=balanced_subsample, clf_r__max_features=log2, clf_r__n_estimators=1000 \n",
      "[CV]  clf_r=RandomForestClassifier(), clf_r__class_weight=balanced_subsample, clf_r__max_features=log2, clf_r__n_estimators=1000, score=0.972, total= 1.4min\n",
      "[CV] clf_r=RandomForestClassifier(), clf_r__class_weight=balanced_subsample, clf_r__max_features=log2, clf_r__n_estimators=1000 \n",
      "[CV]  clf_r=RandomForestClassifier(), clf_r__class_weight=balanced_subsample, clf_r__max_features=log2, clf_r__n_estimators=1000, score=0.991, total= 1.6min\n",
      "[CV] clf_r=RandomForestClassifier(), clf_r__class_weight=balanced_subsample, clf_r__max_features=log2, clf_r__n_estimators=1000 \n",
      "[CV]  clf_r=RandomForestClassifier(), clf_r__class_weight=balanced_subsample, clf_r__max_features=log2, clf_r__n_estimators=1000, score=0.991, total= 1.5min\n",
      "[CV] clf_r=BalancedRandomForestClassifier(), clf_r__class_weight=balanced, clf_r__n_estimators=100, clf_r__sampling_strategy=auto \n",
      "[CV]  clf_r=BalancedRandomForestClassifier(), clf_r__class_weight=balanced, clf_r__n_estimators=100, clf_r__sampling_strategy=auto, score=0.971, total=   7.0s\n",
      "[CV] clf_r=BalancedRandomForestClassifier(), clf_r__class_weight=balanced, clf_r__n_estimators=100, clf_r__sampling_strategy=auto \n",
      "[CV]  clf_r=BalancedRandomForestClassifier(), clf_r__class_weight=balanced, clf_r__n_estimators=100, clf_r__sampling_strategy=auto, score=0.989, total=   7.5s\n",
      "[CV] clf_r=BalancedRandomForestClassifier(), clf_r__class_weight=balanced, clf_r__n_estimators=100, clf_r__sampling_strategy=auto \n",
      "[CV]  clf_r=BalancedRandomForestClassifier(), clf_r__class_weight=balanced, clf_r__n_estimators=100, clf_r__sampling_strategy=auto, score=0.989, total=   7.5s\n",
      "[CV] clf_r=BalancedRandomForestClassifier(), clf_r__class_weight=balanced, clf_r__n_estimators=100, clf_r__sampling_strategy=all \n",
      "[CV]  clf_r=BalancedRandomForestClassifier(), clf_r__class_weight=balanced, clf_r__n_estimators=100, clf_r__sampling_strategy=all, score=0.971, total=   7.4s\n",
      "[CV] clf_r=BalancedRandomForestClassifier(), clf_r__class_weight=balanced, clf_r__n_estimators=100, clf_r__sampling_strategy=all \n",
      "[CV]  clf_r=BalancedRandomForestClassifier(), clf_r__class_weight=balanced, clf_r__n_estimators=100, clf_r__sampling_strategy=all, score=0.989, total=   7.9s\n",
      "[CV] clf_r=BalancedRandomForestClassifier(), clf_r__class_weight=balanced, clf_r__n_estimators=100, clf_r__sampling_strategy=all \n",
      "[CV]  clf_r=BalancedRandomForestClassifier(), clf_r__class_weight=balanced, clf_r__n_estimators=100, clf_r__sampling_strategy=all, score=0.989, total=   7.8s\n",
      "[CV] clf_r=BalancedRandomForestClassifier(), clf_r__class_weight=balanced, clf_r__n_estimators=500, clf_r__sampling_strategy=auto \n",
      "[CV]  clf_r=BalancedRandomForestClassifier(), clf_r__class_weight=balanced, clf_r__n_estimators=500, clf_r__sampling_strategy=auto, score=0.971, total=  34.7s\n",
      "[CV] clf_r=BalancedRandomForestClassifier(), clf_r__class_weight=balanced, clf_r__n_estimators=500, clf_r__sampling_strategy=auto \n",
      "[CV]  clf_r=BalancedRandomForestClassifier(), clf_r__class_weight=balanced, clf_r__n_estimators=500, clf_r__sampling_strategy=auto, score=0.989, total=  37.2s\n",
      "[CV] clf_r=BalancedRandomForestClassifier(), clf_r__class_weight=balanced, clf_r__n_estimators=500, clf_r__sampling_strategy=auto \n",
      "[CV]  clf_r=BalancedRandomForestClassifier(), clf_r__class_weight=balanced, clf_r__n_estimators=500, clf_r__sampling_strategy=auto, score=0.990, total=  37.3s\n",
      "[CV] clf_r=BalancedRandomForestClassifier(), clf_r__class_weight=balanced, clf_r__n_estimators=500, clf_r__sampling_strategy=all \n",
      "[CV]  clf_r=BalancedRandomForestClassifier(), clf_r__class_weight=balanced, clf_r__n_estimators=500, clf_r__sampling_strategy=all, score=0.971, total=  37.2s\n",
      "[CV] clf_r=BalancedRandomForestClassifier(), clf_r__class_weight=balanced, clf_r__n_estimators=500, clf_r__sampling_strategy=all \n",
      "[CV]  clf_r=BalancedRandomForestClassifier(), clf_r__class_weight=balanced, clf_r__n_estimators=500, clf_r__sampling_strategy=all, score=0.989, total=  39.4s\n",
      "[CV] clf_r=BalancedRandomForestClassifier(), clf_r__class_weight=balanced, clf_r__n_estimators=500, clf_r__sampling_strategy=all \n",
      "[CV]  clf_r=BalancedRandomForestClassifier(), clf_r__class_weight=balanced, clf_r__n_estimators=500, clf_r__sampling_strategy=all, score=0.990, total=  40.0s\n",
      "[CV] clf_r=BalancedRandomForestClassifier(), clf_r__class_weight=balanced, clf_r__n_estimators=1000, clf_r__sampling_strategy=auto \n",
      "[CV]  clf_r=BalancedRandomForestClassifier(), clf_r__class_weight=balanced, clf_r__n_estimators=1000, clf_r__sampling_strategy=auto, score=0.971, total= 1.2min\n",
      "[CV] clf_r=BalancedRandomForestClassifier(), clf_r__class_weight=balanced, clf_r__n_estimators=1000, clf_r__sampling_strategy=auto \n",
      "[CV]  clf_r=BalancedRandomForestClassifier(), clf_r__class_weight=balanced, clf_r__n_estimators=1000, clf_r__sampling_strategy=auto, score=0.989, total= 1.3min\n",
      "[CV] clf_r=BalancedRandomForestClassifier(), clf_r__class_weight=balanced, clf_r__n_estimators=1000, clf_r__sampling_strategy=auto \n",
      "[CV]  clf_r=BalancedRandomForestClassifier(), clf_r__class_weight=balanced, clf_r__n_estimators=1000, clf_r__sampling_strategy=auto, score=0.989, total= 1.3min\n",
      "[CV] clf_r=BalancedRandomForestClassifier(), clf_r__class_weight=balanced, clf_r__n_estimators=1000, clf_r__sampling_strategy=all \n",
      "[CV]  clf_r=BalancedRandomForestClassifier(), clf_r__class_weight=balanced, clf_r__n_estimators=1000, clf_r__sampling_strategy=all, score=0.971, total= 1.3min\n",
      "[CV] clf_r=BalancedRandomForestClassifier(), clf_r__class_weight=balanced, clf_r__n_estimators=1000, clf_r__sampling_strategy=all \n",
      "[CV]  clf_r=BalancedRandomForestClassifier(), clf_r__class_weight=balanced, clf_r__n_estimators=1000, clf_r__sampling_strategy=all, score=0.989, total= 1.3min\n",
      "[CV] clf_r=BalancedRandomForestClassifier(), clf_r__class_weight=balanced, clf_r__n_estimators=1000, clf_r__sampling_strategy=all \n",
      "[CV]  clf_r=BalancedRandomForestClassifier(), clf_r__class_weight=balanced, clf_r__n_estimators=1000, clf_r__sampling_strategy=all, score=0.990, total= 1.3min\n",
      "[CV] clf_r=BalancedRandomForestClassifier(), clf_r__class_weight=balanced_subsample, clf_r__n_estimators=100, clf_r__sampling_strategy=auto \n",
      "[CV]  clf_r=BalancedRandomForestClassifier(), clf_r__class_weight=balanced_subsample, clf_r__n_estimators=100, clf_r__sampling_strategy=auto, score=0.971, total=   8.5s\n",
      "[CV] clf_r=BalancedRandomForestClassifier(), clf_r__class_weight=balanced_subsample, clf_r__n_estimators=100, clf_r__sampling_strategy=auto \n",
      "[CV]  clf_r=BalancedRandomForestClassifier(), clf_r__class_weight=balanced_subsample, clf_r__n_estimators=100, clf_r__sampling_strategy=auto, score=0.989, total=   8.8s\n",
      "[CV] clf_r=BalancedRandomForestClassifier(), clf_r__class_weight=balanced_subsample, clf_r__n_estimators=100, clf_r__sampling_strategy=auto \n",
      "[CV]  clf_r=BalancedRandomForestClassifier(), clf_r__class_weight=balanced_subsample, clf_r__n_estimators=100, clf_r__sampling_strategy=auto, score=0.990, total=   8.8s\n",
      "[CV] clf_r=BalancedRandomForestClassifier(), clf_r__class_weight=balanced_subsample, clf_r__n_estimators=100, clf_r__sampling_strategy=all \n",
      "[CV]  clf_r=BalancedRandomForestClassifier(), clf_r__class_weight=balanced_subsample, clf_r__n_estimators=100, clf_r__sampling_strategy=all, score=0.971, total=   8.9s\n",
      "[CV] clf_r=BalancedRandomForestClassifier(), clf_r__class_weight=balanced_subsample, clf_r__n_estimators=100, clf_r__sampling_strategy=all \n",
      "[CV]  clf_r=BalancedRandomForestClassifier(), clf_r__class_weight=balanced_subsample, clf_r__n_estimators=100, clf_r__sampling_strategy=all, score=0.989, total=   9.1s\n",
      "[CV] clf_r=BalancedRandomForestClassifier(), clf_r__class_weight=balanced_subsample, clf_r__n_estimators=100, clf_r__sampling_strategy=all \n",
      "[CV]  clf_r=BalancedRandomForestClassifier(), clf_r__class_weight=balanced_subsample, clf_r__n_estimators=100, clf_r__sampling_strategy=all, score=0.990, total=   9.2s\n",
      "[CV] clf_r=BalancedRandomForestClassifier(), clf_r__class_weight=balanced_subsample, clf_r__n_estimators=500, clf_r__sampling_strategy=auto \n"
     ]
    },
    {
     "name": "stdout",
     "output_type": "stream",
     "text": [
      "[CV]  clf_r=BalancedRandomForestClassifier(), clf_r__class_weight=balanced_subsample, clf_r__n_estimators=500, clf_r__sampling_strategy=auto, score=0.971, total=  41.6s\n",
      "[CV] clf_r=BalancedRandomForestClassifier(), clf_r__class_weight=balanced_subsample, clf_r__n_estimators=500, clf_r__sampling_strategy=auto \n",
      "[CV]  clf_r=BalancedRandomForestClassifier(), clf_r__class_weight=balanced_subsample, clf_r__n_estimators=500, clf_r__sampling_strategy=auto, score=0.989, total=  44.4s\n",
      "[CV] clf_r=BalancedRandomForestClassifier(), clf_r__class_weight=balanced_subsample, clf_r__n_estimators=500, clf_r__sampling_strategy=auto \n",
      "[CV]  clf_r=BalancedRandomForestClassifier(), clf_r__class_weight=balanced_subsample, clf_r__n_estimators=500, clf_r__sampling_strategy=auto, score=0.990, total=  44.3s\n",
      "[CV] clf_r=BalancedRandomForestClassifier(), clf_r__class_weight=balanced_subsample, clf_r__n_estimators=500, clf_r__sampling_strategy=all \n",
      "[CV]  clf_r=BalancedRandomForestClassifier(), clf_r__class_weight=balanced_subsample, clf_r__n_estimators=500, clf_r__sampling_strategy=all, score=0.971, total=  44.1s\n",
      "[CV] clf_r=BalancedRandomForestClassifier(), clf_r__class_weight=balanced_subsample, clf_r__n_estimators=500, clf_r__sampling_strategy=all \n",
      "[CV]  clf_r=BalancedRandomForestClassifier(), clf_r__class_weight=balanced_subsample, clf_r__n_estimators=500, clf_r__sampling_strategy=all, score=0.989, total=  46.2s\n",
      "[CV] clf_r=BalancedRandomForestClassifier(), clf_r__class_weight=balanced_subsample, clf_r__n_estimators=500, clf_r__sampling_strategy=all \n",
      "[CV]  clf_r=BalancedRandomForestClassifier(), clf_r__class_weight=balanced_subsample, clf_r__n_estimators=500, clf_r__sampling_strategy=all, score=0.990, total=  46.2s\n",
      "[CV] clf_r=BalancedRandomForestClassifier(), clf_r__class_weight=balanced_subsample, clf_r__n_estimators=1000, clf_r__sampling_strategy=auto \n",
      "[CV]  clf_r=BalancedRandomForestClassifier(), clf_r__class_weight=balanced_subsample, clf_r__n_estimators=1000, clf_r__sampling_strategy=auto, score=0.971, total= 1.4min\n",
      "[CV] clf_r=BalancedRandomForestClassifier(), clf_r__class_weight=balanced_subsample, clf_r__n_estimators=1000, clf_r__sampling_strategy=auto \n",
      "[CV]  clf_r=BalancedRandomForestClassifier(), clf_r__class_weight=balanced_subsample, clf_r__n_estimators=1000, clf_r__sampling_strategy=auto, score=0.989, total= 1.5min\n",
      "[CV] clf_r=BalancedRandomForestClassifier(), clf_r__class_weight=balanced_subsample, clf_r__n_estimators=1000, clf_r__sampling_strategy=auto \n",
      "[CV]  clf_r=BalancedRandomForestClassifier(), clf_r__class_weight=balanced_subsample, clf_r__n_estimators=1000, clf_r__sampling_strategy=auto, score=0.990, total= 1.5min\n",
      "[CV] clf_r=BalancedRandomForestClassifier(), clf_r__class_weight=balanced_subsample, clf_r__n_estimators=1000, clf_r__sampling_strategy=all \n",
      "[CV]  clf_r=BalancedRandomForestClassifier(), clf_r__class_weight=balanced_subsample, clf_r__n_estimators=1000, clf_r__sampling_strategy=all, score=0.971, total= 1.5min\n",
      "[CV] clf_r=BalancedRandomForestClassifier(), clf_r__class_weight=balanced_subsample, clf_r__n_estimators=1000, clf_r__sampling_strategy=all \n",
      "[CV]  clf_r=BalancedRandomForestClassifier(), clf_r__class_weight=balanced_subsample, clf_r__n_estimators=1000, clf_r__sampling_strategy=all, score=0.989, total= 1.6min\n",
      "[CV] clf_r=BalancedRandomForestClassifier(), clf_r__class_weight=balanced_subsample, clf_r__n_estimators=1000, clf_r__sampling_strategy=all \n",
      "[CV]  clf_r=BalancedRandomForestClassifier(), clf_r__class_weight=balanced_subsample, clf_r__n_estimators=1000, clf_r__sampling_strategy=all, score=0.990, total= 1.6min\n"
     ]
    },
    {
     "name": "stderr",
     "output_type": "stream",
     "text": [
      "[Parallel(n_jobs=1)]: Done  72 out of  72 | elapsed: 53.5min finished\n"
     ]
    },
    {
     "data": {
      "text/plain": [
       "GridSearchCV(cv=3,\n",
       "             estimator=Pipeline(steps=[('clf_r', RandomForestClassifier())]),\n",
       "             param_grid=[{'clf_r': [RandomForestClassifier(class_weight='balanced_subsample',\n",
       "                                                           n_estimators=1000)],\n",
       "                          'clf_r__class_weight': ['balanced',\n",
       "                                                  'balanced_subsample'],\n",
       "                          'clf_r__max_features': ['auto', 'log2'],\n",
       "                          'clf_r__n_estimators': [100, 500, 1000]},\n",
       "                         {'clf_r': [BalancedRandomForestClassifier()],\n",
       "                          'clf_r__class_weight': ['balanced',\n",
       "                                                  'balanced_subsample'],\n",
       "                          'clf_r__n_estimators': [100, 500, 1000],\n",
       "                          'clf_r__sampling_strategy': ['auto', 'all']}],\n",
       "             verbose=3)"
      ]
     },
     "execution_count": 273,
     "metadata": {},
     "output_type": "execute_result"
    }
   ],
   "source": [
    "model.fit(X_train, y_train)"
   ]
  },
  {
   "cell_type": "code",
   "execution_count": 274,
   "metadata": {},
   "outputs": [
    {
     "name": "stdout",
     "output_type": "stream",
     "text": [
      "Fitting 8 folds for each of 12 candidates, totalling 96 fits\n",
      "[CV] clf_r__class_weight=balanced, clf_r__n_estimators=100, clf_r__sampling_strategy=auto \n"
     ]
    },
    {
     "name": "stderr",
     "output_type": "stream",
     "text": [
      "[Parallel(n_jobs=1)]: Using backend SequentialBackend with 1 concurrent workers.\n"
     ]
    },
    {
     "name": "stdout",
     "output_type": "stream",
     "text": [
      "[CV]  clf_r__class_weight=balanced, clf_r__n_estimators=100, clf_r__sampling_strategy=auto, score=0.938, total=   9.1s\n",
      "[CV] clf_r__class_weight=balanced, clf_r__n_estimators=100, clf_r__sampling_strategy=auto \n"
     ]
    },
    {
     "name": "stderr",
     "output_type": "stream",
     "text": [
      "[Parallel(n_jobs=1)]: Done   1 out of   1 | elapsed:    9.0s remaining:    0.0s\n"
     ]
    },
    {
     "name": "stdout",
     "output_type": "stream",
     "text": [
      "[CV]  clf_r__class_weight=balanced, clf_r__n_estimators=100, clf_r__sampling_strategy=auto, score=0.990, total=   9.6s\n",
      "[CV] clf_r__class_weight=balanced, clf_r__n_estimators=100, clf_r__sampling_strategy=auto \n"
     ]
    },
    {
     "name": "stderr",
     "output_type": "stream",
     "text": [
      "[Parallel(n_jobs=1)]: Done   2 out of   2 | elapsed:   18.6s remaining:    0.0s\n"
     ]
    },
    {
     "name": "stdout",
     "output_type": "stream",
     "text": [
      "[CV]  clf_r__class_weight=balanced, clf_r__n_estimators=100, clf_r__sampling_strategy=auto, score=0.991, total=   9.5s\n",
      "[CV] clf_r__class_weight=balanced, clf_r__n_estimators=100, clf_r__sampling_strategy=auto \n",
      "[CV]  clf_r__class_weight=balanced, clf_r__n_estimators=100, clf_r__sampling_strategy=auto, score=0.991, total=   9.5s\n",
      "[CV] clf_r__class_weight=balanced, clf_r__n_estimators=100, clf_r__sampling_strategy=auto \n",
      "[CV]  clf_r__class_weight=balanced, clf_r__n_estimators=100, clf_r__sampling_strategy=auto, score=0.990, total=   9.4s\n",
      "[CV] clf_r__class_weight=balanced, clf_r__n_estimators=100, clf_r__sampling_strategy=auto \n",
      "[CV]  clf_r__class_weight=balanced, clf_r__n_estimators=100, clf_r__sampling_strategy=auto, score=0.991, total=   9.5s\n",
      "[CV] clf_r__class_weight=balanced, clf_r__n_estimators=100, clf_r__sampling_strategy=auto \n",
      "[CV]  clf_r__class_weight=balanced, clf_r__n_estimators=100, clf_r__sampling_strategy=auto, score=0.992, total=   9.6s\n",
      "[CV] clf_r__class_weight=balanced, clf_r__n_estimators=100, clf_r__sampling_strategy=auto \n",
      "[CV]  clf_r__class_weight=balanced, clf_r__n_estimators=100, clf_r__sampling_strategy=auto, score=0.990, total=   9.4s\n",
      "[CV] clf_r__class_weight=balanced, clf_r__n_estimators=100, clf_r__sampling_strategy=all \n",
      "[CV]  clf_r__class_weight=balanced, clf_r__n_estimators=100, clf_r__sampling_strategy=all, score=0.939, total=   9.8s\n",
      "[CV] clf_r__class_weight=balanced, clf_r__n_estimators=100, clf_r__sampling_strategy=all \n",
      "[CV]  clf_r__class_weight=balanced, clf_r__n_estimators=100, clf_r__sampling_strategy=all, score=0.991, total=  10.2s\n",
      "[CV] clf_r__class_weight=balanced, clf_r__n_estimators=100, clf_r__sampling_strategy=all \n",
      "[CV]  clf_r__class_weight=balanced, clf_r__n_estimators=100, clf_r__sampling_strategy=all, score=0.991, total=  10.2s\n",
      "[CV] clf_r__class_weight=balanced, clf_r__n_estimators=100, clf_r__sampling_strategy=all \n",
      "[CV]  clf_r__class_weight=balanced, clf_r__n_estimators=100, clf_r__sampling_strategy=all, score=0.991, total=  10.2s\n",
      "[CV] clf_r__class_weight=balanced, clf_r__n_estimators=100, clf_r__sampling_strategy=all \n",
      "[CV]  clf_r__class_weight=balanced, clf_r__n_estimators=100, clf_r__sampling_strategy=all, score=0.990, total=  10.1s\n",
      "[CV] clf_r__class_weight=balanced, clf_r__n_estimators=100, clf_r__sampling_strategy=all \n",
      "[CV]  clf_r__class_weight=balanced, clf_r__n_estimators=100, clf_r__sampling_strategy=all, score=0.991, total=  10.2s\n",
      "[CV] clf_r__class_weight=balanced, clf_r__n_estimators=100, clf_r__sampling_strategy=all \n",
      "[CV]  clf_r__class_weight=balanced, clf_r__n_estimators=100, clf_r__sampling_strategy=all, score=0.991, total=   9.9s\n",
      "[CV] clf_r__class_weight=balanced, clf_r__n_estimators=100, clf_r__sampling_strategy=all \n",
      "[CV]  clf_r__class_weight=balanced, clf_r__n_estimators=100, clf_r__sampling_strategy=all, score=0.990, total=  10.2s\n",
      "[CV] clf_r__class_weight=balanced, clf_r__n_estimators=500, clf_r__sampling_strategy=auto \n",
      "[CV]  clf_r__class_weight=balanced, clf_r__n_estimators=500, clf_r__sampling_strategy=auto, score=0.938, total=  45.7s\n",
      "[CV] clf_r__class_weight=balanced, clf_r__n_estimators=500, clf_r__sampling_strategy=auto \n",
      "[CV]  clf_r__class_weight=balanced, clf_r__n_estimators=500, clf_r__sampling_strategy=auto, score=0.991, total=  48.3s\n",
      "[CV] clf_r__class_weight=balanced, clf_r__n_estimators=500, clf_r__sampling_strategy=auto \n",
      "[CV]  clf_r__class_weight=balanced, clf_r__n_estimators=500, clf_r__sampling_strategy=auto, score=0.991, total=  48.2s\n",
      "[CV] clf_r__class_weight=balanced, clf_r__n_estimators=500, clf_r__sampling_strategy=auto \n",
      "[CV]  clf_r__class_weight=balanced, clf_r__n_estimators=500, clf_r__sampling_strategy=auto, score=0.991, total=  48.3s\n",
      "[CV] clf_r__class_weight=balanced, clf_r__n_estimators=500, clf_r__sampling_strategy=auto \n",
      "[CV]  clf_r__class_weight=balanced, clf_r__n_estimators=500, clf_r__sampling_strategy=auto, score=0.990, total=  48.0s\n",
      "[CV] clf_r__class_weight=balanced, clf_r__n_estimators=500, clf_r__sampling_strategy=auto \n",
      "[CV]  clf_r__class_weight=balanced, clf_r__n_estimators=500, clf_r__sampling_strategy=auto, score=0.991, total=  48.3s\n",
      "[CV] clf_r__class_weight=balanced, clf_r__n_estimators=500, clf_r__sampling_strategy=auto \n",
      "[CV]  clf_r__class_weight=balanced, clf_r__n_estimators=500, clf_r__sampling_strategy=auto, score=0.991, total=  48.2s\n",
      "[CV] clf_r__class_weight=balanced, clf_r__n_estimators=500, clf_r__sampling_strategy=auto \n",
      "[CV]  clf_r__class_weight=balanced, clf_r__n_estimators=500, clf_r__sampling_strategy=auto, score=0.991, total=  48.1s\n",
      "[CV] clf_r__class_weight=balanced, clf_r__n_estimators=500, clf_r__sampling_strategy=all \n",
      "[CV]  clf_r__class_weight=balanced, clf_r__n_estimators=500, clf_r__sampling_strategy=all, score=0.938, total=  49.2s\n",
      "[CV] clf_r__class_weight=balanced, clf_r__n_estimators=500, clf_r__sampling_strategy=all \n",
      "[CV]  clf_r__class_weight=balanced, clf_r__n_estimators=500, clf_r__sampling_strategy=all, score=0.991, total=  52.0s\n",
      "[CV] clf_r__class_weight=balanced, clf_r__n_estimators=500, clf_r__sampling_strategy=all \n",
      "[CV]  clf_r__class_weight=balanced, clf_r__n_estimators=500, clf_r__sampling_strategy=all, score=0.991, total=  51.8s\n",
      "[CV] clf_r__class_weight=balanced, clf_r__n_estimators=500, clf_r__sampling_strategy=all \n",
      "[CV]  clf_r__class_weight=balanced, clf_r__n_estimators=500, clf_r__sampling_strategy=all, score=0.991, total=  51.6s\n",
      "[CV] clf_r__class_weight=balanced, clf_r__n_estimators=500, clf_r__sampling_strategy=all \n",
      "[CV]  clf_r__class_weight=balanced, clf_r__n_estimators=500, clf_r__sampling_strategy=all, score=0.990, total=  51.7s\n",
      "[CV] clf_r__class_weight=balanced, clf_r__n_estimators=500, clf_r__sampling_strategy=all \n",
      "[CV]  clf_r__class_weight=balanced, clf_r__n_estimators=500, clf_r__sampling_strategy=all, score=0.991, total=  51.8s\n",
      "[CV] clf_r__class_weight=balanced, clf_r__n_estimators=500, clf_r__sampling_strategy=all \n",
      "[CV]  clf_r__class_weight=balanced, clf_r__n_estimators=500, clf_r__sampling_strategy=all, score=0.992, total=  51.5s\n",
      "[CV] clf_r__class_weight=balanced, clf_r__n_estimators=500, clf_r__sampling_strategy=all \n",
      "[CV]  clf_r__class_weight=balanced, clf_r__n_estimators=500, clf_r__sampling_strategy=all, score=0.990, total=  51.7s\n",
      "[CV] clf_r__class_weight=balanced, clf_r__n_estimators=1000, clf_r__sampling_strategy=auto \n",
      "[CV]  clf_r__class_weight=balanced, clf_r__n_estimators=1000, clf_r__sampling_strategy=auto, score=0.938, total= 1.5min\n",
      "[CV] clf_r__class_weight=balanced, clf_r__n_estimators=1000, clf_r__sampling_strategy=auto \n",
      "[CV]  clf_r__class_weight=balanced, clf_r__n_estimators=1000, clf_r__sampling_strategy=auto, score=0.991, total= 1.6min\n",
      "[CV] clf_r__class_weight=balanced, clf_r__n_estimators=1000, clf_r__sampling_strategy=auto \n",
      "[CV]  clf_r__class_weight=balanced, clf_r__n_estimators=1000, clf_r__sampling_strategy=auto, score=0.991, total= 1.7min\n",
      "[CV] clf_r__class_weight=balanced, clf_r__n_estimators=1000, clf_r__sampling_strategy=auto \n",
      "[CV]  clf_r__class_weight=balanced, clf_r__n_estimators=1000, clf_r__sampling_strategy=auto, score=0.991, total= 1.8min\n",
      "[CV] clf_r__class_weight=balanced, clf_r__n_estimators=1000, clf_r__sampling_strategy=auto \n",
      "[CV]  clf_r__class_weight=balanced, clf_r__n_estimators=1000, clf_r__sampling_strategy=auto, score=0.990, total= 1.7min\n",
      "[CV] clf_r__class_weight=balanced, clf_r__n_estimators=1000, clf_r__sampling_strategy=auto \n",
      "[CV]  clf_r__class_weight=balanced, clf_r__n_estimators=1000, clf_r__sampling_strategy=auto, score=0.991, total= 1.7min\n",
      "[CV] clf_r__class_weight=balanced, clf_r__n_estimators=1000, clf_r__sampling_strategy=auto \n",
      "[CV]  clf_r__class_weight=balanced, clf_r__n_estimators=1000, clf_r__sampling_strategy=auto, score=0.991, total= 1.7min\n",
      "[CV] clf_r__class_weight=balanced, clf_r__n_estimators=1000, clf_r__sampling_strategy=auto \n",
      "[CV]  clf_r__class_weight=balanced, clf_r__n_estimators=1000, clf_r__sampling_strategy=auto, score=0.990, total= 1.7min\n",
      "[CV] clf_r__class_weight=balanced, clf_r__n_estimators=1000, clf_r__sampling_strategy=all \n",
      "[CV]  clf_r__class_weight=balanced, clf_r__n_estimators=1000, clf_r__sampling_strategy=all, score=0.938, total= 1.7min\n",
      "[CV] clf_r__class_weight=balanced, clf_r__n_estimators=1000, clf_r__sampling_strategy=all \n",
      "[CV]  clf_r__class_weight=balanced, clf_r__n_estimators=1000, clf_r__sampling_strategy=all, score=0.991, total= 1.8min\n"
     ]
    },
    {
     "name": "stdout",
     "output_type": "stream",
     "text": [
      "[CV] clf_r__class_weight=balanced, clf_r__n_estimators=1000, clf_r__sampling_strategy=all \n",
      "[CV]  clf_r__class_weight=balanced, clf_r__n_estimators=1000, clf_r__sampling_strategy=all, score=0.991, total= 1.8min\n",
      "[CV] clf_r__class_weight=balanced, clf_r__n_estimators=1000, clf_r__sampling_strategy=all \n",
      "[CV]  clf_r__class_weight=balanced, clf_r__n_estimators=1000, clf_r__sampling_strategy=all, score=0.991, total= 1.8min\n",
      "[CV] clf_r__class_weight=balanced, clf_r__n_estimators=1000, clf_r__sampling_strategy=all \n",
      "[CV]  clf_r__class_weight=balanced, clf_r__n_estimators=1000, clf_r__sampling_strategy=all, score=0.990, total= 1.8min\n",
      "[CV] clf_r__class_weight=balanced, clf_r__n_estimators=1000, clf_r__sampling_strategy=all \n",
      "[CV]  clf_r__class_weight=balanced, clf_r__n_estimators=1000, clf_r__sampling_strategy=all, score=0.991, total= 1.8min\n",
      "[CV] clf_r__class_weight=balanced, clf_r__n_estimators=1000, clf_r__sampling_strategy=all \n",
      "[CV]  clf_r__class_weight=balanced, clf_r__n_estimators=1000, clf_r__sampling_strategy=all, score=0.991, total= 1.8min\n",
      "[CV] clf_r__class_weight=balanced, clf_r__n_estimators=1000, clf_r__sampling_strategy=all \n",
      "[CV]  clf_r__class_weight=balanced, clf_r__n_estimators=1000, clf_r__sampling_strategy=all, score=0.990, total= 1.8min\n",
      "[CV] clf_r__class_weight=balanced_subsample, clf_r__n_estimators=100, clf_r__sampling_strategy=auto \n",
      "[CV]  clf_r__class_weight=balanced_subsample, clf_r__n_estimators=100, clf_r__sampling_strategy=auto, score=0.938, total=  11.4s\n",
      "[CV] clf_r__class_weight=balanced_subsample, clf_r__n_estimators=100, clf_r__sampling_strategy=auto \n",
      "[CV]  clf_r__class_weight=balanced_subsample, clf_r__n_estimators=100, clf_r__sampling_strategy=auto, score=0.991, total=  11.8s\n",
      "[CV] clf_r__class_weight=balanced_subsample, clf_r__n_estimators=100, clf_r__sampling_strategy=auto \n",
      "[CV]  clf_r__class_weight=balanced_subsample, clf_r__n_estimators=100, clf_r__sampling_strategy=auto, score=0.991, total=  11.9s\n",
      "[CV] clf_r__class_weight=balanced_subsample, clf_r__n_estimators=100, clf_r__sampling_strategy=auto \n",
      "[CV]  clf_r__class_weight=balanced_subsample, clf_r__n_estimators=100, clf_r__sampling_strategy=auto, score=0.991, total=  12.4s\n",
      "[CV] clf_r__class_weight=balanced_subsample, clf_r__n_estimators=100, clf_r__sampling_strategy=auto \n",
      "[CV]  clf_r__class_weight=balanced_subsample, clf_r__n_estimators=100, clf_r__sampling_strategy=auto, score=0.990, total=  13.7s\n",
      "[CV] clf_r__class_weight=balanced_subsample, clf_r__n_estimators=100, clf_r__sampling_strategy=auto \n",
      "[CV]  clf_r__class_weight=balanced_subsample, clf_r__n_estimators=100, clf_r__sampling_strategy=auto, score=0.991, total=  14.9s\n",
      "[CV] clf_r__class_weight=balanced_subsample, clf_r__n_estimators=100, clf_r__sampling_strategy=auto \n",
      "[CV]  clf_r__class_weight=balanced_subsample, clf_r__n_estimators=100, clf_r__sampling_strategy=auto, score=0.992, total=  11.9s\n",
      "[CV] clf_r__class_weight=balanced_subsample, clf_r__n_estimators=100, clf_r__sampling_strategy=auto \n",
      "[CV]  clf_r__class_weight=balanced_subsample, clf_r__n_estimators=100, clf_r__sampling_strategy=auto, score=0.990, total=  11.9s\n",
      "[CV] clf_r__class_weight=balanced_subsample, clf_r__n_estimators=100, clf_r__sampling_strategy=all \n",
      "[CV]  clf_r__class_weight=balanced_subsample, clf_r__n_estimators=100, clf_r__sampling_strategy=all, score=0.939, total=  12.1s\n",
      "[CV] clf_r__class_weight=balanced_subsample, clf_r__n_estimators=100, clf_r__sampling_strategy=all \n",
      "[CV]  clf_r__class_weight=balanced_subsample, clf_r__n_estimators=100, clf_r__sampling_strategy=all, score=0.991, total=  12.5s\n",
      "[CV] clf_r__class_weight=balanced_subsample, clf_r__n_estimators=100, clf_r__sampling_strategy=all \n",
      "[CV]  clf_r__class_weight=balanced_subsample, clf_r__n_estimators=100, clf_r__sampling_strategy=all, score=0.991, total=  12.3s\n",
      "[CV] clf_r__class_weight=balanced_subsample, clf_r__n_estimators=100, clf_r__sampling_strategy=all \n",
      "[CV]  clf_r__class_weight=balanced_subsample, clf_r__n_estimators=100, clf_r__sampling_strategy=all, score=0.991, total=  12.3s\n",
      "[CV] clf_r__class_weight=balanced_subsample, clf_r__n_estimators=100, clf_r__sampling_strategy=all \n",
      "[CV]  clf_r__class_weight=balanced_subsample, clf_r__n_estimators=100, clf_r__sampling_strategy=all, score=0.990, total=  12.4s\n",
      "[CV] clf_r__class_weight=balanced_subsample, clf_r__n_estimators=100, clf_r__sampling_strategy=all \n",
      "[CV]  clf_r__class_weight=balanced_subsample, clf_r__n_estimators=100, clf_r__sampling_strategy=all, score=0.991, total=  12.8s\n",
      "[CV] clf_r__class_weight=balanced_subsample, clf_r__n_estimators=100, clf_r__sampling_strategy=all \n",
      "[CV]  clf_r__class_weight=balanced_subsample, clf_r__n_estimators=100, clf_r__sampling_strategy=all, score=0.991, total=  12.4s\n",
      "[CV] clf_r__class_weight=balanced_subsample, clf_r__n_estimators=100, clf_r__sampling_strategy=all \n",
      "[CV]  clf_r__class_weight=balanced_subsample, clf_r__n_estimators=100, clf_r__sampling_strategy=all, score=0.990, total=  12.3s\n",
      "[CV] clf_r__class_weight=balanced_subsample, clf_r__n_estimators=500, clf_r__sampling_strategy=auto \n",
      "[CV]  clf_r__class_weight=balanced_subsample, clf_r__n_estimators=500, clf_r__sampling_strategy=auto, score=0.939, total=  56.8s\n",
      "[CV] clf_r__class_weight=balanced_subsample, clf_r__n_estimators=500, clf_r__sampling_strategy=auto \n",
      "[CV]  clf_r__class_weight=balanced_subsample, clf_r__n_estimators=500, clf_r__sampling_strategy=auto, score=0.991, total=  59.4s\n",
      "[CV] clf_r__class_weight=balanced_subsample, clf_r__n_estimators=500, clf_r__sampling_strategy=auto \n",
      "[CV]  clf_r__class_weight=balanced_subsample, clf_r__n_estimators=500, clf_r__sampling_strategy=auto, score=0.991, total=  58.5s\n",
      "[CV] clf_r__class_weight=balanced_subsample, clf_r__n_estimators=500, clf_r__sampling_strategy=auto \n",
      "[CV]  clf_r__class_weight=balanced_subsample, clf_r__n_estimators=500, clf_r__sampling_strategy=auto, score=0.991, total=  57.7s\n",
      "[CV] clf_r__class_weight=balanced_subsample, clf_r__n_estimators=500, clf_r__sampling_strategy=auto \n",
      "[CV]  clf_r__class_weight=balanced_subsample, clf_r__n_estimators=500, clf_r__sampling_strategy=auto, score=0.990, total=  58.4s\n",
      "[CV] clf_r__class_weight=balanced_subsample, clf_r__n_estimators=500, clf_r__sampling_strategy=auto \n",
      "[CV]  clf_r__class_weight=balanced_subsample, clf_r__n_estimators=500, clf_r__sampling_strategy=auto, score=0.991, total=  57.5s\n",
      "[CV] clf_r__class_weight=balanced_subsample, clf_r__n_estimators=500, clf_r__sampling_strategy=auto \n",
      "[CV]  clf_r__class_weight=balanced_subsample, clf_r__n_estimators=500, clf_r__sampling_strategy=auto, score=0.992, total=  57.0s\n",
      "[CV] clf_r__class_weight=balanced_subsample, clf_r__n_estimators=500, clf_r__sampling_strategy=auto \n",
      "[CV]  clf_r__class_weight=balanced_subsample, clf_r__n_estimators=500, clf_r__sampling_strategy=auto, score=0.990, total=  56.2s\n",
      "[CV] clf_r__class_weight=balanced_subsample, clf_r__n_estimators=500, clf_r__sampling_strategy=all \n",
      "[CV]  clf_r__class_weight=balanced_subsample, clf_r__n_estimators=500, clf_r__sampling_strategy=all, score=0.939, total=  57.2s\n",
      "[CV] clf_r__class_weight=balanced_subsample, clf_r__n_estimators=500, clf_r__sampling_strategy=all \n",
      "[CV]  clf_r__class_weight=balanced_subsample, clf_r__n_estimators=500, clf_r__sampling_strategy=all, score=0.991, total=  59.4s\n",
      "[CV] clf_r__class_weight=balanced_subsample, clf_r__n_estimators=500, clf_r__sampling_strategy=all \n",
      "[CV]  clf_r__class_weight=balanced_subsample, clf_r__n_estimators=500, clf_r__sampling_strategy=all, score=0.991, total=  59.6s\n",
      "[CV] clf_r__class_weight=balanced_subsample, clf_r__n_estimators=500, clf_r__sampling_strategy=all \n",
      "[CV]  clf_r__class_weight=balanced_subsample, clf_r__n_estimators=500, clf_r__sampling_strategy=all, score=0.991, total= 1.0min\n",
      "[CV] clf_r__class_weight=balanced_subsample, clf_r__n_estimators=500, clf_r__sampling_strategy=all \n",
      "[CV]  clf_r__class_weight=balanced_subsample, clf_r__n_estimators=500, clf_r__sampling_strategy=all, score=0.990, total= 1.0min\n",
      "[CV] clf_r__class_weight=balanced_subsample, clf_r__n_estimators=500, clf_r__sampling_strategy=all \n",
      "[CV]  clf_r__class_weight=balanced_subsample, clf_r__n_estimators=500, clf_r__sampling_strategy=all, score=0.991, total= 1.0min\n",
      "[CV] clf_r__class_weight=balanced_subsample, clf_r__n_estimators=500, clf_r__sampling_strategy=all \n"
     ]
    },
    {
     "name": "stdout",
     "output_type": "stream",
     "text": [
      "[CV]  clf_r__class_weight=balanced_subsample, clf_r__n_estimators=500, clf_r__sampling_strategy=all, score=0.992, total=  59.5s\n",
      "[CV] clf_r__class_weight=balanced_subsample, clf_r__n_estimators=500, clf_r__sampling_strategy=all \n",
      "[CV]  clf_r__class_weight=balanced_subsample, clf_r__n_estimators=500, clf_r__sampling_strategy=all, score=0.990, total=  59.3s\n",
      "[CV] clf_r__class_weight=balanced_subsample, clf_r__n_estimators=1000, clf_r__sampling_strategy=auto \n",
      "[CV]  clf_r__class_weight=balanced_subsample, clf_r__n_estimators=1000, clf_r__sampling_strategy=auto, score=0.939, total= 1.8min\n",
      "[CV] clf_r__class_weight=balanced_subsample, clf_r__n_estimators=1000, clf_r__sampling_strategy=auto \n",
      "[CV]  clf_r__class_weight=balanced_subsample, clf_r__n_estimators=1000, clf_r__sampling_strategy=auto, score=0.991, total= 1.9min\n",
      "[CV] clf_r__class_weight=balanced_subsample, clf_r__n_estimators=1000, clf_r__sampling_strategy=auto \n",
      "[CV]  clf_r__class_weight=balanced_subsample, clf_r__n_estimators=1000, clf_r__sampling_strategy=auto, score=0.991, total= 1.9min\n",
      "[CV] clf_r__class_weight=balanced_subsample, clf_r__n_estimators=1000, clf_r__sampling_strategy=auto \n",
      "[CV]  clf_r__class_weight=balanced_subsample, clf_r__n_estimators=1000, clf_r__sampling_strategy=auto, score=0.991, total= 2.0min\n",
      "[CV] clf_r__class_weight=balanced_subsample, clf_r__n_estimators=1000, clf_r__sampling_strategy=auto \n",
      "[CV]  clf_r__class_weight=balanced_subsample, clf_r__n_estimators=1000, clf_r__sampling_strategy=auto, score=0.990, total= 1.9min\n",
      "[CV] clf_r__class_weight=balanced_subsample, clf_r__n_estimators=1000, clf_r__sampling_strategy=auto \n",
      "[CV]  clf_r__class_weight=balanced_subsample, clf_r__n_estimators=1000, clf_r__sampling_strategy=auto, score=0.991, total= 1.9min\n",
      "[CV] clf_r__class_weight=balanced_subsample, clf_r__n_estimators=1000, clf_r__sampling_strategy=auto \n",
      "[CV]  clf_r__class_weight=balanced_subsample, clf_r__n_estimators=1000, clf_r__sampling_strategy=auto, score=0.991, total= 2.0min\n",
      "[CV] clf_r__class_weight=balanced_subsample, clf_r__n_estimators=1000, clf_r__sampling_strategy=auto \n",
      "[CV]  clf_r__class_weight=balanced_subsample, clf_r__n_estimators=1000, clf_r__sampling_strategy=auto, score=0.990, total= 2.0min\n",
      "[CV] clf_r__class_weight=balanced_subsample, clf_r__n_estimators=1000, clf_r__sampling_strategy=all \n",
      "[CV]  clf_r__class_weight=balanced_subsample, clf_r__n_estimators=1000, clf_r__sampling_strategy=all, score=0.939, total= 2.0min\n",
      "[CV] clf_r__class_weight=balanced_subsample, clf_r__n_estimators=1000, clf_r__sampling_strategy=all \n",
      "[CV]  clf_r__class_weight=balanced_subsample, clf_r__n_estimators=1000, clf_r__sampling_strategy=all, score=0.991, total= 2.1min\n",
      "[CV] clf_r__class_weight=balanced_subsample, clf_r__n_estimators=1000, clf_r__sampling_strategy=all \n",
      "[CV]  clf_r__class_weight=balanced_subsample, clf_r__n_estimators=1000, clf_r__sampling_strategy=all, score=0.991, total= 2.1min\n",
      "[CV] clf_r__class_weight=balanced_subsample, clf_r__n_estimators=1000, clf_r__sampling_strategy=all \n",
      "[CV]  clf_r__class_weight=balanced_subsample, clf_r__n_estimators=1000, clf_r__sampling_strategy=all, score=0.991, total= 2.1min\n",
      "[CV] clf_r__class_weight=balanced_subsample, clf_r__n_estimators=1000, clf_r__sampling_strategy=all \n",
      "[CV]  clf_r__class_weight=balanced_subsample, clf_r__n_estimators=1000, clf_r__sampling_strategy=all, score=0.990, total= 2.1min\n",
      "[CV] clf_r__class_weight=balanced_subsample, clf_r__n_estimators=1000, clf_r__sampling_strategy=all \n",
      "[CV]  clf_r__class_weight=balanced_subsample, clf_r__n_estimators=1000, clf_r__sampling_strategy=all, score=0.991, total= 2.1min\n",
      "[CV] clf_r__class_weight=balanced_subsample, clf_r__n_estimators=1000, clf_r__sampling_strategy=all \n",
      "[CV]  clf_r__class_weight=balanced_subsample, clf_r__n_estimators=1000, clf_r__sampling_strategy=all, score=0.992, total= 2.1min\n",
      "[CV] clf_r__class_weight=balanced_subsample, clf_r__n_estimators=1000, clf_r__sampling_strategy=all \n",
      "[CV]  clf_r__class_weight=balanced_subsample, clf_r__n_estimators=1000, clf_r__sampling_strategy=all, score=0.990, total= 2.1min\n"
     ]
    },
    {
     "name": "stderr",
     "output_type": "stream",
     "text": [
      "[Parallel(n_jobs=1)]: Done  96 out of  96 | elapsed: 94.8min finished\n"
     ]
    },
    {
     "data": {
      "text/plain": [
       "GridSearchCV(cv=8,\n",
       "             estimator=Pipeline(steps=[('clf_r',\n",
       "                                        BalancedRandomForestClassifier())]),\n",
       "             param_grid={'clf_r__class_weight': ['balanced',\n",
       "                                                 'balanced_subsample'],\n",
       "                         'clf_r__n_estimators': [100, 500, 1000],\n",
       "                         'clf_r__sampling_strategy': ['auto', 'all']},\n",
       "             verbose=3)"
      ]
     },
     "execution_count": 274,
     "metadata": {},
     "output_type": "execute_result"
    }
   ],
   "source": [
    "model2.fit(X_train, y_train)"
   ]
  },
  {
   "cell_type": "code",
   "execution_count": 275,
   "metadata": {},
   "outputs": [
    {
     "data": {
      "text/plain": [
       "Pipeline(steps=[('clf_r',\n",
       "                 RandomForestClassifier(class_weight='balanced_subsample',\n",
       "                                        n_estimators=1000))])"
      ]
     },
     "execution_count": 275,
     "metadata": {},
     "output_type": "execute_result"
    }
   ],
   "source": [
    "model1 = model.best_estimator_\n",
    "model1"
   ]
  },
  {
   "cell_type": "code",
   "execution_count": 276,
   "metadata": {},
   "outputs": [
    {
     "data": {
      "text/plain": [
       "Pipeline(steps=[('clf_r',\n",
       "                 BalancedRandomForestClassifier(class_weight='balanced_subsample',\n",
       "                                                n_estimators=1000,\n",
       "                                                sampling_strategy='all'))])"
      ]
     },
     "execution_count": 276,
     "metadata": {},
     "output_type": "execute_result"
    }
   ],
   "source": [
    "brfc_model = model2.best_estimator_\n",
    "brfc_model"
   ]
  },
  {
   "cell_type": "markdown",
   "metadata": {},
   "source": [
    "### Pipeline Testing"
   ]
  },
  {
   "cell_type": "code",
   "execution_count": 277,
   "metadata": {},
   "outputs": [],
   "source": [
    "model1_pred = model1.predict(X_test)"
   ]
  },
  {
   "cell_type": "code",
   "execution_count": 278,
   "metadata": {},
   "outputs": [
    {
     "data": {
      "text/plain": [
       "array(['No', 'No', 'No', ..., 'No', 'No', 'No'], dtype='<U3')"
      ]
     },
     "execution_count": 278,
     "metadata": {},
     "output_type": "execute_result"
    }
   ],
   "source": [
    "promotion_yes_no = []\n",
    "for value in model1_pred:\n",
    "    if value == 0:\n",
    "        promotion_yes_no.append(\"No\")\n",
    "    if value == 1:\n",
    "        promotion_yes_no.append(\"Yes\")\n",
    "        \n",
    "promotion = np.asarray(promotion_yes_no)\n",
    "    \n",
    "promotion"
   ]
  },
  {
   "cell_type": "code",
   "execution_count": 279,
   "metadata": {
    "scrolled": true
   },
   "outputs": [
    {
     "name": "stdout",
     "output_type": "stream",
     "text": [
      "0.9793517406962785\n",
      "0.020501138952164006\n",
      "0.01875\n"
     ]
    }
   ],
   "source": [
    "print(accuracy_score(y_test, model1_pred))\n",
    "print(f1_score(y_test, model1_pred))\n",
    "print(recall_score(y_test, model1_pred))"
   ]
  },
  {
   "cell_type": "code",
   "execution_count": 292,
   "metadata": {},
   "outputs": [
    {
     "data": {
      "text/plain": [
       "array([[40781,   389],\n",
       "       [  471,     9]], dtype=int64)"
      ]
     },
     "execution_count": 292,
     "metadata": {},
     "output_type": "execute_result"
    }
   ],
   "source": [
    "confusion_matrix(y_test, model1_pred)"
   ]
  },
  {
   "cell_type": "code",
   "execution_count": 296,
   "metadata": {},
   "outputs": [
    {
     "data": {
      "text/plain": [
       "<sklearn.metrics._plot.confusion_matrix.ConfusionMatrixDisplay at 0x1d0bd560788>"
      ]
     },
     "execution_count": 296,
     "metadata": {},
     "output_type": "execute_result"
    },
    {
     "data": {
      "image/png": "[encoded data removed]",
      "text/plain": [
       "<Figure size 432x288 with 2 Axes>"
      ]
     },
     "metadata": {
      "needs_background": "light"
     },
     "output_type": "display_data"
    }
   ],
   "source": [
    "from sklearn.metrics import plot_confusion_matrix\n",
    "plot_confusion_matrix(model1, X_test, y_test)"
   ]
  },
  {
   "cell_type": "code",
   "execution_count": 280,
   "metadata": {},
   "outputs": [],
   "source": [
    "brfc_model_pred = brfc_model.predict(X_test)"
   ]
  },
  {
   "cell_type": "code",
   "execution_count": 281,
   "metadata": {},
   "outputs": [
    {
     "data": {
      "text/plain": [
       "array(['No', 'No', 'No', ..., 'No', 'No', 'No'], dtype='<U3')"
      ]
     },
     "execution_count": 281,
     "metadata": {},
     "output_type": "execute_result"
    }
   ],
   "source": [
    "promotion_yes_no = []\n",
    "for value in brfc_model_pred:\n",
    "    if value == 0:\n",
    "        promotion_yes_no.append(\"No\")\n",
    "    if value == 1:\n",
    "        promotion_yes_no.append(\"Yes\")\n",
    "        \n",
    "promotion = np.asarray(promotion_yes_no)\n",
    "    \n",
    "promotion"
   ]
  },
  {
   "cell_type": "code",
   "execution_count": 282,
   "metadata": {
    "scrolled": true
   },
   "outputs": [
    {
     "name": "stdout",
     "output_type": "stream",
     "text": [
      "0.9754861944777912\n",
      "0.022966507177033493\n",
      "0.025\n"
     ]
    }
   ],
   "source": [
    "print(accuracy_score(y_test, brfc_model_pred))\n",
    "print(f1_score(y_test, brfc_model_pred))\n",
    "print(recall_score(y_test, brfc_model_pred))"
   ]
  },
  {
   "cell_type": "code",
   "execution_count": 293,
   "metadata": {},
   "outputs": [
    {
     "data": {
      "text/plain": [
       "array([[40617,   553],\n",
       "       [  468,    12]], dtype=int64)"
      ]
     },
     "execution_count": 293,
     "metadata": {},
     "output_type": "execute_result"
    }
   ],
   "source": [
    "confusion_matrix(y_test, brfc_model_pred)"
   ]
  },
  {
   "cell_type": "code",
   "execution_count": 294,
   "metadata": {},
   "outputs": [
    {
     "data": {
      "text/plain": [
       "<sklearn.metrics._plot.confusion_matrix.ConfusionMatrixDisplay at 0x1d0cf58a188>"
      ]
     },
     "execution_count": 294,
     "metadata": {},
     "output_type": "execute_result"
    },
    {
     "data": {
      "image/png": "[encoded data removed]",
      "text/plain": [
       "<Figure size 432x288 with 2 Axes>"
      ]
     },
     "metadata": {
      "needs_background": "light"
     },
     "output_type": "display_data"
    }
   ],
   "source": [
    "plot_confusion_matrix(brfc_model, X_test, y_test)"
   ]
  },
  {
   "cell_type": "markdown",
   "metadata": {},
   "source": [
    "## Test 2"
   ]
  },
  {
   "cell_type": "code",
   "execution_count": 283,
   "metadata": {},
   "outputs": [],
   "source": [
    "def promotion_strategy(df):\n",
    "    '''\n",
    "    INPUT \n",
    "    df - a dataframe with *only* the columns V1 - V7 (same as train_data)\n",
    "\n",
    "    OUTPUT\n",
    "    promotion_df - np.array with the values\n",
    "                   'Yes' or 'No' related to whether or not an \n",
    "                   individual should recieve a promotion \n",
    "                   should be the length of df.shape[0]\n",
    "                \n",
    "    Ex:\n",
    "    INPUT: df\n",
    "    \n",
    "    V1\tV2\t  V3\tV4\tV5\tV6\tV7\n",
    "    2\t30\t-1.1\t1\t1\t3\t2\n",
    "    3\t32\t-0.6\t2\t3\t2\t2\n",
    "    2\t30\t0.13\t1\t1\t4\t2\n",
    "    \n",
    "    OUTPUT: promotion\n",
    "    \n",
    "    array(['Yes', 'Yes', 'No'])\n",
    "    indicating the first two users would recieve the promotion and \n",
    "    the last should not.\n",
    "    ''' \n",
    "    \n",
    "    \"\"\"dummy_df = pd.get_dummies(data=df, columns = ['V1', 'V4', 'V5', 'V6', 'V7'])\n",
    "    X = dummy_df.iloc[:,5:]\n",
    "    y = dummy_df['purchase']\n",
    "    svms = SVMSMOTE(random_state=42)\n",
    "    X, y = svms.fit_resample(X,y)\n",
    "    X_train, X_test, y_train, y_test = train_test_split(X, \n",
    "                                                        y, \n",
    "                                                        test_size=0.2, \n",
    "                                                        random_state=42)\n",
    "    \n",
    "    scaler.fit(X_train)\n",
    "    X_train = scaler.transform(X_train)\n",
    "    X_test = scaler.transform(X_test)\"\"\"\n",
    "    \n",
    "    # rfc = RandomForestClassifier(min_samples_split=3)\n",
    "    \n",
    "    rand_y_pred = model1.predict(df)\n",
    "    my_map = {0: \"No\", 1: \"Yes\"}\n",
    "    promotion = np.vectorize(my_map.get)(rand_y_pred)\n",
    "    \n",
    "    return promotion"
   ]
  },
  {
   "cell_type": "code",
   "execution_count": 284,
   "metadata": {
    "scrolled": false
   },
   "outputs": [
    {
     "name": "stdout",
     "output_type": "stream",
     "text": [
      "Nice job!  See how well your strategy worked on our test data below!\n",
      "\n",
      "Your irr with this strategy is 0.0240.\n",
      "\n",
      "Your nir with this strategy is 18.50.\n",
      "We came up with a model with an irr of 0.0188 and an nir of 189.45 on the test set.\n",
      "\n",
      " How did you do?\n"
     ]
    },
    {
     "data": {
      "text/plain": [
       "(0.024046541693600515, 18.5)"
      ]
     },
     "execution_count": 284,
     "metadata": {},
     "output_type": "execute_result"
    }
   ],
   "source": [
    "test_results(promotion_strategy)"
   ]
  },
  {
   "cell_type": "code",
   "execution_count": 285,
   "metadata": {},
   "outputs": [],
   "source": [
    "def promotion_strategy(df):\n",
    "    '''\n",
    "    INPUT \n",
    "    df - a dataframe with *only* the columns V1 - V7 (same as train_data)\n",
    "\n",
    "    OUTPUT\n",
    "    promotion_df - np.array with the values\n",
    "                   'Yes' or 'No' related to whether or not an \n",
    "                   individual should recieve a promotion \n",
    "                   should be the length of df.shape[0]\n",
    "                \n",
    "    Ex:\n",
    "    INPUT: df\n",
    "    \n",
    "    V1\tV2\t  V3\tV4\tV5\tV6\tV7\n",
    "    2\t30\t-1.1\t1\t1\t3\t2\n",
    "    3\t32\t-0.6\t2\t3\t2\t2\n",
    "    2\t30\t0.13\t1\t1\t4\t2\n",
    "    \n",
    "    OUTPUT: promotion\n",
    "    \n",
    "    array(['Yes', 'Yes', 'No'])\n",
    "    indicating the first two users would recieve the promotion and \n",
    "    the last should not.\n",
    "    '''\n",
    "    blrf_y_pred = brfc_model.predict(df)\n",
    "    my_map = {0: \"No\", 1: \"Yes\"}\n",
    "    promotion = np.vectorize(my_map.get)(blrf_y_pred)\n",
    "    \n",
    "    return promotion"
   ]
  },
  {
   "cell_type": "code",
   "execution_count": 286,
   "metadata": {
    "scrolled": false
   },
   "outputs": [
    {
     "name": "stdout",
     "output_type": "stream",
     "text": [
      "Nice job!  See how well your strategy worked on our test data below!\n",
      "\n",
      "Your irr with this strategy is 0.0143.\n",
      "\n",
      "Your nir with this strategy is -6.25.\n",
      "We came up with a model with an irr of 0.0188 and an nir of 189.45 on the test set.\n",
      "\n",
      " How did you do?\n"
     ]
    },
    {
     "data": {
      "text/plain": [
       "(0.014307283657206765, -6.25)"
      ]
     },
     "execution_count": 286,
     "metadata": {},
     "output_type": "execute_result"
    }
   ],
   "source": [
    "test_results(promotion_strategy)"
   ]
  },
  {
   "cell_type": "markdown",
   "metadata": {},
   "source": [
    "---"
   ]
  },
  {
   "cell_type": "markdown",
   "metadata": {},
   "source": [
    "## Further Exploration"
   ]
  },
  {
   "cell_type": "code",
   "execution_count": 299,
   "metadata": {},
   "outputs": [],
   "source": [
    "import pickle\n",
    "filename1 = 'model1.pkl'\n",
    "pickle.dump(model1, open(filename1, 'wb'))"
   ]
  },
  {
   "cell_type": "code",
   "execution_count": 300,
   "metadata": {},
   "outputs": [],
   "source": [
    "filename2 ='brfc_model.pkl'\n",
    "pickle.dump(brfc_model, open(filename2, 'wb'))"
   ]
  },
  {
   "cell_type": "code",
   "execution_count": 302,
   "metadata": {},
   "outputs": [
    {
     "name": "stdout",
     "output_type": "stream",
     "text": [
      "0.9793517406962785\n"
     ]
    }
   ],
   "source": [
    "loaded_model = pickle.load(open(filename1, 'rb'))\n",
    "result = loaded_model.score(X_test, y_test)\n",
    "print(result)"
   ]
  },
  {
   "cell_type": "code",
   "execution_count": 288,
   "metadata": {},
   "outputs": [],
   "source": [
    "def plot_learning_curve(estimator, title, X, y, axes=None, ylim=None, cv=None,\n",
    "                        n_jobs=None, train_sizes=np.linspace(.1, 1.0, 5)):\n",
    "    \"\"\"\n",
    "    Generate 3 plots: the test and training learning curve, the training\n",
    "    samples vs fit times curve, the fit times vs score curve.\n",
    "\n",
    "    Parameters\n",
    "    ----------\n",
    "    estimator : object type that implements the \"fit\" and \"predict\" methods\n",
    "        An object of that type which is cloned for each validation.\n",
    "\n",
    "    title : string\n",
    "        Title for the chart.\n",
    "\n",
    "    X : array-like, shape (n_samples, n_features)\n",
    "        Training vector, where n_samples is the number of samples and\n",
    "        n_features is the number of features.\n",
    "\n",
    "    y : array-like, shape (n_samples) or (n_samples, n_features), optional\n",
    "        Target relative to X for classification or regression;\n",
    "        None for unsupervised learning.\n",
    "\n",
    "    axes : array of 3 axes, optional (default=None)\n",
    "        Axes to use for plotting the curves.\n",
    "\n",
    "    ylim : tuple, shape (ymin, ymax), optional\n",
    "        Defines minimum and maximum yvalues plotted.\n",
    "\n",
    "    cv : int, cross-validation generator or an iterable, optional\n",
    "        Determines the cross-validation splitting strategy.\n",
    "        Possible inputs for cv are:\n",
    "\n",
    "          - None, to use the default 5-fold cross-validation,\n",
    "          - integer, to specify the number of folds.\n",
    "          - :term:`CV splitter`,\n",
    "          - An iterable yielding (train, test) splits as arrays of indices.\n",
    "\n",
    "        For integer/None inputs, if ``y`` is binary or multiclass,\n",
    "        :class:`StratifiedKFold` used. If the estimator is not a classifier\n",
    "        or if ``y`` is neither binary nor multiclass, :class:`KFold` is used.\n",
    "\n",
    "        Refer :ref:`User Guide <cross_validation>` for the various\n",
    "        cross-validators that can be used here.\n",
    "\n",
    "    n_jobs : int or None, optional (default=None)\n",
    "        Number of jobs to run in parallel.\n",
    "        ``None`` means 1 unless in a :obj:`joblib.parallel_backend` context.\n",
    "        ``-1`` means using all processors. See :term:`Glossary <n_jobs>`\n",
    "        for more details.\n",
    "\n",
    "    train_sizes : array-like, shape (n_ticks,), dtype float or int\n",
    "        Relative or absolute numbers of training examples that will be used to\n",
    "        generate the learning curve. If the dtype is float, it is regarded as a\n",
    "        fraction of the maximum size of the training set (that is determined\n",
    "        by the selected validation method), i.e. it has to be within (0, 1].\n",
    "        Otherwise it is interpreted as absolute sizes of the training sets.\n",
    "        Note that for classification the number of samples usually have to\n",
    "        be big enough to contain at least one sample from each class.\n",
    "        (default: np.linspace(0.1, 1.0, 5))\n",
    "    \"\"\"\n",
    "    if axes is None:\n",
    "        _, axes = plt.subplots(1, 3, figsize=(20, 5))\n",
    "\n",
    "    axes[0].set_title(title)\n",
    "    if ylim is not None:\n",
    "        axes[0].set_ylim(*ylim)\n",
    "    axes[0].set_xlabel(\"Training examples\")\n",
    "    axes[0].set_ylabel(\"Score\")\n",
    "\n",
    "    train_sizes, train_scores, test_scores, fit_times, _ = \\\n",
    "        learning_curve(estimator, X, y, cv=cv, n_jobs=n_jobs,\n",
    "                       train_sizes=train_sizes,\n",
    "                       return_times=True)\n",
    "    train_scores_mean = np.mean(train_scores, axis=1)\n",
    "    train_scores_std = np.std(train_scores, axis=1)\n",
    "    test_scores_mean = np.mean(test_scores, axis=1)\n",
    "    test_scores_std = np.std(test_scores, axis=1)\n",
    "    fit_times_mean = np.mean(fit_times, axis=1)\n",
    "    fit_times_std = np.std(fit_times, axis=1)\n",
    "\n",
    "    # Plot learning curve\n",
    "    axes[0].grid()\n",
    "    axes[0].fill_between(train_sizes, train_scores_mean - train_scores_std,\n",
    "                         train_scores_mean + train_scores_std, alpha=0.1,\n",
    "                         color=\"r\")\n",
    "    axes[0].fill_between(train_sizes, test_scores_mean - test_scores_std,\n",
    "                         test_scores_mean + test_scores_std, alpha=0.1,\n",
    "                         color=\"g\")\n",
    "    axes[0].plot(train_sizes, train_scores_mean, 'o-', color=\"r\",\n",
    "                 label=\"Training score\")\n",
    "    axes[0].plot(train_sizes, test_scores_mean, 'o-', color=\"g\",\n",
    "                 label=\"Cross-validation score\")\n",
    "    axes[0].legend(loc=\"best\")\n",
    "\n",
    "    # Plot n_samples vs fit_times\n",
    "    axes[1].grid()\n",
    "    axes[1].plot(train_sizes, fit_times_mean, 'o-')\n",
    "    axes[1].fill_between(train_sizes, fit_times_mean - fit_times_std,\n",
    "                         fit_times_mean + fit_times_std, alpha=0.1)\n",
    "    axes[1].set_xlabel(\"Training examples\")\n",
    "    axes[1].set_ylabel(\"fit_times\")\n",
    "    axes[1].set_title(\"Scalability of the model\")\n",
    "\n",
    "    # Plot fit_time vs score\n",
    "    axes[2].grid()\n",
    "    axes[2].plot(fit_times_mean, test_scores_mean, 'o-')\n",
    "    axes[2].fill_between(fit_times_mean, test_scores_mean - test_scores_std,\n",
    "                         test_scores_mean + test_scores_std, alpha=0.1)\n",
    "    axes[2].set_xlabel(\"fit_times\")\n",
    "    axes[2].set_ylabel(\"Score\")\n",
    "    axes[2].set_title(\"Performance of the model\")\n",
    "\n",
    "    return plt"
   ]
  },
  {
   "cell_type": "code",
   "execution_count": 289,
   "metadata": {},
   "outputs": [],
   "source": [
    "from sklearn.model_selection import learning_curve\n",
    "from matplotlib.ticker import FuncFormatter"
   ]
  },
  {
   "cell_type": "code",
   "execution_count": 290,
   "metadata": {
    "scrolled": true
   },
   "outputs": [
    {
     "name": "stderr",
     "output_type": "stream",
     "text": [
      "C:\\Users\\ejmason\\AppData\\Local\\Continuum\\anaconda3\\lib\\site-packages\\sklearn\\model_selection\\_validation.py:552: FitFailedWarning: Estimator fit failed. The score on this train-test partition for these parameters will be set to nan. Details: \n",
      "Traceback (most recent call last):\n",
      "  File \"C:\\Users\\ejmason\\AppData\\Local\\Continuum\\anaconda3\\lib\\site-packages\\sklearn\\model_selection\\_validation.py\", line 531, in _fit_and_score\n",
      "    estimator.fit(X_train, y_train, **fit_params)\n",
      "  File \"C:\\Users\\ejmason\\AppData\\Local\\Continuum\\anaconda3\\lib\\site-packages\\imblearn\\ensemble\\_forest.py\", line 548, in fit\n",
      "    for i, (s, t) in enumerate(zip(samplers, trees))\n",
      "  File \"C:\\Users\\ejmason\\AppData\\Local\\Continuum\\anaconda3\\lib\\site-packages\\joblib\\parallel.py\", line 1048, in __call__\n",
      "    if self.dispatch_one_batch(iterator):\n",
      "  File \"C:\\Users\\ejmason\\AppData\\Local\\Continuum\\anaconda3\\lib\\site-packages\\joblib\\parallel.py\", line 866, in dispatch_one_batch\n",
      "    self._dispatch(tasks)\n",
      "  File \"C:\\Users\\ejmason\\AppData\\Local\\Continuum\\anaconda3\\lib\\site-packages\\joblib\\parallel.py\", line 784, in _dispatch\n",
      "    job = self._backend.apply_async(batch, callback=cb)\n",
      "  File \"C:\\Users\\ejmason\\AppData\\Local\\Continuum\\anaconda3\\lib\\site-packages\\joblib\\_parallel_backends.py\", line 208, in apply_async\n",
      "    result = ImmediateResult(func)\n",
      "  File \"C:\\Users\\ejmason\\AppData\\Local\\Continuum\\anaconda3\\lib\\site-packages\\joblib\\_parallel_backends.py\", line 572, in __init__\n",
      "    self.results = batch()\n",
      "  File \"C:\\Users\\ejmason\\AppData\\Local\\Continuum\\anaconda3\\lib\\site-packages\\joblib\\parallel.py\", line 263, in __call__\n",
      "    for func, args, kwargs in self.items]\n",
      "  File \"C:\\Users\\ejmason\\AppData\\Local\\Continuum\\anaconda3\\lib\\site-packages\\joblib\\parallel.py\", line 263, in <listcomp>\n",
      "    for func, args, kwargs in self.items]\n",
      "  File \"C:\\Users\\ejmason\\AppData\\Local\\Continuum\\anaconda3\\lib\\site-packages\\imblearn\\ensemble\\_forest.py\", line 56, in _local_parallel_build_trees\n",
      "    X_resampled, y_resampled = sampler.fit_resample(X, y)\n",
      "  File \"C:\\Users\\ejmason\\AppData\\Local\\Continuum\\anaconda3\\lib\\site-packages\\imblearn\\base.py\", line 80, in fit_resample\n",
      "    self.sampling_strategy, y, self._sampling_type\n",
      "  File \"C:\\Users\\ejmason\\AppData\\Local\\Continuum\\anaconda3\\lib\\site-packages\\imblearn\\utils\\_validation.py\", line 533, in check_sampling_strategy\n",
      "    \" Got {} class instead\".format(np.unique(y).size)\n",
      "ValueError: The target 'y' needs to have more than 1 class. Got 1 class instead\n",
      "\n",
      "  FitFailedWarning)\n",
      "C:\\Users\\ejmason\\AppData\\Local\\Continuum\\anaconda3\\lib\\site-packages\\sklearn\\model_selection\\_validation.py:552: FitFailedWarning: Estimator fit failed. The score on this train-test partition for these parameters will be set to nan. Details: \n",
      "Traceback (most recent call last):\n",
      "  File \"C:\\Users\\ejmason\\AppData\\Local\\Continuum\\anaconda3\\lib\\site-packages\\sklearn\\model_selection\\_validation.py\", line 531, in _fit_and_score\n",
      "    estimator.fit(X_train, y_train, **fit_params)\n",
      "  File \"C:\\Users\\ejmason\\AppData\\Local\\Continuum\\anaconda3\\lib\\site-packages\\imblearn\\ensemble\\_forest.py\", line 548, in fit\n",
      "    for i, (s, t) in enumerate(zip(samplers, trees))\n",
      "  File \"C:\\Users\\ejmason\\AppData\\Local\\Continuum\\anaconda3\\lib\\site-packages\\joblib\\parallel.py\", line 1048, in __call__\n",
      "    if self.dispatch_one_batch(iterator):\n",
      "  File \"C:\\Users\\ejmason\\AppData\\Local\\Continuum\\anaconda3\\lib\\site-packages\\joblib\\parallel.py\", line 866, in dispatch_one_batch\n",
      "    self._dispatch(tasks)\n",
      "  File \"C:\\Users\\ejmason\\AppData\\Local\\Continuum\\anaconda3\\lib\\site-packages\\joblib\\parallel.py\", line 784, in _dispatch\n",
      "    job = self._backend.apply_async(batch, callback=cb)\n",
      "  File \"C:\\Users\\ejmason\\AppData\\Local\\Continuum\\anaconda3\\lib\\site-packages\\joblib\\_parallel_backends.py\", line 208, in apply_async\n",
      "    result = ImmediateResult(func)\n",
      "  File \"C:\\Users\\ejmason\\AppData\\Local\\Continuum\\anaconda3\\lib\\site-packages\\joblib\\_parallel_backends.py\", line 572, in __init__\n",
      "    self.results = batch()\n",
      "  File \"C:\\Users\\ejmason\\AppData\\Local\\Continuum\\anaconda3\\lib\\site-packages\\joblib\\parallel.py\", line 263, in __call__\n",
      "    for func, args, kwargs in self.items]\n",
      "  File \"C:\\Users\\ejmason\\AppData\\Local\\Continuum\\anaconda3\\lib\\site-packages\\joblib\\parallel.py\", line 263, in <listcomp>\n",
      "    for func, args, kwargs in self.items]\n",
      "  File \"C:\\Users\\ejmason\\AppData\\Local\\Continuum\\anaconda3\\lib\\site-packages\\imblearn\\ensemble\\_forest.py\", line 56, in _local_parallel_build_trees\n",
      "    X_resampled, y_resampled = sampler.fit_resample(X, y)\n",
      "  File \"C:\\Users\\ejmason\\AppData\\Local\\Continuum\\anaconda3\\lib\\site-packages\\imblearn\\base.py\", line 80, in fit_resample\n",
      "    self.sampling_strategy, y, self._sampling_type\n",
      "  File \"C:\\Users\\ejmason\\AppData\\Local\\Continuum\\anaconda3\\lib\\site-packages\\imblearn\\utils\\_validation.py\", line 533, in check_sampling_strategy\n",
      "    \" Got {} class instead\".format(np.unique(y).size)\n",
      "ValueError: The target 'y' needs to have more than 1 class. Got 1 class instead\n",
      "\n",
      "  FitFailedWarning)\n",
      "C:\\Users\\ejmason\\AppData\\Local\\Continuum\\anaconda3\\lib\\site-packages\\sklearn\\model_selection\\_validation.py:552: FitFailedWarning: Estimator fit failed. The score on this train-test partition for these parameters will be set to nan. Details: \n",
      "Traceback (most recent call last):\n",
      "  File \"C:\\Users\\ejmason\\AppData\\Local\\Continuum\\anaconda3\\lib\\site-packages\\sklearn\\model_selection\\_validation.py\", line 531, in _fit_and_score\n",
      "    estimator.fit(X_train, y_train, **fit_params)\n",
      "  File \"C:\\Users\\ejmason\\AppData\\Local\\Continuum\\anaconda3\\lib\\site-packages\\imblearn\\ensemble\\_forest.py\", line 548, in fit\n",
      "    for i, (s, t) in enumerate(zip(samplers, trees))\n",
      "  File \"C:\\Users\\ejmason\\AppData\\Local\\Continuum\\anaconda3\\lib\\site-packages\\joblib\\parallel.py\", line 1048, in __call__\n",
      "    if self.dispatch_one_batch(iterator):\n",
      "  File \"C:\\Users\\ejmason\\AppData\\Local\\Continuum\\anaconda3\\lib\\site-packages\\joblib\\parallel.py\", line 866, in dispatch_one_batch\n",
      "    self._dispatch(tasks)\n",
      "  File \"C:\\Users\\ejmason\\AppData\\Local\\Continuum\\anaconda3\\lib\\site-packages\\joblib\\parallel.py\", line 784, in _dispatch\n",
      "    job = self._backend.apply_async(batch, callback=cb)\n",
      "  File \"C:\\Users\\ejmason\\AppData\\Local\\Continuum\\anaconda3\\lib\\site-packages\\joblib\\_parallel_backends.py\", line 208, in apply_async\n",
      "    result = ImmediateResult(func)\n",
      "  File \"C:\\Users\\ejmason\\AppData\\Local\\Continuum\\anaconda3\\lib\\site-packages\\joblib\\_parallel_backends.py\", line 572, in __init__\n",
      "    self.results = batch()\n",
      "  File \"C:\\Users\\ejmason\\AppData\\Local\\Continuum\\anaconda3\\lib\\site-packages\\joblib\\parallel.py\", line 263, in __call__\n",
      "    for func, args, kwargs in self.items]\n",
      "  File \"C:\\Users\\ejmason\\AppData\\Local\\Continuum\\anaconda3\\lib\\site-packages\\joblib\\parallel.py\", line 263, in <listcomp>\n",
      "    for func, args, kwargs in self.items]\n",
      "  File \"C:\\Users\\ejmason\\AppData\\Local\\Continuum\\anaconda3\\lib\\site-packages\\imblearn\\ensemble\\_forest.py\", line 56, in _local_parallel_build_trees\n",
      "    X_resampled, y_resampled = sampler.fit_resample(X, y)\n",
      "  File \"C:\\Users\\ejmason\\AppData\\Local\\Continuum\\anaconda3\\lib\\site-packages\\imblearn\\base.py\", line 80, in fit_resample\n",
      "    self.sampling_strategy, y, self._sampling_type\n",
      "  File \"C:\\Users\\ejmason\\AppData\\Local\\Continuum\\anaconda3\\lib\\site-packages\\imblearn\\utils\\_validation.py\", line 533, in check_sampling_strategy\n",
      "    \" Got {} class instead\".format(np.unique(y).size)\n",
      "ValueError: The target 'y' needs to have more than 1 class. Got 1 class instead\n",
      "\n",
      "  FitFailedWarning)\n"
     ]
    },
    {
     "data": {
      "image/png": "[encoded data removed]",
      "text/plain": [
       "<Figure size 1440x360 with 3 Axes>"
      ]
     },
     "metadata": {
      "needs_background": "light"
     },
     "output_type": "display_data"
    }
   ],
   "source": [
    "plot_learning_curve(blrf, 'balanced random forest', X_train, y_train, cv=6);"
   ]
  },
  {
   "cell_type": "code",
   "execution_count": 115,
   "metadata": {},
   "outputs": [
    {
     "data": {
      "text/plain": [
       "pandas.core.series.Series"
      ]
     },
     "execution_count": 115,
     "metadata": {},
     "output_type": "execute_result"
    }
   ],
   "source": []
  }
 ],
 "metadata": {
  "kernelspec": {
   "display_name": "Python 3",
   "language": "python",
   "name": "python3"
  },
  "language_info": {
   "codemirror_mode": {
    "name": "ipython",
    "version": 3
   },
   "file_extension": ".py",
   "mimetype": "text/x-python",
   "name": "python",
   "nbconvert_exporter": "python",
   "pygments_lexer": "ipython3",
   "version": "3.7.4"
  }
 },
 "nbformat": 4,
 "nbformat_minor": 2
}
